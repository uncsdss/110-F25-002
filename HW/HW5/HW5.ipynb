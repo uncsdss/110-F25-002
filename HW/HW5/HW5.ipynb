{
 "cells": [
  {
   "cell_type": "code",
   "execution_count": null,
   "id": "1304a107",
   "metadata": {
    "deletable": false,
    "editable": false
   },
   "outputs": [],
   "source": [
    "# Initialize Otter\n",
    "import otter\n",
    "grader = otter.Notebook(\"HW5.ipynb\")"
   ]
  },
  {
   "cell_type": "markdown",
   "id": "22d1e54e-16d4-4a59-8d04-889400a18948",
   "metadata": {},
   "source": [
    "# Homework 5: Inference and Hypothesis Testing (50 points)"
   ]
  },
  {
   "cell_type": "markdown",
   "id": "dcb54678-872b-44c8-9ad7-a36758bc742f",
   "metadata": {
    "jp-MarkdownHeadingCollapsed": true
   },
   "source": [
    "## <u>Name:</u> [Your name] and (your onyen)\n",
    "\n",
    "Names and Onyens of fellow students you discussed Homework 5 problems and ideas:\n",
    "\n",
    "- Students: \n",
    "\n",
    "We encourage discussing ideas and brainstorming with your peers, but the final text, code, and comments in this homework assignment MUST be 100% written by you as mentioned in syllabus.\n",
    "\n"
   ]
  },
  {
   "cell_type": "markdown",
   "id": "b75c5943-fdaf-4fbb-b85b-a73a6be1b245",
   "metadata": {},
   "source": [
    "## Problem 1. Getting started on the project proposal (4 points)\n",
    "\n",
    "This question is here to make sure you don't all work on your project proposal a day before. :)))) "
   ]
  },
  {
   "cell_type": "markdown",
   "id": "55b13ce2-ed3e-427c-a105-88aa8dcd284a",
   "metadata": {},
   "source": [
    "- You must pick a dataset as a group. There's no penalty for changing it down the road, but you might as well pick one now!"
   ]
  },
  {
   "cell_type": "markdown",
   "id": "40a2233e-3d58-489c-9571-6f128c3a4ec5",
   "metadata": {},
   "source": [
    "[Write your answer here]"
   ]
  },
  {
   "cell_type": "markdown",
   "id": "82fbda86-4ef6-4492-829c-97762c42dde7",
   "metadata": {},
   "source": [
    "- Conduct individual data exploration: calculate **summary statistics** and create **at least two** basic visualizations of your dataset.\n",
    "  \n",
    "Try to create visualizations that are different from those created by your teammates. "
   ]
  },
  {
   "cell_type": "code",
   "execution_count": null,
   "id": "53c5de32-0caf-46ba-8576-7895f0bf85cd",
   "metadata": {},
   "outputs": [],
   "source": [
    "# To load dataset from a different folder, change the variable fn appropriately.\n",
    "import pandas as pd\n",
    "fn = 'palmer_penguins'\n",
    "data = pd.read_csv(f'~/110-F25/project/{fn}.csv')"
   ]
  },
  {
   "cell_type": "code",
   "execution_count": null,
   "id": "69805e68-9867-4c74-b343-41a0cfccb65f",
   "metadata": {},
   "outputs": [],
   "source": [
    "# Write your code here"
   ]
  },
  {
   "cell_type": "code",
   "execution_count": null,
   "id": "2b8fb938-56fa-49dd-93fe-adde58d0092a",
   "metadata": {},
   "outputs": [],
   "source": [
    "# Write your code here"
   ]
  },
  {
   "cell_type": "code",
   "execution_count": null,
   "id": "b8a547a0-aec4-4dd1-94fd-f01f84a2a4c1",
   "metadata": {},
   "outputs": [],
   "source": [
    "# Write your code here"
   ]
  },
  {
   "cell_type": "markdown",
   "id": "1aa94af3-5918-4ccc-8bf4-e95cf8e6c280",
   "metadata": {},
   "source": [
    "- What did you notice (3~4 sentences)?"
   ]
  },
  {
   "cell_type": "markdown",
   "id": "61309ce3-f1a9-41f8-804f-3e0eab94a7ef",
   "metadata": {},
   "source": [
    "[Write your answer here]"
   ]
  },
  {
   "cell_type": "markdown",
   "id": "686b549c-df95-453b-a5ad-ce6da7dfb00a",
   "metadata": {},
   "source": [
    "## Problem 2. When there are many samples (22 points)\n",
    "\n",
    "In HW4, we sampled 10% of penguins to demonstrate good sampling practices. In this problem, we'll use the same dataset to demonstrate Law of Large Numbers and Central Limit Theorem. "
   ]
  },
  {
   "cell_type": "code",
   "execution_count": null,
   "id": "4669145d-9091-40b4-9cbc-e6cc1cefb0af",
   "metadata": {},
   "outputs": [],
   "source": [
    "# Run this cell\n",
    "import pandas as pd\n",
    "penguins = pd.read_csv('~/110-F25/demos/palmer_penguins.csv')\n",
    "penguins.shape"
   ]
  },
  {
   "cell_type": "markdown",
   "id": "45d6ed5d-47f0-46f2-82ae-2776e3e95ccf",
   "metadata": {},
   "source": [
    "### Problem 2.1 (2 points) Population and sample.\n",
    "Here is our fictional situation. There are exactly 344 penguins left in the world (RIP). You're a researcher camping out in Antarctica, hoping to meet penguins and take their measurements. Due to logistical difficulties, you won't be able to gather all 344 of them in one place and record their characteristics. Select the most appropriate choices to complete the following sentences about this fictional situation. Make edits directly to the text.\n",
    "\n",
    "- 344 penguins are (the population of interest) or (the sample)\n",
    "- The average weight of the 344 penguins is (population mean) or (sample mean)\n",
    "- The average weight of 34 out of 344 penguins is (a parameter) or (a statistic)"
   ]
  },
  {
   "cell_type": "markdown",
   "id": "d5c214be-ef2d-47e4-8483-3e6c81b6fe57",
   "metadata": {},
   "source": [
    "### Problem 2.2 (2 points) Population mean and standard deviation.\n",
    "\n",
    "Caculate the **population mean** and **population standard deviation** of **Body Mass**. Assign them to variables `pop_mean` and `pop_std`."
   ]
  },
  {
   "cell_type": "code",
   "execution_count": null,
   "id": "92af0484-6505-4dd2-b640-58eb0f6e206d",
   "metadata": {
    "tags": [
     "otter_answer_cell"
    ]
   },
   "outputs": [],
   "source": [
    "...\n",
    "pop_mean, pop_std"
   ]
  },
  {
   "cell_type": "code",
   "execution_count": null,
   "id": "1a84cb40",
   "metadata": {
    "deletable": false,
    "editable": false
   },
   "outputs": [],
   "source": [
    "grader.check(\"Q2.2\")"
   ]
  },
  {
   "cell_type": "markdown",
   "id": "79d354fd-aa61-4d1a-aff1-3bf7583c1f03",
   "metadata": {},
   "source": [
    "### Problem 2.3 (6 points) Law of Large Numbers\n",
    "\n",
    "In lecture, we simulated a die roll by sampling from uniform distribution. Here, we will be sampling rows from the penguins table.\n",
    "\n",
    "**(1 points)** Should these rows be sampled with replacement (`replace=True`) or without replacement (`replace=False`) to get closer to the assumptions of LLN? Why?"
   ]
  },
  {
   "cell_type": "markdown",
   "id": "7aad6818-b2e2-4711-ae60-9505002294e6",
   "metadata": {},
   "source": [
    "[Write your answer here]"
   ]
  },
  {
   "cell_type": "markdown",
   "id": "22dc4a7d-cb74-4816-b553-c21271dffa42",
   "metadata": {},
   "source": [
    "**(3 points)** Complete the code below that demostrates LLN on penguins data. Similar to lecture demo, instead of sampling one row at a time inside the for loop, let's:\n",
    "1. sample `max_k` of them all at once, then\n",
    "2. inside the for loop as `k` changes,\n",
    "3. take the mean of first `k` samples.\n",
    "\n",
    "Make sure to have a horizontal line indicating the population mean.\n",
    "\n",
    "Take a look at lecture slides and demo code for help."
   ]
  },
  {
   "cell_type": "code",
   "execution_count": null,
   "id": "27b9ecd0-86b0-4fc1-ab93-2ad62f408be3",
   "metadata": {
    "tags": [
     "otter_answer_cell"
    ]
   },
   "outputs": [],
   "source": [
    "import matplotlib.pyplot as plt\n",
    "import seaborn as sns\n",
    "\n",
    "max_k = 4000  \n",
    "# sample max_k penguins\n",
    "max_k_penguins = ...\n",
    "all_means = []\n",
    "\n",
    "for k in range(1, max_k):\n",
    "    # first k out of max_k penguins\n",
    "    sampled_penguins = ...\n",
    "    # calculate sample mean\n",
    "    sample_mean = ...\n",
    "    all_means.append(sample_mean) # save sample mean\n",
    "\n",
    "fig, ax = plt.subplots(1)\n",
    "sns.scatterplot(x=range(1, max_k), y=all_means, label='sample mean', s=2)\n",
    "ax.set_xlabel('Number of samples')\n",
    "ax.set_ylabel('Mean of observed data')\n",
    "# horizontal line code goes here, replacing ...\n",
    "...\n",
    "ax.legend()"
   ]
  },
  {
   "cell_type": "markdown",
   "id": "040aa45b-df0c-4d36-812a-e57b1e0e87d7",
   "metadata": {},
   "source": [
    "**(2 points).** Why is it enough to measure *some* penguins instead of all 344? How many penguins do you think you'd need to see before your estimate is \"good enough\"? Why?"
   ]
  },
  {
   "cell_type": "markdown",
   "id": "cb6ad375-45ce-4a62-afc7-cd9d10b9f961",
   "metadata": {},
   "source": [
    "[Write your answer here]"
   ]
  },
  {
   "cell_type": "markdown",
   "id": "a40dd766-6829-403f-aa50-890054c8f0cb",
   "metadata": {},
   "source": [
    "### Problem 2.4 (12 points) Central Limit Theorem"
   ]
  },
  {
   "cell_type": "markdown",
   "id": "db522223-f80a-4d2e-849f-72cacb2a0b11",
   "metadata": {},
   "source": [
    "**(3 points)** What we explored in the LLN problem was the idea of sampling Penguins during *one* Antarctica trip. What happens if we made 2, 4, 10, 100s of Antarctica experiments? What can we say about the sample means from all of the different trips?\n",
    "\n",
    "Complete the code below that demostrates CLT on penguins data. It is very similar to lecture demo. Your `num_exp` and `k` can be set to any reasonable number at time of submission."
   ]
  },
  {
   "cell_type": "code",
   "execution_count": null,
   "id": "820cea0f-ab7f-48b1-abda-0066b060f6ae",
   "metadata": {
    "tags": [
     "otter_answer_cell"
    ]
   },
   "outputs": [],
   "source": [
    "import matplotlib.pyplot as plt\n",
    "import seaborn as sns\n",
    "\n",
    "num_exp = 800 # number of times you repeat the experiment\n",
    "\n",
    "k = 80 # number of cute penguins you meet\n",
    "\n",
    "all_means = []\n",
    "\n",
    "for exp in range(num_exp): \n",
    "    # sample k penguins\n",
    "    sampled_penguins = ...\n",
    "    # calculate sample mean\n",
    "    sample_mean = ...\n",
    "    all_means.append(sample_mean)\n",
    "\n",
    "fig, ax = plt.subplots(1)\n",
    "sns.histplot(all_means, label='sample means', stat='density')\n",
    "ax.set_xlabel('Sample mean of body mass')\n",
    "# horizontal line code goes here, replacing ...\n",
    "...\n",
    "ax.legend()\n",
    "\n",
    "#### theoretical distribution according to CLT ####\n",
    "from scipy.stats import norm\n",
    "import numpy as np\n",
    "\n",
    "sigma_sampling = pop_std / np.sqrt(k)\n",
    "\n",
    "xs = np.linspace(min(all_means), max(all_means), 200)\n",
    "ys = norm.pdf(xs, pop_mean, sigma_sampling)\n",
    "ax.plot(xs, ys, 'r-', lw=2, label='CLT approx')\n",
    "ax.legend()\n",
    "########################################\n",
    "\n",
    "print('num_experiment:', num_experiment)\n",
    "print('k (number of penguins):', k)\n",
    "print('mean of sample means:', np.array(all_means).mean().round(1))\n",
    "print('standard deviation of sample means:', np.array(all_means).std().round(1))"
   ]
  },
  {
   "cell_type": "markdown",
   "id": "38b3383e-23cc-4747-b041-bfd39e2d79ef",
   "metadata": {},
   "source": [
    "**(2 points) Varying k** \n",
    "\n",
    "With `num_exp=200` fixed, run the code with different values of `k`, then fill out this table. The numbers are calculated for you in the last two print statements.\n",
    "\n",
    "|k   |  mean (of sample means) | std (of sample means) |\n",
    "| -- | ----------------------- | --------------------- |\n",
    "| 20 |  |  |\n",
    "| 80 |  |  |\n",
    "| 320 |  |   |\n",
    "\n",
    "What trends did you notice? Try to be as detailed as possible."
   ]
  },
  {
   "cell_type": "markdown",
   "id": "1190cc84-c357-42cc-bd93-f03885116778",
   "metadata": {},
   "source": [
    "[Write your answer here]"
   ]
  },
  {
   "cell_type": "markdown",
   "id": "f43c76a2-8dce-42c5-b231-93efd333df9e",
   "metadata": {},
   "source": [
    "**(2 points) Modeling**\n",
    "\n",
    "I propose three models that might fit our observation of std (of sample means): \n",
    "\n",
    "$$1. std \\propto k^{-1}$$\n",
    "$$2. std \\propto k^{-1/2}$$\n",
    "$$3. std \\propto k^{-2}$$\n",
    "\n",
    "Using your previously calculated `pop_mean` value, fill in the table with what `std` values would look like according to the different models. This should feel similar to the ROUSE Age and Weight modeling exercises we did in the previous homework.\n",
    "\n",
    "|k   |  1. pop_mean/k | 2. pop_mean/sqrt(k) | 3. pop_mean/k^2|\n",
    "| -- | ------------| ---------------- | ----------- |\n",
    "| 20 |  |  |   | \n",
    "| 80 |  |  |  | \n",
    "| 320 |  |   |  | \n",
    "\n",
    "Which model fits the data best and why?"
   ]
  },
  {
   "cell_type": "markdown",
   "id": "dbfa290b-7567-47f2-b3fc-61c4b0c377aa",
   "metadata": {},
   "source": [
    "[Write your answer here]"
   ]
  },
  {
   "cell_type": "markdown",
   "id": "b6a47720-4f44-435f-b1cd-af3f9032425e",
   "metadata": {},
   "source": [
    "**(2 points) Varying num_exp** \n",
    "\n",
    "This time with `k=80` fixed, run the code with different values of `num_exp`, then fill out this table. \n",
    "\n",
    "|num_exp   |  mean (of sample means) | std (of sample means) |\n",
    "| -------- | ----------------------- | --------------------- |\n",
    "| 200 |  | |\n",
    "| 400 |  |  |\n",
    "| 800 |  |  |\n",
    "\n",
    "What trends did you notice?"
   ]
  },
  {
   "cell_type": "markdown",
   "id": "427718b4-7a4a-4e73-8994-21c237b5ad67",
   "metadata": {},
   "source": [
    "[Write your answer here]"
   ]
  },
  {
   "cell_type": "markdown",
   "id": "05337dbc-e28a-4f45-81e5-167f2e4ab3d7",
   "metadata": {},
   "source": [
    "**(1 points)** Make a **histogram** of the body mass of all penguins with appropriate labels. This should be the 344 population penguins, not the sampled penguins."
   ]
  },
  {
   "cell_type": "code",
   "execution_count": null,
   "id": "e9fda1d9-f19b-44f3-8b1b-ad67287bbbc7",
   "metadata": {
    "scrolled": true
   },
   "outputs": [],
   "source": [
    "# Your code here"
   ]
  },
  {
   "cell_type": "markdown",
   "id": "acbda09b-03c5-4a08-8591-9c083333ee26",
   "metadata": {},
   "source": [
    "**(2 points) Shape.**  \n",
    "\n",
    "Does this population distribution look **skewed** or **symmetrical**? Does this population distribution look like **Gaussian**? \n",
    "\n",
    "How does it compare with the shape of the **sample mean distribution** we plotted before? Why is that okay or not okay?"
   ]
  },
  {
   "cell_type": "markdown",
   "id": "e43a999d-22b8-4ae2-bbf9-7925ffb7a921",
   "metadata": {},
   "source": [
    "[Write your answer here]"
   ]
  },
  {
   "cell_type": "markdown",
   "id": "eaa46648-1d95-412b-a95e-0bbc79361524",
   "metadata": {},
   "source": [
    "## Problem 3. Loaded question (24 points)\n",
    "\n",
    "In this problem, you'll be analyzing the fairness of a 6-sided die.\n",
    "\n",
    "A street vendor asks you if you'd like to play a game.  The game is:\n",
    "* pay \\$10 to roll a 6-sided die 3 times\n",
    "* if any of those rolls is a 6 he pays you $11.  "
   ]
  },
  {
   "cell_type": "markdown",
   "id": "e2af7f62-eb6e-4fbd-9c9d-80ff6156e1a7",
   "metadata": {},
   "source": [
    "### Problem 3.1 (4 points) Hypothesis Testing.\n",
    "You decide to play the game 20 times, and out of your 60 total rolls of the die, you roll a 6 **four times**.  You start to suspect something is not right, and you wonder if perhaps the die is NOT fair.  In particular, you feel that there might be **less than fair chance** of rolling a 6, even though the street vendor insists it is fair. You decide to conduct a hypothesis test.\n",
    "\n",
    "1) State the null hypothesis for this situation.  Remember, you'll need to be able to \"simulate under the null\".\n",
    "2) State the alternative hypothesis.\n",
    "3) Which of the following statistics would you be appropriate for evaluating these hypotheses?\n",
    "* a) cost to play the game\n",
    "* b) number of 5's rolled\n",
    "* c) proportion of 6's rolled\n",
    "* d) total number of rolls\n",
    "4) What is the value of this statistic for the 20 games you played?  Assign it to `measured_statistic1` in the provided cell. (1 point autograder)"
   ]
  },
  {
   "cell_type": "markdown",
   "id": "f8d7ed16-9f47-4acb-80ce-3820f2982895",
   "metadata": {},
   "source": [
    "*Write your answers to 1-4 here*"
   ]
  },
  {
   "cell_type": "code",
   "execution_count": null,
   "id": "4c7eaf72-34ba-4eea-a701-e8f3534b1408",
   "metadata": {
    "tags": [
     "otter_answer_cell"
    ]
   },
   "outputs": [],
   "source": [
    "# Assign the value of the statistic for the 20 games here\n",
    "measured_statistic1 = ..."
   ]
  },
  {
   "cell_type": "code",
   "execution_count": null,
   "id": "b8543c2e",
   "metadata": {
    "deletable": false,
    "editable": false
   },
   "outputs": [],
   "source": [
    "grader.check(\"Q3.1.4\")"
   ]
  },
  {
   "cell_type": "markdown",
   "id": "e0854a18-fbce-4b61-909e-62ff3676d935",
   "metadata": {},
   "source": [
    "### Problem 3.2 (10 points) Simulating under the null.\n",
    "In this problem, you'll be writing code to simulate the test statistic for 60 rolls, and you'll run that simulation 1000 times. \n",
    "\n",
    "#### Problem 3.2.1 (2 points).\n",
    "First, write a code that returns a `list` named `rolls` containing simulated 6-sided die rolls for 60 rolls. Import whatever Python package you need to do this."
   ]
  },
  {
   "cell_type": "code",
   "execution_count": null,
   "id": "0c0179b5-597d-465c-82ea-90ca980f5487",
   "metadata": {
    "scrolled": true,
    "tags": [
     "otter_answer_cell"
    ]
   },
   "outputs": [],
   "source": [
    "# write your code here\n",
    "...\n",
    "rolls = ...\n",
    "# This is sampling from uniform distribution\n",
    "rolls[:10]"
   ]
  },
  {
   "cell_type": "code",
   "execution_count": null,
   "id": "a2b5b06f",
   "metadata": {
    "deletable": false,
    "editable": false
   },
   "outputs": [],
   "source": [
    "grader.check(\"Q3.2.1\")"
   ]
  },
  {
   "cell_type": "markdown",
   "id": "4ca1afc7-0507-48d1-a8b8-81ade19803d3",
   "metadata": {},
   "source": [
    "#### Problem 3.2.2 (2 points).\n",
    "Next, write code to simulate 1000 times the test statistic for 60 die rolls, and store the test statistic in a table named `statistic1`. "
   ]
  },
  {
   "cell_type": "code",
   "execution_count": null,
   "id": "f63151c2-f20a-4e46-98d5-3b6500f7b268",
   "metadata": {
    "tags": [
     "otter_answer_cell"
    ]
   },
   "outputs": [],
   "source": [
    "import pandas as pd\n",
    "statistic1 = pd.DataFrame(columns=['test statistic'])\n",
    "for simulation in range(1000):\n",
    "    # finish the code below\n",
    "    simulated_rolls = pd.DataFrame(random.choices([1,2,3,4,5,6], k=60), columns=['roll']) # create a 1-column table of randomly simulated rolls\n",
    "    # sixes is an array of True or False. True if roll is 6, False otherwise.\n",
    "    sixes = ...\n",
    "    # calculate the statistic for this simulated data using sixes\n",
    "    sim_t1 = ...\n",
    "    statistic1.loc[len(statistic1)] = [sim_t1] # add simulated result to end of table\n",
    "statistic1"
   ]
  },
  {
   "cell_type": "code",
   "execution_count": null,
   "id": "8db22fa5",
   "metadata": {
    "deletable": false,
    "editable": false
   },
   "outputs": [],
   "source": [
    "grader.check(\"Q3.2.2\")"
   ]
  },
  {
   "cell_type": "markdown",
   "id": "33b764e5-2e50-4843-a1d8-54d37c0b351d",
   "metadata": {},
   "source": [
    "#### Problem 3.2.3 (2 points).\n",
    "Plot the empirical distribution of your statistics simulated under the null.  Plot a vertical line for the value of the measured statistic for your actual games.  Label your plot using the parameter `label=`."
   ]
  },
  {
   "cell_type": "code",
   "execution_count": null,
   "id": "73cdfbb5-594d-40c8-9994-059d09a77482",
   "metadata": {
    "tags": [
     "otter_answer_cell"
    ]
   },
   "outputs": [],
   "source": [
    "# 3. Plot empirical distribution of t1 (under the null)\n",
    "import matplotlib.pyplot as plt\n",
    "fig, ax = plt.subplots(1)\n",
    "# write your code here\n",
    "...\n",
    "ax.legend()"
   ]
  },
  {
   "cell_type": "markdown",
   "id": "343ea52b-b02c-4dde-8089-147b7066ee04",
   "metadata": {},
   "source": [
    "#### Problem 3.2.4 (1 point).\n",
    "Looking at the shape of your distribution, what type of distribution is your simulation data, approximately? We're referring to the distribution of the statistics simulated under the null."
   ]
  },
  {
   "cell_type": "markdown",
   "id": "3c6a991e-c7db-410c-b207-603b7f32da5c",
   "metadata": {},
   "source": [
    "*Write your answer here*"
   ]
  },
  {
   "cell_type": "markdown",
   "id": "6a57699f-d944-4935-a15e-4554ada38159",
   "metadata": {},
   "source": [
    "#### Problem 3.2.5 (2 points).\n",
    "Write code to compute the p-value from the `statistic1` table."
   ]
  },
  {
   "cell_type": "code",
   "execution_count": null,
   "id": "078daeee-a63d-4921-9202-490701b43ae8",
   "metadata": {
    "tags": [
     "otter_answer_cell"
    ]
   },
   "outputs": [],
   "source": [
    "p_value1 = ...\n",
    "p_value1"
   ]
  },
  {
   "cell_type": "code",
   "execution_count": null,
   "id": "f8185331",
   "metadata": {
    "deletable": false,
    "editable": false
   },
   "outputs": [],
   "source": [
    "grader.check(\"Q3.2.5\")"
   ]
  },
  {
   "cell_type": "markdown",
   "id": "19fd1755-e1cc-4995-8170-ced6553c31d3",
   "metadata": {},
   "source": [
    "#### Problem 3.2.6 (1 point).\n",
    "Does your simulation provide evidence against the null?  (yes or no)  If so, is the evidence statistically significant?  Is it extremely statistically significant?  Explain the convention you are using to answer these questions."
   ]
  },
  {
   "cell_type": "markdown",
   "id": "7b02b4c1-7685-4311-9b6e-87aa9ec2cd08",
   "metadata": {},
   "source": [
    "*Write your answers here*"
   ]
  },
  {
   "cell_type": "markdown",
   "id": "dc07b20f-2f45-43e7-8733-a463c3541343",
   "metadata": {},
   "source": [
    "### Problem 3.3 (4 points) Hypothesis testing revisited.\n",
    "Instead of investigating if there is a less than fair chance of rolling a 6 like you just did, now evaluate if there is an **unfair chance** of rolling a 6 (either more likely or less likely than fair).\n",
    "\n",
    "1) State the null hypothesis for this situation.\n",
    "2) State the alternative hypothesis.\n",
    "3) Which of the following statistics would you be appropriate for evaluating these hypotheses?\n",
    "* a) number of 6's rolled in a row\n",
    "* b) abs(proportion of 6's rolled - 1/6)\n",
    "* c) abs(proportion of 6's rolled + 1/6)\n",
    "* d) abs(total number of rolls)\n",
    "4) What is the value of this statistic for the 20 games you played?  Assign it to `measured_statistic2` in the provided cell."
   ]
  },
  {
   "cell_type": "markdown",
   "id": "6b647b80-35b3-47db-bef0-2550ecbe8db8",
   "metadata": {},
   "source": [
    "*Write your answers to 1-4 here*"
   ]
  },
  {
   "cell_type": "code",
   "execution_count": null,
   "id": "521606a8-ebe5-4e95-80de-c2717317e32f",
   "metadata": {
    "tags": [
     "otter_answer_cell"
    ]
   },
   "outputs": [],
   "source": [
    "# Assign your measured statistic here\n",
    "measured_statistic2 = ..."
   ]
  },
  {
   "cell_type": "code",
   "execution_count": null,
   "id": "3f81bbe8",
   "metadata": {
    "deletable": false,
    "editable": false
   },
   "outputs": [],
   "source": [
    "grader.check(\"Q3.3\")"
   ]
  },
  {
   "cell_type": "markdown",
   "id": "466a55e5-d707-4fc8-969c-e816323144f5",
   "metadata": {},
   "source": [
    "### Problem 3.4 (6 points) Simulating under the null revisited\n",
    "\n",
    "#### Problem 3.4.1 (2 points).\n",
    "Now, write code to simulate 1000 times this new test statistic for 60 die rolls, and store the results in a table named `statistic2`.  You can use the same `sample_die()` function you wrote before."
   ]
  },
  {
   "cell_type": "code",
   "execution_count": null,
   "id": "e82e735f-6665-4e4f-9df9-fdf1d3bb10a0",
   "metadata": {
    "tags": [
     "otter_answer_cell"
    ]
   },
   "outputs": [],
   "source": [
    "statistic2 = pd.DataFrame(columns=['test statistic'])\n",
    "\n",
    "for simulation in range(1000):\n",
    "    # finish the code below\n",
    "    simulated_rolls = ...\n",
    "    sixes = ...\n",
    "    sim_t2 = ...\n",
    "    statistic2.loc[len(statistic2)] = [sim_t2] # add simulated result to end of table\n",
    "statistic2"
   ]
  },
  {
   "cell_type": "code",
   "execution_count": null,
   "id": "922986d2",
   "metadata": {
    "deletable": false,
    "editable": false
   },
   "outputs": [],
   "source": [
    "grader.check(\"Q3.4.1.\")"
   ]
  },
  {
   "cell_type": "markdown",
   "id": "fee347bc-a2b9-4805-b50e-955911643600",
   "metadata": {},
   "source": [
    "#### Problem 3.4.2 (2 points).\n",
    "Plot the empirical distribution of your statistics simulated under the null.  Plot a vertical line for the value of the measured statistic for your actual games.  Label your plot using the parameter `label=`."
   ]
  },
  {
   "cell_type": "code",
   "execution_count": null,
   "id": "9678d090-6c9f-45db-a009-7750f8ddc347",
   "metadata": {
    "tags": [
     "otter_answer_cell"
    ]
   },
   "outputs": [],
   "source": [
    "fig, ax = plt.subplots(1)\n",
    "# write your code here\n",
    "...\n",
    "ax.legend()"
   ]
  },
  {
   "cell_type": "markdown",
   "id": "f2220998-193f-444d-b3db-30c89bcaddfd",
   "metadata": {},
   "source": [
    "#### Problem 3.4.3 (1 points).\n",
    "Write code to compute the p-value from the `statistic2` table.\n"
   ]
  },
  {
   "cell_type": "code",
   "execution_count": null,
   "id": "611de61b-1257-4b8f-89ba-0972c46a7a6f",
   "metadata": {
    "tags": [
     "otter_answer_cell"
    ]
   },
   "outputs": [],
   "source": [
    "p_value2 = ...\n",
    "p_value2"
   ]
  },
  {
   "cell_type": "code",
   "execution_count": null,
   "id": "3cfec1b1",
   "metadata": {
    "deletable": false,
    "editable": false
   },
   "outputs": [],
   "source": [
    "grader.check(\"Q3.4.3\")"
   ]
  },
  {
   "cell_type": "markdown",
   "id": "0db719b3-9877-4461-8c29-2949909ef0ad",
   "metadata": {},
   "source": [
    "#### Problem 3.4.4 (1 points).\n",
    "Does your simulation provide evidence against the null?  (yes or no)  If so, is the evidence statistically significant?  Is it extremely statistically significant?  "
   ]
  },
  {
   "cell_type": "markdown",
   "id": "24e1ae33-9fab-4e48-9c08-5790cc0cba83",
   "metadata": {},
   "source": [
    "*Write your answers here*"
   ]
  },
  {
   "cell_type": "markdown",
   "id": "57b44f54-f845-4570-8ac7-ea9c803f7e69",
   "metadata": {},
   "source": [
    "## Submission to Gradescope\n",
    "\n",
    "### Step 1 – Run All Cells and Save\n",
    "- My favorite thing to do in Jupyter Notebook is to click the ⏩️ button on the toolbar. This refreshes the memory, then runs all cells in order.\n",
    "- Then, click **File → Save Notebook** to make sure your notebook file (`.ipynb`) is up to date. Or run `command (or control) + s`.\n",
    "\n",
    "### Step 2 – Export to PDF\n",
    "  1. Choose **File → Print**.\n",
    "  2. In your browser’s print dialog, change the **Destination** to “Save as PDF.”\n",
    "  3. Click **Save** and name the file clearly (e.g., `lab1.pdf`).\n",
    "\n",
    "### Step 3 - Run the Last Cell\n",
    "1. Run the last cell (below)\n",
    "2. Download the zip file to your computer.\n",
    "\n",
    "### Step 4 – Submit to Gradescope\n",
    "- Log into **Gradescope** and open the assignment. You can get there from Canvas assignment as well.\n",
    "- Upload **both files** by highlighting both items and draggin and dropping them to the submission box:\n",
    "  1. Your **`.zip` file** (generated by otter).\n",
    "  2. Your **`.pdf` file** (exported from the notebook).\n",
    "- Make sure your submission is **complete and readable** before clicking submit.\n",
    "\n",
    "### Step 5 – Confirm Your Submission\n",
    "- After submitting, check Gradescope’s preview to ensure your files display properly.\n",
    "- If anything is missing or unreadable, re-export and resubmit before the deadline.\n"
   ]
  },
  {
   "cell_type": "markdown",
   "id": "f0fbec86",
   "metadata": {
    "deletable": false,
    "editable": false
   },
   "source": [
    "## Submission\n",
    "\n",
    "Make sure you have run all cells in your notebook in order before running the cell below, so that all images/graphs appear in the output. The cell below will generate a zip file for you to submit. **Please save before exporting!**\n",
    "\n",
    "Submit PDF to Gradescope Homework5"
   ]
  },
  {
   "cell_type": "code",
   "execution_count": null,
   "id": "810cc303",
   "metadata": {
    "deletable": false,
    "editable": false
   },
   "outputs": [],
   "source": [
    "# Save your notebook first, then run this cell to export your submission.\n",
    "grader.export(pdf=False, run_tests=True)"
   ]
  },
  {
   "cell_type": "markdown",
   "id": "76e279e7",
   "metadata": {},
   "source": [
    " "
   ]
  }
 ],
 "metadata": {
  "kernelspec": {
   "display_name": "Python 3 (ipykernel)",
   "language": "python",
   "name": "python3"
  },
  "language_info": {
   "codemirror_mode": {
    "name": "ipython",
    "version": 3
   },
   "file_extension": ".py",
   "mimetype": "text/x-python",
   "name": "python",
   "nbconvert_exporter": "python",
   "pygments_lexer": "ipython3",
   "version": "3.12.6"
  },
  "otter": {
   "OK_FORMAT": true,
   "tests": {
    "Q2.2": {
     "name": "Q2.2",
     "points": 2,
     "suites": [
      {
       "cases": [
        {
         "code": ">>> assert pop_mean == penguins['Body Mass (g)'].mean()\n>>> assert pop_std == penguins['Body Mass (g)'].std()\n",
         "hidden": false,
         "locked": false
        }
       ],
       "scored": true,
       "setup": "",
       "teardown": "",
       "type": "doctest"
      }
     ]
    },
    "Q3.1.4": {
     "name": "Q3.1.4",
     "points": 1,
     "suites": [
      {
       "cases": [
        {
         "code": ">>> assert measured_statistic1 == 4 / 60\n",
         "hidden": false,
         "locked": false
        }
       ],
       "scored": true,
       "setup": "",
       "teardown": "",
       "type": "doctest"
      }
     ]
    },
    "Q3.2.1": {
     "name": "Q3.2.1",
     "points": 2,
     "suites": [
      {
       "cases": [
        {
         "code": ">>> assert type(rolls) == list\n>>> assert all([type(r) == int for r in rolls])\n>>> assert len(rolls) == 60\n>>> assert all([r <= 6 for r in rolls])\n>>> assert all([r >= 1 for r in rolls])\n",
         "hidden": false,
         "locked": false
        }
       ],
       "scored": true,
       "setup": "",
       "teardown": "",
       "type": "doctest"
      }
     ]
    },
    "Q3.2.2": {
     "name": "Q3.2.2",
     "points": 2,
     "suites": [
      {
       "cases": [
        {
         "code": ">>> assert len(statistic1) == 1000\n>>> assert sum(statistic1['test statistic'] >= 0) == 1000\n>>> assert sum(statistic1['test statistic'] <= 1) == 1000\n>>> assert sixes.equals(simulated_rolls['roll'] == 6)\n>>> assert sim_t1 == sum(sixes) / len(simulated_rolls)\n",
         "hidden": false,
         "locked": false
        }
       ],
       "scored": true,
       "setup": "",
       "teardown": "",
       "type": "doctest"
      }
     ]
    },
    "Q3.2.5": {
     "name": "Q3.2.5",
     "points": 2,
     "suites": [
      {
       "cases": [
        {
         "code": ">>> assert p_value1 == sum(statistic1['test statistic'] <= measured_statistic1) / len(statistic1)\n",
         "hidden": false,
         "locked": false
        }
       ],
       "scored": true,
       "setup": "",
       "teardown": "",
       "type": "doctest"
      }
     ]
    },
    "Q3.3": {
     "name": "Q3.3",
     "points": 1,
     "suites": [
      {
       "cases": [
        {
         "code": ">>> assert measured_statistic2 == abs(4 / 60 - 1 / 6)\n",
         "hidden": false,
         "locked": false
        }
       ],
       "scored": true,
       "setup": "",
       "teardown": "",
       "type": "doctest"
      }
     ]
    },
    "Q3.4.1.": {
     "name": "Q3.4.1.",
     "points": 2,
     "suites": [
      {
       "cases": [
        {
         "code": ">>> assert len(statistic2) == 1000\n>>> assert sum(statistic2['test statistic'] >= 0) == 1000\n>>> assert sum(statistic2['test statistic'] <= 1) == 1000\n>>> assert sixes.equals(simulated_rolls['roll'] == 6)\n>>> assert sim_t2 == abs(sum(sixes) / len(simulated_rolls) - 1 / 6)\n",
         "hidden": false,
         "locked": false
        }
       ],
       "scored": true,
       "setup": "",
       "teardown": "",
       "type": "doctest"
      }
     ]
    },
    "Q3.4.3": {
     "name": "Q3.4.3",
     "points": null,
     "suites": [
      {
       "cases": [
        {
         "code": ">>> assert p_value2 == sum(statistic2['test statistic'] >= measured_statistic2) / len(statistic2)\n",
         "hidden": false,
         "locked": false
        }
       ],
       "scored": true,
       "setup": "",
       "teardown": "",
       "type": "doctest"
      }
     ]
    }
   }
  }
 },
 "nbformat": 4,
 "nbformat_minor": 5
}
