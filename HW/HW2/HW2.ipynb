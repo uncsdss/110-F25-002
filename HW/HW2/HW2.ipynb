{
 "cells": [
  {
   "cell_type": "code",
   "execution_count": null,
   "id": "74e75c18",
   "metadata": {
    "deletable": false,
    "editable": false
   },
   "outputs": [],
   "source": [
    "# Initialize Otter\n",
    "import otter\n",
    "grader = otter.Notebook(\"HW2.ipynb\")"
   ]
  },
  {
   "cell_type": "markdown",
   "id": "8c20b8c1",
   "metadata": {},
   "source": [
    "# Homework 2: Lists, Iteration, and Pandas (50 points)\n",
    "\n",
    "> Late days: see syllabus.\n",
    "\n",
    "We encourage discussing ideas and brainstorming with your peers, but the final text, code, and comments in this homework assignment MUST be 100% written by you as mentioned in syllabus.\n",
    "\n",
    "## Before we start... (0 pt)\n",
    "- Your name:\n",
    "- Onyen:\n",
    "- Collaborators:\n",
    "> \"I have listed all collaborators and complied with the UNC Honor Code.\"\n",
    "\n",
    "\n",
    "The autograder is useful feedback that you should pay attention to, and the autograder gives additional feedback when you submit to Gradescope, so we encourage you to submit as often as you like!  Note that only the last submission will be used for grading.  Also note that passing the autograder for a public test **DOES NOT GUARANTEE** you will get full credit on the problem. See Piazza post about understanding autograder output on Gradescope, hidden vs. public tests.\n",
    "\n",
    "Your code should work for any input, for example whether scores = [1, 3, 5] or scores = [3,10,6,2]. Hard-coded answers will get a 0 after manual inspection even if you got full credit from the autograder in Gradescope. It may be considered Honor Code violation as well based on the grader and instructor's discretion."
   ]
  },
  {
   "cell_type": "markdown",
   "id": "1c5db0fa",
   "metadata": {},
   "source": [
    "## Part A — Warm up (15 pts)"
   ]
  },
  {
   "cell_type": "markdown",
   "id": "95f280b4-ecf4-4517-bd38-bda3af773b69",
   "metadata": {},
   "source": [
    "### A1 (2 pts): Mirror\n",
    "\n",
    "**A1.1 (1 pts)** Assign to variable `s_mirror`, `s` concatenated with its reverse. Use **indexing/slicing**. Your code must work for both cases when `s` is a string or a list.\n",
    "\n",
    "For example, `'abc'` ->  `'abccba'`, or `[1,2,3]`-> `[1,2,3,3,2,1]`."
   ]
  },
  {
   "cell_type": "code",
   "execution_count": null,
   "id": "686a0c71-ed16-4e92-a4dc-4dd0c56b96ab",
   "metadata": {
    "tags": [
     "otter_answer_cell"
    ]
   },
   "outputs": [],
   "source": [
    "s = 'abcd' # try other examples to test, but make sure s = 'abcd' when you save, run & export.\n",
    "s_mirror = ...\n",
    "s_mirror"
   ]
  },
  {
   "cell_type": "code",
   "execution_count": null,
   "id": "487efc6e",
   "metadata": {
    "deletable": false,
    "editable": false
   },
   "outputs": [],
   "source": [
    "grader.check(\"A1.1\")"
   ]
  },
  {
   "cell_type": "markdown",
   "id": "b4658dc8-7bba-4390-94e4-9c7b46bead75",
   "metadata": {},
   "source": [
    "**A1.2 (1 pts)** Assign to variable `s_mirror2`, `s` concatenated with its reverse but without the repeat in the middle. Use **indexing/slicing**. Your code must work for both cases when `s` is a string or a list.\n",
    "\n",
    "For example, `'abc'` ->  `'abcba'`, or `[1,2,3]`-> `[1,2,3,2,1]`."
   ]
  },
  {
   "cell_type": "code",
   "execution_count": null,
   "id": "183d3e80-0369-4297-bf0e-fdd67aae479d",
   "metadata": {
    "tags": [
     "otter_answer_cell"
    ]
   },
   "outputs": [],
   "source": [
    "s = [1,2,3,2]  # try other examples to test, but make sure s = [1,2,3,2] when you save, run & export.\n",
    "s_mirror2 = ...\n",
    "s_mirror2"
   ]
  },
  {
   "cell_type": "code",
   "execution_count": null,
   "id": "5988f642",
   "metadata": {
    "deletable": false,
    "editable": false
   },
   "outputs": [],
   "source": [
    "grader.check(\"A1.2\")"
   ]
  },
  {
   "cell_type": "markdown",
   "id": "b41f108c-e131-49cd-9d65-bf86a23a0a9a",
   "metadata": {},
   "source": [
    "### A2 (4 pts): Playing with Lists\n",
    "\n",
    "**A2.1 (1 pts)** Find and apply the appropriate Python list method to **sort** the elements of the list `scores` from **lowest to highest**: https://www.w3schools.com/python/python_ref_list.asp. \n",
    "\n",
    "For example, `[1, 3, 4, 2]` -> `[1, 2, 3, 4]`."
   ]
  },
  {
   "cell_type": "code",
   "execution_count": null,
   "id": "7fda06a7-c663-4f09-87c5-2ab8f8017b5c",
   "metadata": {
    "tags": [
     "otter_answer_cell"
    ]
   },
   "outputs": [],
   "source": [
    "scores = [50, 60, 80, 10, 20, 30, 40, -10]\n",
    "\n",
    "# Add your code here by replacing ...\n",
    "...\n",
    "\n",
    "scores"
   ]
  },
  {
   "cell_type": "code",
   "execution_count": null,
   "id": "aed95b42",
   "metadata": {
    "deletable": false,
    "editable": false
   },
   "outputs": [],
   "source": [
    "grader.check(\"A2.1\")"
   ]
  },
  {
   "cell_type": "markdown",
   "id": "96a30e7f-544a-4bc3-9048-cabb59f679a3",
   "metadata": {},
   "source": [
    "**A2.2 (1 pts)** You realize that scores don't go below 0, and that you forgot to include score from one assignment, so you decide to fix this error. Using the appropriate **indexing/slicing** and **list methods**, \n",
    "\n",
    "1. Replace -10 with 0, and\n",
    "2. Add a 90.\n",
    "\n",
    "This updated list should still be callsed `scores`."
   ]
  },
  {
   "cell_type": "code",
   "execution_count": null,
   "id": "b8abe06c-d9df-4f4a-a710-be04bb0a9b59",
   "metadata": {
    "tags": [
     "otter_answer_cell"
    ]
   },
   "outputs": [],
   "source": [
    "scores = [-10, 10, 20, 30, 40, 50, 60, 80] # Answer from A2.1 given to you\n",
    "\n",
    "# Add your code here by replacing ...\n",
    "...\n",
    "scores"
   ]
  },
  {
   "cell_type": "code",
   "execution_count": null,
   "id": "74b133ae",
   "metadata": {
    "deletable": false,
    "editable": false
   },
   "outputs": [],
   "source": [
    "grader.check(\"A2.2\")"
   ]
  },
  {
   "cell_type": "markdown",
   "id": "f665c2ab-d989-47a6-9365-e349f7d9fbcc",
   "metadata": {},
   "source": [
    "**A2.3 (1 pts)** Get the **first half** elements of your list using appropriate **indexing/slicing** notation. Assign this to variable `lower_half`. Important note: Your code should work for lists of any length, odd or even.\n",
    "\n",
    "For example, `[1,2,3,4]` -> `[1,2]`, and `[1,2,3]` -> `[1]`.\n",
    "\n",
    "**Hint**: How do you get the number of elements in your list? How do you calculate half of that number? Are there any requirements to the indices in indexing or slicing that you can think of?"
   ]
  },
  {
   "cell_type": "code",
   "execution_count": null,
   "id": "1f6ebca4-814d-4592-89f7-39b4d1dcf5c6",
   "metadata": {
    "tags": [
     "otter_answer_cell"
    ]
   },
   "outputs": [],
   "source": [
    "scores = [0, 10, 20, 30, 40, 50, 60, 80, 90] # Answer from A2.2 given to you\n",
    "\n",
    "lower_half = ...\n",
    "lower_half"
   ]
  },
  {
   "cell_type": "code",
   "execution_count": null,
   "id": "33170c80",
   "metadata": {
    "deletable": false,
    "editable": false
   },
   "outputs": [],
   "source": [
    "grader.check(\"A2.3\")"
   ]
  },
  {
   "cell_type": "markdown",
   "id": "f414bf66-f098-466c-88cd-eb60823e65e5",
   "metadata": {},
   "source": [
    "**A2.4 (1 pts)** Get the **middle half** elements of your list using appropriate **indexing/slicing** notation. Assign this to variable `middle_half`. \n",
    "\n",
    "For example, `[1,2,3,4]` -> `[2,3]`, `[1,2,3,4,5]` -> `[2,3,4]`.\n",
    "\n",
    "You can always assume that `scores` will have at least 4 elements."
   ]
  },
  {
   "cell_type": "code",
   "execution_count": null,
   "id": "ee75c63b-7abd-48ec-91cd-557fb22b6593",
   "metadata": {
    "tags": [
     "otter_answer_cell"
    ]
   },
   "outputs": [],
   "source": [
    "scores = [0, 10, 20, 30, 40, 50, 60, 80, 90] # Answer from A2.2 given to you\n",
    "\n",
    "# Add your code here by replacing ...\n",
    "...\n",
    "\n",
    "middle_half"
   ]
  },
  {
   "cell_type": "code",
   "execution_count": null,
   "id": "9b2f0186",
   "metadata": {
    "deletable": false,
    "editable": false
   },
   "outputs": [],
   "source": [
    "grader.check(\"A2.4\")"
   ]
  },
  {
   "cell_type": "markdown",
   "id": "beb8931c",
   "metadata": {},
   "source": [
    "### A3 (4 pts): Iteration\n",
    "\n",
    "**A3.1 (1 pts)** Print the order and the fruit in the format \n",
    "\n",
    "```Python\n",
    "1 apple\n",
    "2 banana\n",
    "```\n",
    "and so on.\n",
    "\n",
    "Note that we are starting from 1, not 0. \n",
    "\n",
    "You must use a **for loop** with **enumerate**. Your code should work as expected even if the list is modified."
   ]
  },
  {
   "cell_type": "code",
   "execution_count": null,
   "id": "8d35d3d2",
   "metadata": {},
   "outputs": [],
   "source": [
    "fruits = [\"apple\", \"banana\", \"orange\", \"peach\", \"grape\", \"lychee\", \"dragonfruit\"]\n",
    "\n",
    "# Your code here\n"
   ]
  },
  {
   "cell_type": "markdown",
   "id": "be639b9a",
   "metadata": {},
   "source": [
    "**A3.2 (1 pts)** Given a list of exam scores, **count how many are strictly greater than 90** and assign it to variable `num_high_scores`. \n",
    "\n",
    "You must use a **for-loop** and an **if statement**; otherwise you will get a 0 regardless of autograder scores. Your code should work as expected even if the list is modified."
   ]
  },
  {
   "cell_type": "code",
   "execution_count": null,
   "id": "ad07dfff",
   "metadata": {
    "tags": [
     "otter_answer_cell"
    ]
   },
   "outputs": [],
   "source": [
    "scores = [88, 91, 95, 72, 90, 100, 67]\n",
    "\n",
    "# Add your code here by replacing ...\n",
    "\n",
    "...\n",
    "\n",
    "num_high_scores"
   ]
  },
  {
   "cell_type": "code",
   "execution_count": null,
   "id": "2fd17856",
   "metadata": {
    "deletable": false,
    "editable": false
   },
   "outputs": [],
   "source": [
    "grader.check(\"A3.2\")"
   ]
  },
  {
   "cell_type": "markdown",
   "id": "e7bcf7bd",
   "metadata": {},
   "source": [
    "**A3.3 (1 pts)** Count the **total number of vowels** in this text and assign it to variable `num_vowels`. You must use a **for-loop** and an **if** statement, *no* string methods. For this problem, vowels are a,e,i,o,u.\n",
    "\n",
    "Test your code with different `text`s to make sure your code works as expected, but make sure to change it back when you save, run & export."
   ]
  },
  {
   "cell_type": "code",
   "execution_count": null,
   "id": "2e8f2309",
   "metadata": {
    "tags": [
     "otter_answer_cell"
    ]
   },
   "outputs": [],
   "source": [
    "text = 'The University of North Carolina at Chapel Hill is a public research university in Chapel Hill, North Carolina, \\\n",
    "United States. Chartered in 1789, the university first began enrolling students in 1795, leading to its claim to be the oldest \\\n",
    "public university in the United States.' # First two sentences from UNC's Wikipedia page.\n",
    "\n",
    "# Add your code here by replacing ...\n",
    "...\n",
    "num_vowels\n"
   ]
  },
  {
   "cell_type": "code",
   "execution_count": null,
   "id": "a7cd92e5",
   "metadata": {
    "deletable": false,
    "editable": false
   },
   "outputs": [],
   "source": [
    "grader.check(\"A3.3\")"
   ]
  },
  {
   "cell_type": "markdown",
   "id": "c347fb53-e404-4524-bd52-e09b78481510",
   "metadata": {},
   "source": [
    "### A4 (5 pts): Counting Words\n",
    "\n",
    "**A4.1 (1 pts)** Follow these preparation steps using the appropriate **string methods**: https://www.w3schools.com/python/python_ref_string.asp. \n",
    "1. Turn text into all lower case. For example, `'Yes! Hello, thank you.'` -> `'yes! hello, thank you.'`\n",
    "3. Turn text into a list of words based on whitespace. For example, `'yes! hello, thank you.'` -> `['yes!', 'hello,',  'thank',  'you.']`\n",
    "\n",
    "Your final variable should be named `text_list`, which is a list of strings."
   ]
  },
  {
   "cell_type": "code",
   "execution_count": null,
   "id": "1fa52fab-47c8-4ae9-942f-fd8109a79948",
   "metadata": {
    "otter": {
     "tests": [
      "A4.1"
     ]
    },
    "tags": [
     "otter_answer_cell"
    ]
   },
   "outputs": [],
   "source": [
    "text = 'The University of North Carolina at Chapel Hill is a public research university in Chapel Hill, North Carolina, \\\n",
    "United States. Chartered in 1789, the university first began enrolling students in 1795, leading to its claim to be the oldest \\\n",
    "public university in the United States.' \n",
    "\n",
    "# Add your code here by replacing ...\n",
    "...\n",
    "text_list[10:20]"
   ]
  },
  {
   "cell_type": "markdown",
   "id": "06b53fbb-ece1-4bb7-881b-d590671b8b4c",
   "metadata": {},
   "source": [
    "**A4.2 (2pts)** Using the appropriate **string methods**, **for loop** and an **if statement**, remove these punctuations ``#$%&()*+,-./:;<=>@[]^_`{|}~`` from the *ends* of each word in `text_list`. \n",
    "\n",
    "For example, `['yes!', 'hello,',  'thank',  'you.']` ->`['yes', 'hello',  'thank',  'you']`. \n",
    "\n",
    "No need to consider cases where there may be a punctuation in the middle of the word, e.g. email addresses.\n",
    "\n",
    "Your final variable should be named `clean_text`, which is a list of strings."
   ]
  },
  {
   "cell_type": "code",
   "execution_count": null,
   "id": "938098c0-7f23-475c-84bd-11a2815c5379",
   "metadata": {
    "otter": {
     "tests": [
      "A4.2"
     ]
    },
    "tags": [
     "otter_answer_cell"
    ]
   },
   "outputs": [],
   "source": [
    "# Add your code here by replacing ...\n",
    "...\n",
    "clean_text[10:20]"
   ]
  },
  {
   "cell_type": "markdown",
   "id": "b71b5668-cc09-47c4-a1a1-642efa63fd32",
   "metadata": {},
   "source": [
    "**A4.3 (1 pts)** What are the benefits of processing strings this way before further analysis? What are some potential shortcomings that these steps haven't addressed? Name at least one each.\n"
   ]
  },
  {
   "cell_type": "markdown",
   "id": "ff922d90-7edd-4f14-bce8-085dca1ceb3e",
   "metadata": {},
   "source": [
    "[Your answer here]"
   ]
  },
  {
   "cell_type": "markdown",
   "id": "e40ee9b9",
   "metadata": {},
   "source": [
    "**A4.4 (2 pts)**\n",
    "Using the transformed string from earlier question,\n",
    " \n",
    "1. Count the total number of times the word \"university\" and \"hill\" appear by writing the appropriate Python code. Choose your own descriptive variable names.\n",
    "5. Print those two numbers in the following format. For example, if 'university' appears 10 times and 'hill' appears 20 times, your printed message should look like `'university appears 10 times and hill appears 20 times.'`\n",
    "6. Print the total number of words in this text by calling an appropriate Python built-in function (do this outside of the for loop). It should be a very simple one line of code."
   ]
  },
  {
   "cell_type": "code",
   "execution_count": null,
   "id": "cdd10730",
   "metadata": {},
   "outputs": [],
   "source": [
    "# Your code here\n"
   ]
  },
  {
   "cell_type": "markdown",
   "id": "8d269779-942b-4a26-a0d4-fffdf8dba72d",
   "metadata": {},
   "source": [
    "## Part B — Counting Words Applied (14 pts)\n",
    "\n",
    "Let's try some real data analysis! You'll be surprised at how much you can do already after a few weeks of class. We're going to investigate the authorship of the Federalist Papers:\n",
    "\n",
    "    The Federalist Papers is a collection of 85 articles and essays written by Alexander Hamilton, James Madison, and John Jay under the collective pseudonym \"Publius\" to promote the ratification of the Constitution of the United States. \n",
    "\n",
    "Source: https://en.wikipedia.org/wiki/The_Federalist_Papers.\n",
    "\n",
    "    Unfortunately, the Publius moniker proved to be a problem when, years later, questions surfaced about who actually wrote each paper. Seventy-three were allotted to Madison and Hamilton without much controversy, and everyone seemed to agree that John Jay had only written five.\n",
    "\n",
    "    But that left twelve unclaimed.\n",
    "\n",
    "Source: https://priceonomics.com/how-statistics-solved-a-175-year-old-mystery-about/\n",
    "\n",
    "This led to a very interesting *text forensics* project by statisticians in 1959. You don't need to read this article to solve this homework question, but it is a really fun read. My favorite was reading about how they analyzed word counts by printing out the articles, cutting them out on paper, then hand counting (!!). Consider yourselves lucky that you're taking this class with 2025 computers, not 1959...\n",
    "\n",
    "Anyway, these statisticians found that one of the authors use the word \"upon\" a lot more frequently than the others. Our goal today is to see this for ourselves. "
   ]
  },
  {
   "cell_type": "markdown",
   "id": "73f7d300-b196-4fed-bf91-ac012c11d97d",
   "metadata": {},
   "source": [
    "### B0 (0 pts): Getting data"
   ]
  },
  {
   "cell_type": "markdown",
   "id": "799d2a2c-7f3e-4849-a1b8-2f6fff334cdd",
   "metadata": {},
   "source": [
    "First step, I've written code for you that downloads the Federalist Papers text files from the internet. You don't need to understand this code, you just need to run it."
   ]
  },
  {
   "cell_type": "code",
   "execution_count": null,
   "id": "df92c5d4-4401-48db-a8f1-3ff1ef0f7324",
   "metadata": {},
   "outputs": [],
   "source": [
    "# No need to understand. Just run it.\n",
    "\n",
    "import re\n",
    "import requests\n",
    "\n",
    "url = \"https://www.gutenberg.org/cache/epub/1404/pg1404.txt\"\n",
    "text = requests.get(url).text\n",
    "\n",
    "r = re.compile(\n",
    "    r\"^(To the People of the State of New York.*?)(?=^PUBLIUS|^FEDERALIST)\", flags=re.M | re.S\n",
    ")\n",
    "\n",
    "for i, section in enumerate(r.findall(text), 1):\n",
    "    with open(f\"{i}.txt\", \"w\") as f_out:\n",
    "        f_out.write(section) # write to files"
   ]
  },
  {
   "cell_type": "markdown",
   "id": "df85de3a-77c2-4cc8-bc38-3f777dcdd363",
   "metadata": {},
   "source": [
    "Run this next cell to check out one of the files. Change `num` to any number between 1 and 85 to investigate. No need to memorize syntax or understand the intricacies of with + file i/o, but you should get some sense of what's going on."
   ]
  },
  {
   "cell_type": "code",
   "execution_count": null,
   "id": "157a8eb4-6e5e-44da-b78d-2572a97eb2b4",
   "metadata": {},
   "outputs": [],
   "source": [
    "num = 50 # Federalist Paper No.\n",
    "\n",
    "with open(f\"{num}.txt\", \"r\") as f:  # open this file\n",
    "    text = f.read() # read the file content and save it to a variable\n",
    "\n",
    "text[:200] # Check out the first 200 characters of the text"
   ]
  },
  {
   "cell_type": "markdown",
   "id": "b3075503-5081-4121-92a2-144e21b63286",
   "metadata": {},
   "source": [
    "### B1 (1 pts): List + Range\n",
    "\n",
    "Here's what we know about the authorship:\n",
    "\n",
    "- Hamilton definitely wrote 51: Nos. 1, 6–9, 11–13, 15–17, 21–36, 59–61, and 65–85\n",
    "- Madison definitely wrote 17: Nos. 10, 14, 18–20, 37–48\n",
    "- John Jay wrote 5: Nos. 2–5 and 64\n",
    "- Under dispute between Hamilton and Madison: Nos. 49–58 and 62–63\n",
    "\n",
    "Using a combination of **range** and **list**, assign `hamilton_nos` and `madison_nos` to corresponding lists of ints. Make sure every element of your lists is an `int`, and none of them are a `range`."
   ]
  },
  {
   "cell_type": "code",
   "execution_count": null,
   "id": "30b33a02-f84e-4a35-b99d-3fcf50c68910",
   "metadata": {
    "otter": {
     "tests": [
      "B1"
     ]
    },
    "tags": [
     "otter_answer_cell"
    ]
   },
   "outputs": [],
   "source": [
    "hamilton_nos = ...\n",
    "\n",
    "madison_nos = ...\n",
    "\n",
    "print('Hamilton:', hamilton_nos)\n",
    "print()\n",
    "print('Madison:', madison_nos)"
   ]
  },
  {
   "cell_type": "markdown",
   "id": "84be4ead-3200-4f99-b523-bb41fac71e3b",
   "metadata": {},
   "source": [
    "### B2 (3 pts): Counting Upons\n",
    "\n",
    "Now, we will count how many times the word `upon` appears in Hamilton's papers. \n",
    "\n",
    "I'll give you a head start.\n",
    "\n",
    "```Python\n",
    "import pandas as pd\n",
    "\n",
    "counts = ...\n",
    "\n",
    "for i in hamilton_nos:\n",
    "    with open(f\"{i}.txt\", \"r\") as f:\n",
    "        text = f.read()\n",
    "\n",
    "    # Add code at this level of indentation\n",
    "    # 1. Turn text into lower case\n",
    "    # 2. Turn text into list of words\n",
    "    # 3. Count 'upon'\n",
    "    # 4. Update variable counts\n",
    "\n",
    "\n",
    "hamilton = pd.DataFrame(counts, columns=['Upon', 'Word count'], index=hamilton_nos)\n",
    "hamilton # You're welcome to comment this line out after looking at it, or add more cells to inspect the table further.\n",
    "```\n",
    "\n",
    "Your goal is to add code in the two places I pointed out to generate a variable named `counts`.\n",
    "\n",
    "- `counts` is a **list of lists**.\n",
    "- Each element of `counts` is a **list of ints**, which has the format of **[word count of upon in the text, total word count of the text]**.\n",
    "- The provided code at the end turns `counts` into a Pandas DataFrame with appropriate column and row labels after the for loop.\n",
    "\n",
    "For example, let's say Hamilton only wrote two papers. The first one has 10 words, 1 of which is 'upon'. The second one has 15 words, 2 of which are 'upon'. Then, list of lists `counts` should look like the following:\n",
    "\n",
    "```Python\n",
    "[\n",
    "    [1, 10],\n",
    "    [2, 15]\n",
    "]\n",
    "```\n",
    "And `hamilton` table should look like:\n",
    "\n",
    "```Python\n",
    "\tUpon\tWord count\n",
    "1\t1\t10\n",
    "2\t2\t15\n",
    "\n",
    "```\n",
    "\n",
    "This problem directly builds upon **A4**!! Do **not** worry about punctuations for this problem."
   ]
  },
  {
   "cell_type": "code",
   "execution_count": null,
   "id": "de24c302-4255-402c-bb60-954f8caf5974",
   "metadata": {
    "scrolled": true,
    "tags": [
     "otter_answer_cell"
    ]
   },
   "outputs": [],
   "source": [
    "import pandas as pd\n",
    "\n",
    "counts = ...\n",
    "\n",
    "for i in hamilton_nos:\n",
    "    with open(f\"{i}.txt\", \"r\") as f:\n",
    "        text = f.read()\n",
    "    \n",
    "    # Add code at this level of indentation replacing ...\n",
    "    # 1. Turn text into lower case\n",
    "    # 2. Turn text into list of words\n",
    "    # 3. Count 'upon'\n",
    "    # 4. Update variable counts\n",
    "    \n",
    "    ...\n",
    "    \n",
    "hamilton = pd.DataFrame(counts, columns=['Upon', 'Word count'], index=hamilton_nos)\n",
    "#hamilton"
   ]
  },
  {
   "cell_type": "code",
   "execution_count": null,
   "id": "fab79e3c",
   "metadata": {
    "deletable": false,
    "editable": false
   },
   "outputs": [],
   "source": [
    "grader.check(\"B2\")"
   ]
  },
  {
   "cell_type": "markdown",
   "id": "462bac56-8eca-4e79-bae2-815cffd3eb26",
   "metadata": {},
   "source": [
    "### B3 (2 pts): Repeat with Madison\n",
    "\n",
    "Copy your code from B2, then think about which edits you need to make. Your final Pandas DataFrame should be named `madison`."
   ]
  },
  {
   "cell_type": "code",
   "execution_count": null,
   "id": "f4111c56-574b-480a-b2cb-6223a56ebcc3",
   "metadata": {
    "scrolled": true,
    "tags": [
     "otter_answer_cell"
    ]
   },
   "outputs": [],
   "source": [
    "import pandas as pd\n",
    "\n",
    "# Add code here replacing ...\n",
    "\n",
    "..."
   ]
  },
  {
   "cell_type": "code",
   "execution_count": null,
   "id": "d05c7564",
   "metadata": {
    "deletable": false,
    "editable": false
   },
   "outputs": [],
   "source": [
    "grader.check(\"B3\")"
   ]
  },
  {
   "cell_type": "markdown",
   "id": "3be05878-c018-4347-b628-7e40f05bedb4",
   "metadata": {},
   "source": [
    "What is the biggest difference you observe between hamilton and madison tables?"
   ]
  },
  {
   "cell_type": "markdown",
   "id": "b80cad78-b284-4988-898d-beb09f8929e0",
   "metadata": {},
   "source": [
    "[Write your answer here]"
   ]
  },
  {
   "cell_type": "markdown",
   "id": "eb296f7c-6b40-474e-a6da-61bdd4f7455f",
   "metadata": {},
   "source": [
    "### B4 (2 pts): Frequency columns\n",
    " \n",
    "In both tables, add new columns called `Freq`, which calculates their use of the word \"upon\" per 1000 words, rounded to hundredth place."
   ]
  },
  {
   "cell_type": "code",
   "execution_count": null,
   "id": "076b4235-68d7-4f7a-a0f4-54d2f71adf9f",
   "metadata": {
    "scrolled": true,
    "tags": [
     "otter_answer_cell"
    ]
   },
   "outputs": [],
   "source": [
    "# Add code here replacing ...\n",
    "\n",
    "..."
   ]
  },
  {
   "cell_type": "code",
   "execution_count": null,
   "id": "2973a287",
   "metadata": {
    "deletable": false,
    "editable": false
   },
   "outputs": [],
   "source": [
    "grader.check(\"B4\")"
   ]
  },
  {
   "cell_type": "markdown",
   "id": "aacdb673-5aa4-4a77-9b33-459266e99ef2",
   "metadata": {},
   "source": [
    "What purpose does these new frequency columns serve?"
   ]
  },
  {
   "cell_type": "markdown",
   "id": "493aad39-4984-4e4b-89ce-d13cf8bcd18c",
   "metadata": {},
   "source": [
    "[Write your answer here]"
   ]
  },
  {
   "cell_type": "markdown",
   "id": "71f21743-b6c5-499a-9c87-e66e432010aa",
   "metadata": {},
   "source": [
    "### B5 (2 pts): Mystery papers\n",
    "\n",
    "Based on what you've done for Hamilton and Madison papers, repeat the analysis on the 12 disputed papers. You should generate a new table called `mystery` that has the same format as the other two tables, including `Freq` column."
   ]
  },
  {
   "cell_type": "code",
   "execution_count": null,
   "id": "8c9dddd7-6045-4c99-abed-09c658906ee4",
   "metadata": {
    "otter": {
     "tests": [
      "B5"
     ]
    },
    "scrolled": true,
    "tags": [
     "otter_answer_cell"
    ]
   },
   "outputs": [],
   "source": [
    "# Add code here replacing ...\n",
    "\n",
    "..."
   ]
  },
  {
   "cell_type": "markdown",
   "id": "884242ba-8351-4780-ae21-60f3aa6ec450",
   "metadata": {},
   "source": [
    "Based on this information (and this information alone!), who do you think wrote these Mystery papers? Why (1~2 sentences)?"
   ]
  },
  {
   "cell_type": "markdown",
   "id": "839df02c-391d-44c2-8486-d950c28caa93",
   "metadata": {},
   "source": [
    "[Write your answer here]"
   ]
  },
  {
   "cell_type": "markdown",
   "id": "af412be9-eec0-4fb7-9647-c266f6c92a7d",
   "metadata": {},
   "source": [
    "### B6 (2 pts): Cancatenation\n",
    "\n",
    "1. For all three of your tables, add a new column called `Author` that contains authorship information: Hamilton or Madison. For Mystery, name it \"Mystery\" instead of your guess.\n",
    "2. Assign a variable `tables` to a list of the three tables, in any order.\n",
    "3. Run the code `papers = pd.concat(tables)` and observe `papers`."
   ]
  },
  {
   "cell_type": "code",
   "execution_count": null,
   "id": "f02db718-b2ce-4066-be31-ffd86ac380e4",
   "metadata": {
    "tags": [
     "otter_answer_cell"
    ]
   },
   "outputs": [],
   "source": [
    "# Add code here replacing ...\n",
    "\n",
    "...\n",
    "papers = pd.concat(tables)\n",
    "papers"
   ]
  },
  {
   "cell_type": "code",
   "execution_count": null,
   "id": "6a3be523",
   "metadata": {
    "deletable": false,
    "editable": false
   },
   "outputs": [],
   "source": [
    "grader.check(\"B6\")"
   ]
  },
  {
   "cell_type": "markdown",
   "id": "2e579292-4f76-4ffe-96b9-33edcec189a8",
   "metadata": {},
   "source": [
    "What did the code `papers = pd.concat(tables)` do? Why do you think we can put in the three tables in any order? Is this always true?"
   ]
  },
  {
   "cell_type": "markdown",
   "id": "55340ebe-42af-4b48-9270-f81bdb72631c",
   "metadata": {},
   "source": [
    "[Write your answer here]"
   ]
  },
  {
   "cell_type": "markdown",
   "id": "1aa3215c-144b-4422-b36b-87ccfea470b7",
   "metadata": {},
   "source": [
    "### B7 (2 pts): Investigation\n",
    "\n",
    "Using the DataFrame methods you've learned in class, investigate aspects of this table in at least two different ways using sorting, counting, or groupby. Then, write 2~3 sentences about your observations as it relates to authorship of these papers."
   ]
  },
  {
   "cell_type": "code",
   "execution_count": null,
   "id": "8feb3290-3feb-46e6-80d8-f59c3b42fe15",
   "metadata": {},
   "outputs": [],
   "source": [
    "# Write your code here\n"
   ]
  },
  {
   "cell_type": "code",
   "execution_count": null,
   "id": "b8351a32-2e14-426a-a533-29490dac262c",
   "metadata": {},
   "outputs": [],
   "source": [
    "# Write your code here\n"
   ]
  },
  {
   "cell_type": "markdown",
   "id": "dddbd164-38e6-4ee4-9c65-50b0304c0b9d",
   "metadata": {},
   "source": [
    "[Write your answers here]"
   ]
  },
  {
   "cell_type": "markdown",
   "id": "ec99c4a8-4211-44a1-8f72-e15eb8216b2d",
   "metadata": {},
   "source": [
    "## Part C — R.O.U.S.es (9 pts)\n",
    "**R**odents **O**f **U**nusual **S**ize are fabled to be one of the most fearsome creatures you might ever encounter, but accounts of their attributes vary widely.  "
   ]
  },
  {
   "cell_type": "markdown",
   "id": "cb806c08-5073-4cb5-9e70-b8c976bd0f39",
   "metadata": {},
   "source": [
    "### C1 (1 pts): Load table\n",
    "\n",
    "Run the following code to load a table of all known data about R.O.U.S.es. How many attributes or different pieces of information have been measured for R.O.U.S.es?  Assign that number to `num_attributes`."
   ]
  },
  {
   "cell_type": "code",
   "execution_count": null,
   "id": "ac7a4d32-ed9d-4dbd-9ca9-5e8a67802fbb",
   "metadata": {
    "tags": [
     "otter_answer_cell"
    ]
   },
   "outputs": [],
   "source": [
    "import pandas as pd\n",
    "rodents_of_unusual_size = pd.read_csv(\"ROUSes.csv\")\n",
    "rodents_of_unusual_size\n"
   ]
  },
  {
   "cell_type": "code",
   "execution_count": null,
   "id": "c9d60062-8580-4ed3-8e9f-b42225ebe6be",
   "metadata": {
    "otter": {
     "tests": [
      "C1"
     ]
    },
    "tags": [
     "otter_answer_cell"
    ]
   },
   "outputs": [],
   "source": [
    "# write your code here by replacing the \"...\" with your solution\n",
    "\n",
    "...\n",
    "num_attributes\n",
    "\n"
   ]
  },
  {
   "cell_type": "markdown",
   "id": "2493ded9-c55f-4c04-bdf1-5b5243acdc4f",
   "metadata": {},
   "source": [
    "### C2 (1 pts): Boolean Indexing + Counting\n",
    "\n",
    "Write pandas code to compute the number of R.O.U.S.es in the table that are not Female.  Assign that number to `num_not_female`."
   ]
  },
  {
   "cell_type": "code",
   "execution_count": null,
   "id": "e4338142-2b63-4a7b-80f1-e10ecd80ca17",
   "metadata": {
    "otter": {
     "tests": [
      "C2"
     ]
    },
    "tags": [
     "otter_answer_cell"
    ]
   },
   "outputs": [],
   "source": [
    "# write your code here by replacing the \"...\" with your solution\n",
    "...\n",
    "num_not_female\n"
   ]
  },
  {
   "cell_type": "markdown",
   "id": "f4ccee98-b951-4a17-bb0a-d579e12d13ce",
   "metadata": {},
   "source": [
    "### C3 (1 pts): Combining Conditions for Boolean Indexing\n",
    "\n",
    "Write pandas code to compute the number of R.O.U.S.es that are of either 'Sleepy' or 'Playful' temperament.  Assign that number to `num_harmless`."
   ]
  },
  {
   "cell_type": "code",
   "execution_count": null,
   "id": "074aa1cf-0c5d-45ea-90be-95a28d649d1f",
   "metadata": {
    "otter": {
     "tests": [
      "C3"
     ]
    },
    "tags": [
     "otter_answer_cell"
    ]
   },
   "outputs": [],
   "source": [
    "...\n",
    "num_harmless\n"
   ]
  },
  {
   "cell_type": "markdown",
   "id": "6b743764-4559-49d1-88cc-98a900a43c52",
   "metadata": {},
   "source": [
    "### C4 (2 pts): Boolean Indexing + Aggregation\n",
    "\n",
    "Write pandas code to compute the total weight of R.O.U.S.es that are moody and female and over the age of 11.  Assign that number to `total_weight`."
   ]
  },
  {
   "cell_type": "code",
   "execution_count": null,
   "id": "89aa57cf-56bb-43b8-ac18-01c681a508f1",
   "metadata": {
    "otter": {
     "tests": [
      "C4"
     ]
    },
    "tags": [
     "otter_answer_cell"
    ]
   },
   "outputs": [],
   "source": [
    "...\n",
    "total_weight\n"
   ]
  },
  {
   "cell_type": "markdown",
   "id": "8b4710dc-1927-4bef-9853-2b7894d49076",
   "metadata": {},
   "source": [
    "### C5 (2 pts): Sorting\n",
    "\n",
    "Sometimes sorting or grouping the data by an attribute can help to make sense of the data.  Write pandas code to sort the data by `Age`. No need to save or assign the modified table to a variable.  This question will be manually graded."
   ]
  },
  {
   "cell_type": "code",
   "execution_count": null,
   "id": "d45d37a4-79b2-44fe-843e-5dbd361f7cdf",
   "metadata": {},
   "outputs": [],
   "source": [
    "# Write your code here"
   ]
  },
  {
   "cell_type": "markdown",
   "id": "6a993f67-905b-4536-8f3a-4f3cfbeafdb2",
   "metadata": {},
   "source": [
    "With the data sorted by age, what trends do you see in the `Temperament`?  Are there any exceptions to the trends? No need to calculate anything."
   ]
  },
  {
   "cell_type": "markdown",
   "id": "7c23fa57-3019-483e-bb3d-c8f1240a8eb7",
   "metadata": {},
   "source": [
    "_Type your answer here, replacing this text._"
   ]
  },
  {
   "cell_type": "markdown",
   "id": "fd219bc7-ffa7-4ccf-a521-e92389a7f8ad",
   "metadata": {},
   "source": [
    "### C6 (2 pts): Groupby\n",
    "\n",
    "Some people report that real danger from R.O.U.S.es is that they are very uncoordinated and sometimes trip and fall onto people, so `Weight` is actually the attribute which represents the biggest threat. Calculate the mean weight for each temperament. This question will be manually graded.\n",
    "\n",
    "Hint: this is just like a problem we covered in lecture."
   ]
  },
  {
   "cell_type": "code",
   "execution_count": null,
   "id": "f0c34f4b-1f78-449f-91da-304a27ed3cb3",
   "metadata": {},
   "outputs": [],
   "source": [
    "# Write your code here"
   ]
  },
  {
   "cell_type": "markdown",
   "id": "35960539-5f1f-45d8-a90d-aebd719cd03f",
   "metadata": {},
   "source": [
    "What temperament on average would be the most dangerous to encounter?  What temperament on average would be the least dangerous to encounter?"
   ]
  },
  {
   "cell_type": "markdown",
   "id": "c53336e0-c6d7-4cf3-800b-70e6c9df78c9",
   "metadata": {},
   "source": [
    "_Type your answer here, replacing this text._"
   ]
  },
  {
   "cell_type": "markdown",
   "id": "6abeec57-40b5-4641-a4cb-46ee26ba495e",
   "metadata": {},
   "source": [
    "## Part D — Burritos (12 pts).\n",
    "A certain Carolina student from DATA110 is visiting California for Spring Break this year, and they intend to use their newly-mastered Data Science skills to make sure they have some great burritos while they are there.  And the rest of the DATA110 students get this delightful homework problem out of the experience!  The student found some data files with reviews and menu information for some California burrito restauraunts, but unfortunately the data was not nearly as clean as most of what they had dealt with in class, so they had to do some work on the data first."
   ]
  },
  {
   "cell_type": "markdown",
   "id": "bd0dcb71-c048-4cf2-ba9d-9b50b22441ad",
   "metadata": {},
   "source": [
    "### D1 (1 pts): Loading table\n",
    "\n",
    "Write the code to load the file \"burrito_ratings.csv\" into a DataFrame named `burritos`."
   ]
  },
  {
   "cell_type": "code",
   "execution_count": null,
   "id": "e3c88984-2e6e-4e73-ae3a-18ac09ed1f2f",
   "metadata": {
    "tags": [
     "otter_answer_cell"
    ]
   },
   "outputs": [],
   "source": [
    "import pandas as pd\n",
    "pd.options.display.max_colwidth=15\n",
    "\n",
    "burritos = ...\n",
    "\n",
    "burritos"
   ]
  },
  {
   "cell_type": "code",
   "execution_count": null,
   "id": "e571e2b9",
   "metadata": {
    "deletable": false,
    "editable": false
   },
   "outputs": [],
   "source": [
    "grader.check(\"D1\")"
   ]
  },
  {
   "cell_type": "markdown",
   "id": "171fa4da-0450-4050-8481-69e758f9f977",
   "metadata": {},
   "source": [
    "### D2 (1 pts): Mean Cost\n",
    "\n",
    "Write code to calculate average cost of items in the table `burritos` **rounded to the nearest cent**."
   ]
  },
  {
   "cell_type": "code",
   "execution_count": null,
   "id": "489495d4-96fb-48b7-bff1-7b8d23784d9f",
   "metadata": {
    "otter": {
     "tests": [
      "D2"
     ]
    },
    "tags": [
     "otter_answer_cell"
    ]
   },
   "outputs": [],
   "source": [
    "average_cost = ...\n",
    "average_cost"
   ]
  },
  {
   "cell_type": "markdown",
   "id": "28373057-80fe-4076-a9f7-0e28fde884ad",
   "metadata": {},
   "source": [
    "### D3 (2 pts): Top Rated Burritos\n",
    "\n",
    "Make a new table called `top_rated_burritos` that is just like `burritos` but only includes entries that have an Overall rating >= 4.2."
   ]
  },
  {
   "cell_type": "code",
   "execution_count": null,
   "id": "c038a2c5-bebe-4652-913d-1590a02b20c9",
   "metadata": {
    "otter": {
     "tests": [
      "D3"
     ]
    },
    "tags": [
     "otter_answer_cell"
    ]
   },
   "outputs": [],
   "source": [
    "# Write your code here, replacing ...\n",
    "\n",
    "...\n",
    "top_rated_burritos\n",
    "\n"
   ]
  },
  {
   "cell_type": "markdown",
   "id": "3b06337b-e2ba-4af6-b576-a9dde08d6997",
   "metadata": {},
   "source": [
    "### D4 (1 pts): Mean Cost of Top Rated Burritos\n",
    "\n",
    "Write pandas code to compute the average cost of menu item entries that have a Overall rating >= 4.2, again rounded to the nearest cent."
   ]
  },
  {
   "cell_type": "code",
   "execution_count": null,
   "id": "bfd65715-24f2-4b7e-954d-a848657c692d",
   "metadata": {
    "otter": {
     "tests": [
      "D4"
     ]
    },
    "tags": [
     "otter_answer_cell"
    ]
   },
   "outputs": [],
   "source": [
    "# Write your code here, replacing ...\n",
    "\n",
    "...\n",
    "\n",
    "average_cost_top_rated\n",
    "\n"
   ]
  },
  {
   "cell_type": "markdown",
   "id": "fe3c77a6-73e8-4a78-b2e8-321e78f432c6",
   "metadata": {},
   "source": [
    "### D5 (2 pts): Top Rated Asada"
   ]
  },
  {
   "cell_type": "code",
   "execution_count": null,
   "id": "540c9dbb-de0a-4db0-9f8c-1beea4c6a406",
   "metadata": {},
   "outputs": [],
   "source": [
    "# run this cell\n",
    "\n",
    "print(round(average_cost_top_rated-average_cost,2))"
   ]
  },
  {
   "cell_type": "markdown",
   "id": "c482e566-9957-486f-91e2-55a2430308a2",
   "metadata": {},
   "source": [
    "Only 60 cents more for a great burrito instead of an average one...count me in!  But then the student realized, not all the items are the kind of burrito that they like, or even burritos at all!  In particular, the student likes Asada-style burritos, which just have a menu item name containing the word `Asada` (with capital A).  To make sure there are enough choices, the student also decides to lower their standards a little on the rating requirement.  Write code to calculate how many Asada burrito options there are that have a Overall rating > 3.6, and assign this to a variable named `type_rated_Asada_count`\n",
    "\n",
    "**Hint**: You'll need to figure out how to check if a particular word is in a string (there are several ways to do this). Take a look at [https://pandas.pydata.org/docs/reference/api/pandas.Series.str.find.html](https://pandas.pydata.org/docs/reference/api/pandas.Series.str.find.html) for one such way.\n",
    "\n",
    "**Hint**: Your answer does not have to be in a single line of code. In fact, it is better to write multiple lines of code with clear logic rather than to come up with a \"clever one-liner\" that is difficult to understand."
   ]
  },
  {
   "cell_type": "code",
   "execution_count": null,
   "id": "59bf0426-1ab3-4dfc-8a92-289d5c9a624f",
   "metadata": {
    "otter": {
     "tests": [
      "D5"
     ]
    },
    "tags": [
     "otter_answer_cell"
    ]
   },
   "outputs": [],
   "source": [
    "# Write your code here, replacing ...\n",
    "\n",
    "...\n",
    "\n",
    "top_rated_Asada_count"
   ]
  },
  {
   "cell_type": "markdown",
   "id": "ead50efa-53c1-4762-a044-5ac7c0f478ae",
   "metadata": {},
   "source": [
    "### D6 (1 pts): Drop Columns\n",
    "\n",
    "Now, feeling confident in their analysis, the student feels they are armed with the knowledge they will need to have a great burrito experience.  But when their DATA110 professor finds out about what they've been working on, the professor asks them to clean up the data even more so it can be used for future DATA110 classes.  First, they ask the student to use a pandas function to make a new table `burritos_compact` that has the attributes for Google and Yelp scores removed.  Write the code below."
   ]
  },
  {
   "cell_type": "code",
   "execution_count": null,
   "id": "a1d72bf7-148a-44f9-9aeb-c37c836511fa",
   "metadata": {
    "otter": {
     "tests": [
      "D6"
     ]
    },
    "tags": [
     "otter_answer_cell"
    ]
   },
   "outputs": [],
   "source": [
    "burritos_compact = ...\n",
    "burritos_compact"
   ]
  },
  {
   "cell_type": "markdown",
   "id": "1063032a-98eb-4f8b-b60d-8685642d4890",
   "metadata": {},
   "source": [
    "### D7 (2 pts): Adding Columns\n",
    "\n",
    "And finally, the professor asks the student to add one extra attribute to `burritos_compact`.  The attribute should be named `'Value'` which is 100.0 times the Overall rating divided by the item cost, rounded to the nearest integer.  Write the code for `burritos_extravalue` below."
   ]
  },
  {
   "cell_type": "code",
   "execution_count": null,
   "id": "579ffe34-d09f-498d-8dec-94d6e620c7ef",
   "metadata": {
    "otter": {
     "tests": [
      "D7"
     ]
    },
    "scrolled": true,
    "tags": [
     "otter_answer_cell"
    ]
   },
   "outputs": [],
   "source": [
    "# Write your code here, replacing ...\n",
    "\n",
    "...\n",
    "burritos_compact"
   ]
  },
  {
   "cell_type": "markdown",
   "id": "e73bc756-5c4e-47ff-8a8f-24dd0c83dfaf",
   "metadata": {},
   "source": [
    "### D8 (2 pts): Highest Value Item\n",
    "\n",
    "What is the name of the menu item with the highest value?  Credit will only be given for an exact match."
   ]
  },
  {
   "cell_type": "code",
   "execution_count": null,
   "id": "92d04a61-4101-46b0-902d-95b99906d9e5",
   "metadata": {
    "otter": {
     "tests": [
      "D8"
     ]
    },
    "tags": [
     "otter_answer_cell"
    ]
   },
   "outputs": [],
   "source": [
    "# Add your code here, replacing ...\n",
    "...\n",
    "highest_value_item"
   ]
  },
  {
   "cell_type": "markdown",
   "id": "465f4ec5-2eb6-48a9-ac0f-cdf075a94aca",
   "metadata": {},
   "source": [
    "Run this last cell to delete all your txt files in the folder."
   ]
  },
  {
   "cell_type": "code",
   "execution_count": null,
   "id": "d832854b-3561-4fad-a927-7d935b046df1",
   "metadata": {},
   "outputs": [],
   "source": [
    "!rm *.txt "
   ]
  },
  {
   "cell_type": "markdown",
   "id": "93f8fa92-7e0c-4765-9e1d-3705d96c0078",
   "metadata": {},
   "source": [
    "## Submission to Gradescope\n",
    "\n",
    "### Step 1 – Run All Cells and Save\n",
    "- My favorite thing to do in Jupyter Notebook is to click the ⏩️ button on the toolbar. This refreshes the memory, then runs all cells in order.\n",
    "- Then, click **File → Save Notebook** to make sure your notebook file (`.ipynb`) is up to date. Or run `command (or control) + s`.\n",
    "\n",
    "### Step 2 – Export to PDF\n",
    "  1. Choose **File → Print**.\n",
    "  2. In your browser’s print dialog, change the **Destination** to “Save as PDF.”\n",
    "  3. Click **Save** and name the file clearly (e.g., `lab1.pdf`).\n",
    "\n",
    "### Step 3 - Run the Last Cell\n",
    "1. Run the last cell (below)\n",
    "2. Download the zip file to your computer.\n",
    "\n",
    "### Step 4 – Submit to Gradescope\n",
    "- Log into **Gradescope** and open the assignment. You can get there from Canvas assignment as well.\n",
    "- Upload **both files** by highlighting both items and draggin and dropping them to the submission box:\n",
    "  1. Your **`.zip` file** (generated by otter).\n",
    "  2. Your **`.pdf` file** (exported from the notebook).\n",
    "- Make sure your submission is **complete and readable** before clicking submit.\n",
    "\n",
    "### Step 5 – Confirm Your Submission\n",
    "- After submitting, check Gradescope’s preview to ensure your files display properly.\n",
    "- If anything is missing or unreadable, re-export and resubmit before the deadline.\n"
   ]
  },
  {
   "cell_type": "markdown",
   "id": "7fe429d2",
   "metadata": {
    "deletable": false,
    "editable": false
   },
   "source": [
    "## Submission\n",
    "\n",
    "Make sure you have run all cells in your notebook in order before running the cell below, so that all images/graphs appear in the output. The cell below will generate a zip file for you to submit. **Please save before exporting!**\n",
    "\n",
    "Submit zip file and PDF to Gradescope HW2"
   ]
  },
  {
   "cell_type": "code",
   "execution_count": null,
   "id": "cb13c8df",
   "metadata": {
    "deletable": false,
    "editable": false
   },
   "outputs": [],
   "source": [
    "# Save your notebook first, then run this cell to export your submission.\n",
    "grader.export(pdf=False)"
   ]
  },
  {
   "cell_type": "markdown",
   "id": "3b669bad",
   "metadata": {},
   "source": [
    " "
   ]
  }
 ],
 "metadata": {
  "kernelspec": {
   "display_name": "Python 3 (ipykernel)",
   "language": "python",
   "name": "python3"
  },
  "language_info": {
   "codemirror_mode": {
    "name": "ipython",
    "version": 3
   },
   "file_extension": ".py",
   "mimetype": "text/x-python",
   "name": "python",
   "nbconvert_exporter": "python",
   "pygments_lexer": "ipython3",
   "version": "3.12.6"
  },
  "otter": {
   "OK_FORMAT": true,
   "tests": {
    "A1.1": {
     "name": "A1.1",
     "points": 1,
     "suites": [
      {
       "cases": [
        {
         "code": ">>> assert s_mirror == 'abcddcba'\n",
         "hidden": false,
         "locked": false
        }
       ],
       "scored": true,
       "setup": "",
       "teardown": "",
       "type": "doctest"
      }
     ]
    },
    "A1.2": {
     "name": "A1.2",
     "points": 1,
     "suites": [
      {
       "cases": [
        {
         "code": ">>> assert s_mirror2 == [1, 2, 3, 2, 3, 2, 1]\n",
         "hidden": false,
         "locked": false
        }
       ],
       "scored": true,
       "setup": "",
       "teardown": "",
       "type": "doctest"
      }
     ]
    },
    "A2.1": {
     "name": "A2.1",
     "points": 1,
     "suites": [
      {
       "cases": [
        {
         "code": ">>> assert scores == sorted([50, 60, 80, 10, 20, 30, 40, -10])\n",
         "hidden": false,
         "locked": false
        }
       ],
       "scored": true,
       "setup": "",
       "teardown": "",
       "type": "doctest"
      }
     ]
    },
    "A2.2": {
     "name": "A2.2",
     "points": 1,
     "suites": [
      {
       "cases": [
        {
         "code": ">>> assert scores == [0, 10, 20, 30, 40, 50, 60, 80, 90]\n",
         "hidden": false,
         "locked": false
        }
       ],
       "scored": true,
       "setup": "",
       "teardown": "",
       "type": "doctest"
      }
     ]
    },
    "A2.3": {
     "name": "A2.3",
     "points": 1,
     "suites": [
      {
       "cases": [
        {
         "code": ">>> assert lower_half == [0, 10, 20, 30]\n",
         "hidden": false,
         "locked": false
        }
       ],
       "scored": true,
       "setup": "",
       "teardown": "",
       "type": "doctest"
      }
     ]
    },
    "A2.4": {
     "name": "A2.4",
     "points": 1,
     "suites": [
      {
       "cases": [
        {
         "code": ">>> assert middle_half == [20, 30, 40, 50, 60]\n",
         "hidden": false,
         "locked": false
        }
       ],
       "scored": true,
       "setup": "",
       "teardown": "",
       "type": "doctest"
      }
     ]
    },
    "A3.2": {
     "name": "A3.2",
     "points": 1,
     "suites": [
      {
       "cases": [
        {
         "code": ">>> assert num_high_scores == 3\n",
         "hidden": false,
         "locked": false
        }
       ],
       "scored": true,
       "setup": "",
       "teardown": "",
       "type": "doctest"
      }
     ]
    },
    "A3.3": {
     "name": "A3.3",
     "points": 1,
     "suites": [
      {
       "cases": [
        {
         "code": ">>> assert num_vowels == 80\n",
         "hidden": false,
         "locked": false
        }
       ],
       "scored": true,
       "setup": "",
       "teardown": "",
       "type": "doctest"
      }
     ]
    },
    "A4.1": {
     "name": "A4.1",
     "points": 1,
     "suites": [
      {
       "cases": [],
       "scored": true,
       "setup": "",
       "teardown": "",
       "type": "doctest"
      }
     ]
    },
    "A4.2": {
     "name": "A4.2",
     "points": 1,
     "suites": [
      {
       "cases": [],
       "scored": true,
       "setup": "",
       "teardown": "",
       "type": "doctest"
      }
     ]
    },
    "B1": {
     "name": "B1",
     "points": 1,
     "suites": [
      {
       "cases": [],
       "scored": true,
       "setup": "",
       "teardown": "",
       "type": "doctest"
      }
     ]
    },
    "B2": {
     "name": "B2",
     "points": 3,
     "suites": [
      {
       "cases": [
        {
         "code": ">>> nos = [1] + list(range(6, 10)) + list(range(11, 14)) + list(range(15, 18)) + list(range(21, 37)) + list(range(59, 62)) + list(range(65, 86))\n>>> import pandas as pd\n>>> ans_counts = []\n>>> for i in nos:\n...     with open(f'{i}.txt', 'r') as f:\n...         text = f.read()\n...     text = text.lower().split()\n...     count = 0\n...     for w in text:\n...         if w == 'upon':\n...             count += 1\n...     ans_counts.append([count, len(text)])\n>>> ans = pd.DataFrame(ans_counts, columns=['Upon', 'Word count'], index=nos)\n>>> assert hamilton.shape == ans.shape\n>>> assert counts == ans_counts\n>>> assert hamilton.equals(ans)\n",
         "hidden": false,
         "locked": false
        }
       ],
       "scored": true,
       "setup": "",
       "teardown": "",
       "type": "doctest"
      }
     ]
    },
    "B3": {
     "name": "B3",
     "points": 1,
     "suites": [
      {
       "cases": [
        {
         "code": ">>> nos = [10, 14] + list(range(18, 21)) + list(range(37, 49))\n>>> import pandas as pd\n>>> ans_counts = []\n>>> for i in nos:\n...     with open(f'{i}.txt', 'r') as f:\n...         text = f.read()\n...     text = text.lower().split()\n...     count = 0\n...     for w in text:\n...         if w == 'upon':\n...             count += 1\n...     ans_counts.append([count, len(text)])\n>>> ans = pd.DataFrame(ans_counts, columns=['Upon', 'Word count'], index=nos)\n>>> assert madison.shape == ans.shape\n>>> assert counts == ans_counts\n>>> assert madison.equals(ans)\n",
         "hidden": false,
         "locked": false
        }
       ],
       "scored": true,
       "setup": "",
       "teardown": "",
       "type": "doctest"
      }
     ]
    },
    "B4": {
     "name": "B4",
     "points": 1,
     "suites": [
      {
       "cases": [
        {
         "code": ">>> assert 'Freq' in hamilton\n>>> assert 'Freq' in madison\n>>> assert hamilton.loc[17, 'Freq'] == 3.82\n>>> assert hamilton.loc[82, 'Freq'] == 2.6\n>>> assert madison.loc[38, 'Freq'] == 1.2\n>>> assert madison.loc[41, 'Freq'] == 0.0\n",
         "hidden": false,
         "locked": false
        }
       ],
       "scored": true,
       "setup": "",
       "teardown": "",
       "type": "doctest"
      }
     ]
    },
    "B5": {
     "name": "B5",
     "points": 1,
     "suites": [
      {
       "cases": [],
       "scored": true,
       "setup": "",
       "teardown": "",
       "type": "doctest"
      }
     ]
    },
    "B6": {
     "name": "B6",
     "points": 1,
     "suites": [
      {
       "cases": [
        {
         "code": ">>> assert 'Author' in papers\n>>> assert sum(papers.index) == 3577\n>>> assert list(papers.value_counts('Author').values) == [51, 17, 12]\n",
         "hidden": false,
         "locked": false
        }
       ],
       "scored": true,
       "setup": "",
       "teardown": "",
       "type": "doctest"
      }
     ]
    },
    "C1": {
     "name": "C1",
     "points": 1,
     "suites": [
      {
       "cases": [],
       "scored": true,
       "setup": "",
       "teardown": "",
       "type": "doctest"
      }
     ]
    },
    "C2": {
     "name": "C2",
     "points": 1,
     "suites": [
      {
       "cases": [],
       "scored": true,
       "setup": "",
       "teardown": "",
       "type": "doctest"
      }
     ]
    },
    "C3": {
     "name": "C3",
     "points": 1,
     "suites": [
      {
       "cases": [],
       "scored": true,
       "setup": "",
       "teardown": "",
       "type": "doctest"
      }
     ]
    },
    "C4": {
     "name": "C4",
     "points": 2,
     "suites": [
      {
       "cases": [],
       "scored": true,
       "setup": "",
       "teardown": "",
       "type": "doctest"
      }
     ]
    },
    "D1": {
     "name": "D1",
     "points": 1,
     "suites": [
      {
       "cases": [
        {
         "code": ">>> assert type(burritos) == pd.DataFrame\n>>> assert burritos.shape == (212, 6)\n",
         "hidden": false,
         "locked": false
        }
       ],
       "scored": true,
       "setup": "",
       "teardown": "",
       "type": "doctest"
      }
     ]
    },
    "D2": {
     "name": "D2",
     "points": 1,
     "suites": [
      {
       "cases": [],
       "scored": true,
       "setup": "",
       "teardown": "",
       "type": "doctest"
      }
     ]
    },
    "D3": {
     "name": "D3",
     "points": 2,
     "suites": [
      {
       "cases": [],
       "scored": true,
       "setup": "",
       "teardown": "",
       "type": "doctest"
      }
     ]
    },
    "D4": {
     "name": "D4",
     "points": 1,
     "suites": [
      {
       "cases": [],
       "scored": true,
       "setup": "",
       "teardown": "",
       "type": "doctest"
      }
     ]
    },
    "D5": {
     "name": "D5",
     "points": 2,
     "suites": [
      {
       "cases": [],
       "scored": true,
       "setup": "",
       "teardown": "",
       "type": "doctest"
      }
     ]
    },
    "D6": {
     "name": "D6",
     "points": 1,
     "suites": [
      {
       "cases": [],
       "scored": true,
       "setup": "",
       "teardown": "",
       "type": "doctest"
      }
     ]
    },
    "D7": {
     "name": "D7",
     "points": 2,
     "suites": [
      {
       "cases": [],
       "scored": true,
       "setup": "",
       "teardown": "",
       "type": "doctest"
      }
     ]
    },
    "D8": {
     "name": "D8",
     "points": 2,
     "suites": [
      {
       "cases": [],
       "scored": true,
       "setup": "",
       "teardown": "",
       "type": "doctest"
      }
     ]
    }
   }
  }
 },
 "nbformat": 4,
 "nbformat_minor": 5
}
