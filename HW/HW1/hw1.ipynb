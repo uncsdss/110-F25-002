{
 "cells": [
  {
   "cell_type": "code",
   "execution_count": null,
   "id": "4b9bf1b7",
   "metadata": {
    "deletable": false,
    "editable": false
   },
   "outputs": [],
   "source": [
    "# Initialize Otter\n",
    "import otter\n",
    "grader = otter.Notebook(\"hw1.ipynb\")"
   ]
  },
  {
   "cell_type": "markdown",
   "id": "a9e161ec",
   "metadata": {},
   "source": [
    "# Homework 1: Intro to Data Science & Programming (50 points)\n",
    "\n",
    "> Collaboration: Discuss concepts, but write your **own** code/answers and list collaborators.  \n",
    "> Late days: see syllabus.\n",
    "\n",
    "## Before we start... (1 pt)\n",
    "- Your name:\n",
    "- Onyen:\n",
    "- Collaborators:\n",
    "> \"I have listed all collaborators and complied with the UNC Honor Code.\""
   ]
  },
  {
   "cell_type": "markdown",
   "id": "dc40eb6f",
   "metadata": {},
   "source": [
    "## Part A — What is Data Science? (7 pts)\n",
    "\n",
    "**A1 (4 pts).** For each scenario, pick the **most** relevant data science task and give a **1-sentence justification**. If you have multiple candidates, just pick one closest answer.\n",
    "  \n",
    "Choices: **Visualization**, **Probability & Summary Statistics**, **Inference**, **Prediction**, **Data Ethics**\n",
    "\n",
    "\n",
    "1) A city dashboard shows a heatmap of pothole reports by neighborhood.  \n",
    "2) A researcher calculates the average daily water usage per household.  \n",
    "3) A hospital tests if a new drug improves recovery time compared to current standard.  \n",
    "4) A music streaming app suggests the next song you might like.  \n",
    "5) A company considers tracking employees’ keystrokes to “boost productivity.”  \n",
    "6) A news outlet explains 2024 election turnout patterns using charts.\n",
    "\n",
    "*Answer format:*  \n",
    "- Scenario #: **Task**. *Your 1 sentence why.*\n",
    "\n",
    "3 points for 6 answers + 1 point for Markdown formatting."
   ]
  },
  {
   "cell_type": "markdown",
   "id": "e6b80469-eae9-4a25-88b2-203598d07bee",
   "metadata": {},
   "source": [
    "*Write answers here by double clicking and editing this markdown cell in the prescribed format.* "
   ]
  },
  {
   "cell_type": "markdown",
   "id": "8f45234f-f5ad-4cd4-be3f-29ea0a4864cd",
   "metadata": {},
   "source": [
    "**A2 (2 pts).** Choose **two** different data sceince tasks from above and give a real-world example for each based on your interests (1–2 sentences each)."
   ]
  },
  {
   "cell_type": "markdown",
   "id": "b07e54cb-acde-468b-9063-3f04b93022c9",
   "metadata": {},
   "source": [
    "*Write answers here by double clicking and editing this markdown cell.* "
   ]
  },
  {
   "cell_type": "markdown",
   "id": "229a763c-888b-4a61-82db-1fc815531b8d",
   "metadata": {},
   "source": [
    "**A3 (1 pt)**. Which data science task are you most looking forward to learn about and why (1-2 sentences)?  "
   ]
  },
  {
   "cell_type": "markdown",
   "id": "298dc748-2fa0-4b0d-9c1a-bdfefedb7fd7",
   "metadata": {},
   "source": [
    "*Write answers here by double clicking and editing this markdown cell.* "
   ]
  },
  {
   "cell_type": "markdown",
   "id": "5f58f719",
   "metadata": {},
   "source": [
    "## Part B — Data Modalities and Tables (8 pts)"
   ]
  },
  {
   "cell_type": "code",
   "execution_count": null,
   "id": "a33f5b5a-c6a9-4084-bf99-8f1bd7f9c141",
   "metadata": {},
   "outputs": [],
   "source": [
    "# Run this cell! You don't need to understand what this does yet.\n",
    "\n",
    "import pandas as pd\n",
    "\n",
    "states = pd.read_csv('us-state-populations.csv', index_col=0)"
   ]
  },
  {
   "cell_type": "code",
   "execution_count": null,
   "id": "a5f263d0-8f07-4e6d-a5ee-ee5d3146d540",
   "metadata": {
    "scrolled": true
   },
   "outputs": [],
   "source": [
    "states \n",
    "\n",
    "# If you're done with this problem and this table is getting in your way, comment out the line OR \n",
    "# follow these instructions to collapse the output:\n",
    "# 1. Click the blue vertical bar located to the left of the output cell. \n",
    "# 2. This will collapse the output, displaying only a small indicator. \n",
    "# 3. Clicking it again will expand the output."
   ]
  },
  {
   "cell_type": "markdown",
   "id": "00962d44-15c1-4251-a9e6-9c7302ede432",
   "metadata": {},
   "source": [
    "**B1 (2 pts).** Answer the following questions about **rows** and **columns** of the `states` table above.\n",
    "\n",
    "- Rows represent: __________  \n",
    "- Columns represent: __________\n",
    "- Number of rows: __________  \n",
    "- Number of columns: __________"
   ]
  },
  {
   "cell_type": "markdown",
   "id": "a6b9336f-7d86-4c3f-b5d2-88ccfe66a67b",
   "metadata": {},
   "source": [
    "**B2 (3 pts).** Different types of data representations are appropriate for different situations. Describe which of the following three modalities would be best for the situations below and explain why (1-2 sentences), using each modality exactly once.\n",
    "\n",
    "Choices: A) Time-series table, B) Image, C) Text\n",
    "\n",
    "1. For every show, Netflix has a description of the show along with the names of the actors and episode titles.\n",
    "2. For every show, Netflix provides a thumbnail to help users visualize the content.\n",
    "3. For a particular user, every day Neflix logs the number of times they login, number of videos they open, and the total time spent in the application.\n",
    "\n"
   ]
  },
  {
   "cell_type": "markdown",
   "id": "16d62404-95f8-4fd8-b00c-08687b809141",
   "metadata": {},
   "source": [
    "*Write answers here by double clicking and editing this markdown cell.*\n",
    "\n",
    "1.\n",
    "2.\n",
    "3."
   ]
  },
  {
   "cell_type": "markdown",
   "id": "bee0a936-3893-4f94-bc8e-9f3a34218e5a",
   "metadata": {},
   "source": [
    "**B3 (3 pts).** Make a tiny **bag-of-words** table for these sentences:  \n",
    "> “Data science is fun. Data is everywhere. Isn't science fun?”\n",
    "\n",
    "Your table should have 3 rows for 3 sentences.\n",
    "\n",
    "How to make a table in Markdown: https://www.codecademy.com/resources/docs/markdown/tables.  "
   ]
  },
  {
   "cell_type": "markdown",
   "id": "5473ecec-3cc7-43ed-b153-255e58e2e754",
   "metadata": {},
   "source": [
    "*Write answers here by double clicking and editing this markdown cell.*"
   ]
  },
  {
   "cell_type": "markdown",
   "id": "812158a6",
   "metadata": {},
   "source": [
    "## Part C — Python Basics: Variables, Types, Built-ins (14 pts)"
   ]
  },
  {
   "cell_type": "markdown",
   "id": "da203850-930a-4d3c-8f09-ac0a94a9a47d",
   "metadata": {},
   "source": [
    "**C1 (4 pts)**. Using each exactly once, which basic data type (`int`, `float`, `bool`, or `str`) would work for the following four kinds of information related to a home listing? No need to add explanation.\n",
    "\n",
    "1. Is a single family residence\n",
    "2. Lot size in acres\n",
    "3. Street name and address\n",
    "4. Zip code\n"
   ]
  },
  {
   "cell_type": "markdown",
   "id": "0fb6b3f3-0e5b-457c-8dcf-98b788fb9b20",
   "metadata": {},
   "source": [
    "*Write answers here by double clicking and editing this markdown cell.*\n",
    "\n",
    "1.\n",
    "2.\n",
    "3.\n",
    "4."
   ]
  },
  {
   "cell_type": "markdown",
   "id": "38f1ac0e-b8ac-4abc-83dd-7783b42f30d8",
   "metadata": {},
   "source": [
    "**C2 (2 pts).** **Type conversion.** Fix the bug so the line runs and prints `42!` with no errors"
   ]
  },
  {
   "cell_type": "code",
   "execution_count": null,
   "id": "216d0dc3",
   "metadata": {},
   "outputs": [],
   "source": [
    "# BUGGY:\n",
    "num = 42\n",
    "print(\"Answer is \" + num + \"!\")  # replace ??? so it runs and prints 42!"
   ]
  },
  {
   "cell_type": "markdown",
   "id": "0de86876-ef24-468d-97c2-bbe8763118bf",
   "metadata": {},
   "source": [
    "Explain in one sentence **why** your fix works:"
   ]
  },
  {
   "cell_type": "markdown",
   "id": "2db8773d-4406-46bc-9546-fb85903ad658",
   "metadata": {},
   "source": [
    "**C3 (8 pts) Autograder questions.**\n",
    "For each of the sentences below, write the corresponding Python code. For example, for the sentence \"Assign the string 'Rick is left-handed' to the variable named inconceivable\", the corresponding code would be:\n",
    "\n",
    "`inconceivable = 'Rick is left-handed'`\n",
    "\n",
    "For some of the questions, you can find the full list of Python built-in functions in https://docs.python.org/3/library/functions.html.\n",
    "\n",
    "Don't change any of the code that is provided, and be sure to run the code cell below first!\n",
    "\n",
    "For these autograder questions, the points you see on Gradescope upon submission is what you get. Remember that you can submit your homework infinite number of times to check your score. Ask questions on Piazza or come to office hours if you need help."
   ]
  },
  {
   "cell_type": "code",
   "execution_count": null,
   "id": "04d09980-e93d-4821-be94-beaa6ca4313c",
   "metadata": {},
   "outputs": [],
   "source": [
    "# RUN THIS CELL BEFORE RUNNING OTHER CELLS IN PROBLEM C\n",
    "x = 5\n",
    "y = 6.01\n",
    "z = -4\n",
    "percentage = 42.4818\n",
    "name = 'PuppyCat'"
   ]
  },
  {
   "cell_type": "markdown",
   "id": "1cad4b9e-31d9-4034-9d87-05ad73cee75a",
   "metadata": {},
   "source": [
    "**C3.1.** Assign a value of 6.3 to a variable named `easypeasy`."
   ]
  },
  {
   "cell_type": "code",
   "execution_count": null,
   "id": "2df88a1e-bfc5-4b2e-8be9-9dcdae9cb83c",
   "metadata": {
    "otter": {
     "tests": [
      "c3.1"
     ]
    },
    "tags": [
     "otter_answer_cell"
    ]
   },
   "outputs": [],
   "source": [
    "# Write your code here by replacing the ...\n",
    "..."
   ]
  },
  {
   "cell_type": "markdown",
   "id": "61b7bf8d-91f8-4124-9ddf-9aa2de3e5652",
   "metadata": {},
   "source": [
    "**C3.2.** Assign the sum of `x` and `y` to a variable named `mysum`."
   ]
  },
  {
   "cell_type": "code",
   "execution_count": null,
   "id": "1036522c-705c-4057-882a-d9ab011ddd73",
   "metadata": {
    "otter": {
     "tests": [
      "c3.2"
     ]
    },
    "tags": [
     "otter_answer_cell"
    ]
   },
   "outputs": [],
   "source": [
    "# Write your code here by replacing the ...\n",
    "..."
   ]
  },
  {
   "cell_type": "markdown",
   "id": "dea0e4f7-12f6-4878-831d-129e4a73708d",
   "metadata": {},
   "source": [
    "**C3.3.** Assign the value of `x` raised to the fourth power to a variable named `x_to_the_fourth`. "
   ]
  },
  {
   "cell_type": "code",
   "execution_count": null,
   "id": "54790a06-eeb5-4ef1-b4b5-a47eceb04e41",
   "metadata": {
    "otter": {
     "tests": [
      "c3.3"
     ]
    },
    "tags": [
     "otter_answer_cell"
    ]
   },
   "outputs": [],
   "source": [
    "# Write your code here by replacing the ...\n",
    "..."
   ]
  },
  {
   "cell_type": "markdown",
   "id": "f217dde7-75f4-45b1-a7b1-d72b8decd5ed",
   "metadata": {},
   "source": [
    "**C3.4.** Use code to concatenate the three strings `'Go'` and `' '` and `'Heels!'` and assign the result to a variable named `cheer_words`."
   ]
  },
  {
   "cell_type": "code",
   "execution_count": null,
   "id": "af527f1b-2cf2-4d7e-a0ef-5d966580a728",
   "metadata": {
    "otter": {
     "tests": [
      "c3.4"
     ]
    },
    "tags": [
     "otter_answer_cell"
    ]
   },
   "outputs": [],
   "source": [
    "# Write your code here by replacing the ...\n",
    "..."
   ]
  },
  {
   "cell_type": "markdown",
   "id": "010dd708-f39e-4b23-a4a7-ea04bf15e824",
   "metadata": {},
   "source": [
    "**C3.5.** Using a built-in Python function, assign the data type of the variable `y` to the variable `detected_type`. "
   ]
  },
  {
   "cell_type": "code",
   "execution_count": null,
   "id": "2773bfd4-60d1-4e57-88ff-c7d081a08c19",
   "metadata": {
    "otter": {
     "tests": [
      "c3.5"
     ]
    },
    "tags": [
     "otter_answer_cell"
    ]
   },
   "outputs": [],
   "source": [
    "# Write your code here by replacing the ...\n",
    "..."
   ]
  },
  {
   "cell_type": "markdown",
   "id": "a38ea77f-b183-4505-bf4f-cf60685e4a34",
   "metadata": {},
   "source": [
    "**C3.6.** Using a built-in Python function, assign the number of characters in the string variable `name` to the variable `name_length`."
   ]
  },
  {
   "cell_type": "code",
   "execution_count": null,
   "id": "8b8a86cf-6c15-4062-b03f-6149d3e97be3",
   "metadata": {
    "otter": {
     "tests": [
      "c3.6"
     ]
    },
    "tags": [
     "otter_answer_cell"
    ]
   },
   "outputs": [],
   "source": [
    "# Write your code here by replacing the ...\n",
    "..."
   ]
  },
  {
   "cell_type": "markdown",
   "id": "6a6297fc-3a9a-4345-9b06-6e4644853a19",
   "metadata": {},
   "source": [
    "**C3.7.** Using a built-in Python function, round the value of the variable `percentage` to the tenths place and assign the result to the variable `percentage_rounded`."
   ]
  },
  {
   "cell_type": "code",
   "execution_count": null,
   "id": "bfd39c40-3bc5-4620-82b7-2d342256a1dd",
   "metadata": {
    "otter": {
     "tests": [
      "c3.7"
     ]
    },
    "tags": [
     "otter_answer_cell"
    ]
   },
   "outputs": [],
   "source": [
    "# Write your code here by replacing the ...\n",
    "..."
   ]
  },
  {
   "cell_type": "markdown",
   "id": "a0903b63-8e61-4132-8691-89d7f8bf650a",
   "metadata": {},
   "source": [
    "**C3.8.** Using a built-in Python function, assign the minimum value of `x`, `y`, `z` to a variable named `lowest_coord`."
   ]
  },
  {
   "cell_type": "code",
   "execution_count": null,
   "id": "da183ebc-d5e7-423a-80ff-4dab8fd873f2",
   "metadata": {
    "otter": {
     "tests": [
      "c3.8"
     ]
    },
    "tags": [
     "otter_answer_cell"
    ]
   },
   "outputs": [],
   "source": [
    "# Write your code here by replacing the ...\n",
    "..."
   ]
  },
  {
   "cell_type": "markdown",
   "id": "6ef4be5d",
   "metadata": {},
   "source": [
    "## Part D — If/elif/else (9 pts)\n",
    "**D1 (1 pt).** **Logic check**. What gets printed? Try to answer this question without running it first! You might get asked similar questions in a quiz. You need to explain why in sufficient detail to get full credit. \n",
    "\n",
    "```python\n",
    "x = 12\n",
    "y = 7\n",
    "if x > 10 and y < 5:\n",
    "    print(\"A\")\n",
    "elif x > 10 and y < 10:\n",
    "    print(\"B\")\n",
    "else:\n",
    "    print(\"C\")\n",
    "```\n",
    "Answer: ______  (Explain why.)"
   ]
  },
  {
   "cell_type": "markdown",
   "id": "18edfcde-ca07-4f62-98a8-79b411ecad32",
   "metadata": {},
   "source": [
    "**D2 (2 pts). if/elif/else.** Write an `if/elif/else` that assigns a new variable `category` to a value based on `score`:\n",
    "- 90+ → `\"excellent\"`, 75–89 → `\"good\"`, 60–74 → `\"ok\"`, below 60 → `\"needs work\"`. Then `print(category)`."
   ]
  },
  {
   "cell_type": "code",
   "execution_count": null,
   "id": "39cc69ef",
   "metadata": {},
   "outputs": [],
   "source": [
    "score = 78  # try other values to test\n",
    "\n",
    "# your code here"
   ]
  },
  {
   "cell_type": "markdown",
   "id": "92e45f71",
   "metadata": {},
   "source": [
    "**D3 (2 pts).** **Nested if.** Write Python code for the following scenario. \n",
    "\n",
    "You may apply for a fellowship if `gpa >= 3.5`.\n",
    "\n",
    "If eligible to apply, print: `\"apply: senior track\"` if `year == 4`, else `\"apply: standard track\"`.  \n",
    "If not eligible, print `\"not eligible\"`.\n"
   ]
  },
  {
   "cell_type": "code",
   "execution_count": null,
   "id": "6a11f123",
   "metadata": {},
   "outputs": [],
   "source": [
    "gpa = 3.6 # try other values to test\n",
    "year = 3\n",
    "\n",
    "# your code here"
   ]
  },
  {
   "cell_type": "markdown",
   "id": "20e17714-481a-4ec3-b745-ebf0e4d939bd",
   "metadata": {},
   "source": [
    "**D4 (4pts). Ramping up.** A store is checking whether a customer gets free shipping. Standard shipping costs **\\$7.99**.\n",
    "\n",
    "Write an `if/elif/else` statement that assigns a float variable `shipping_cost` to a value in USD based on these conditions:\n",
    "\n",
    "- Free shipping if the total order is at least 50 **or** the customer is a member. \n",
    "- Otherwise, if the customer has ordered at least *something*, the customer pays standard shipping cost.\n",
    "- If the customer has not ordered anything, print \"no order\". You do not need to assign `shipping_cost` to a different value in this case."
   ]
  },
  {
   "cell_type": "code",
   "execution_count": null,
   "id": "193fb19b-a3f4-4054-9508-142ff2bdb997",
   "metadata": {},
   "outputs": [],
   "source": [
    "order_total = 35 # try other values to test\n",
    "member = False # try other values to test\n",
    "shipping_cost = None \n",
    "\n",
    "# your code here"
   ]
  },
  {
   "cell_type": "markdown",
   "id": "0e7b3809-f96f-42a0-ab1f-f52040ef706c",
   "metadata": {},
   "source": [
    "## Part E — Strings, Logic, and Control Flow (11 pts)"
   ]
  },
  {
   "cell_type": "markdown",
   "id": "3df67da1-6a3b-49d5-a3b2-d9cd8b336112",
   "metadata": {},
   "source": [
    "**E1 (4pts).** Run the next two cells to see a random sample of 10 used Teslas that are for sale."
   ]
  },
  {
   "cell_type": "code",
   "execution_count": null,
   "id": "42c2056c-a64d-4af1-9a12-ef6ae71e53f1",
   "metadata": {},
   "outputs": [],
   "source": [
    "import pandas as pd\n",
    "\n",
    "teslas = pd.read_csv('tesla_prices.csv')\n",
    "teslas"
   ]
  },
  {
   "cell_type": "code",
   "execution_count": null,
   "id": "bbaed516-d982-4aaa-91eb-96ae0029f4b7",
   "metadata": {},
   "outputs": [],
   "source": [
    "# run this code.\n",
    "# we'll explain in future lectures what this does.\n",
    "teslas.describe()"
   ]
  },
  {
   "cell_type": "markdown",
   "id": "5766ad7e-3569-4e82-beaa-b13ff84e8f45",
   "metadata": {},
   "source": [
    "We have calculated the min, max, and mean selling price of the used-Teslas above. Now given a candidate listing price, print:\n",
    "\n",
    "- \"cheap\" if `price` ≤ 90% of `pavg`\n",
    "- \"expensive\" if `price` ≥ 110% of `pavg`\n",
    "- \"average\" if `price` is within 10% of `pavg`\n",
    "- \"outlier\" if `price` is cheaper than `pmin` or `price` more expensive than `pmax`\n",
    "\n",
    "Priority / Order matters (apply in this order):\n",
    "1. Outlier check first \n",
    "2. Cheap / Expensive thresholds against `pavg`\n",
    "3. Otherwise, Average"
   ]
  },
  {
   "cell_type": "code",
   "execution_count": null,
   "id": "bf57c9df-0b8d-4a99-bcf7-3d7411c42382",
   "metadata": {},
   "outputs": [],
   "source": [
    "# min, max, average values from the file above. compare it with the table!\n",
    "pmin = 23000.0\n",
    "pmax = 52000.0\n",
    "pavg = 35440.0\n",
    "\n",
    "price = 36500.0  # try different values\n",
    "\n",
    "# Helpful helpers (you may use or ignore)\n",
    "ten_pct = 0.10 * pavg\n",
    "cheap_cut = 0.90 * pavg\n",
    "exp_cut  = 1.10 * pavg\n",
    "\n",
    "# your code here"
   ]
  },
  {
   "cell_type": "markdown",
   "id": "84f071b3-82ed-4b54-8ebe-00f4f091c124",
   "metadata": {},
   "source": [
    "**E2 (7pts). Filename checker.**  In class, we talked about how csv and tsv files can be used to store tables. But not every file is acceptable for our purposes! Let's write some Python code that will check whether a given filename should be accepted, rejected, or blocked. Your goal is to assign variable `action` to some string value.\n",
    "\n",
    "The rules are:\n",
    "\n",
    "1. If the filename ends with .exe → action is `blocked: executable`.\n",
    "\n",
    "2. Otherwise, if the filename ends with .csv or .tsv, **and** it has *no* spaces, **and** it is at least 5 characters long (including the file extension .csv or .tsv) → action is `accepted`.\n",
    "\n",
    "3. Anything else → action is `rejected`.\n",
    "\n",
    "`print(action)` at the end to check if you're getting the results you're looking for.\n",
    "\n",
    "**For full credit**, define the following helper variables before you go into your if/else statements: `ends_ok`, `has_space`, `long_enough`, `is_exe`. Then, use these helper variables to construct your if/else statements. If you're not sure what these variables should contain, ask on Piazza or come by office hours!\n",
    "\n",
    "**Hint**: Both .CSV and .csv should be counted as a csv file. The easiest way is to convert the filename to lowercase so we don’t have to worry about capital letters.\n",
    "\n",
    "**Hint**: If you feel overwhelmed, start small, and think about each of these helper variables first. Make sure to come to office hours for help!\n"
   ]
  },
  {
   "cell_type": "code",
   "execution_count": null,
   "id": "9352a9bd-765e-4517-b0dd-65c5cfa588f5",
   "metadata": {},
   "outputs": [],
   "source": [
    "filename = \" data110_secret_message.CSV \"   # try a few: \"catscatscats.json\", \"bad file.tsv\", \"hacker.EXE\", \"a.csv\"\n",
    "\n",
    "# change filename to all lower case here\n",
    "\n",
    "ends_ok = None # change me!\n",
    "has_space = ' ' in filename # Given to you. No need to change.\n",
    "long_enough = None # change me!\n",
    "is_exe = None # change me!\n",
    "action = None # Don't change this line, but action should be set to 'blocked:executable', 'accepted', or 'rejected' by the end of your code!\n",
    "\n",
    "# your code here"
   ]
  },
  {
   "cell_type": "markdown",
   "id": "1504b7b7-5e3e-45c7-8024-61a24d160f2a",
   "metadata": {},
   "source": [
    "## Submission to Gradescope\n",
    "\n",
    "### Step 1 – Run All Cells and Save\n",
    "- My favorite thing to do in Jupyter Notebook is to click the ⏩️ button on the toolbar. This refreshes the memory, then runs all cells in order.\n",
    "- Then, click **File → Save Notebook** to make sure your notebook file (`.ipynb`) is up to date. Or run `command (or control) + s`.\n",
    "\n",
    "### Step 2 – Export to PDF\n",
    "  1. Choose **File → Print**.\n",
    "  2. In your browser’s print dialog, change the **Destination** to “Save as PDF.”\n",
    "  3. Click **Save** and name the file clearly (e.g., `lab1.pdf`).\n",
    "\n",
    "### Step 3 - Run the Last Cell\n",
    "1. Run the last cell (below)\n",
    "2. Download the zip file to your computer.\n",
    "\n",
    "### Step 4 – Submit to Gradescope\n",
    "- Log into **Gradescope** and open the assignment. You can get there from Canvas assignment as well.\n",
    "- Upload **both files** by highlighting both items and draggin and dropping them to the submission box:\n",
    "  1. Your **`.zip` file** (generated by otter).\n",
    "  2. Your **`.pdf` file** (exported from the notebook).\n",
    "- Make sure your submission is **complete and readable** before clicking submit.\n",
    "\n",
    "### Step 5 – Confirm Your Submission\n",
    "- After submitting, check Gradescope’s preview to ensure your files display properly.\n",
    "- If anything is missing or unreadable, re-export and resubmit before the deadline.\n"
   ]
  },
  {
   "cell_type": "markdown",
   "id": "aa8f0015",
   "metadata": {
    "deletable": false,
    "editable": false
   },
   "source": [
    "## Submission\n",
    "\n",
    "Make sure you have run all cells in your notebook in order before running the cell below, so that all images/graphs appear in the output. The cell below will generate a zip file for you to submit. **Please save before exporting!**\n",
    "\n",
    "Submit zip file and PDF to Gradescope HW1"
   ]
  },
  {
   "cell_type": "code",
   "execution_count": null,
   "id": "39e47989",
   "metadata": {
    "deletable": false,
    "editable": false
   },
   "outputs": [],
   "source": [
    "# Save your notebook first, then run this cell to export your submission.\n",
    "grader.export(pdf=False, run_tests=True)"
   ]
  },
  {
   "cell_type": "markdown",
   "id": "4554f83b",
   "metadata": {},
   "source": [
    " "
   ]
  }
 ],
 "metadata": {
  "kernelspec": {
   "display_name": "Python 3 (ipykernel)",
   "language": "python",
   "name": "python3"
  },
  "language_info": {
   "codemirror_mode": {
    "name": "ipython",
    "version": 3
   },
   "file_extension": ".py",
   "mimetype": "text/x-python",
   "name": "python",
   "nbconvert_exporter": "python",
   "pygments_lexer": "ipython3",
   "version": "3.12.6"
  },
  "otter": {
   "OK_FORMAT": true,
   "tests": {
    "c3.1": {
     "name": "c3.1",
     "points": 1,
     "suites": [
      {
       "cases": [],
       "scored": true,
       "setup": "",
       "teardown": "",
       "type": "doctest"
      }
     ]
    },
    "c3.2": {
     "name": "c3.2",
     "points": 1,
     "suites": [
      {
       "cases": [],
       "scored": true,
       "setup": "",
       "teardown": "",
       "type": "doctest"
      }
     ]
    },
    "c3.3": {
     "name": "c3.3",
     "points": 1,
     "suites": [
      {
       "cases": [],
       "scored": true,
       "setup": "",
       "teardown": "",
       "type": "doctest"
      }
     ]
    },
    "c3.4": {
     "name": "c3.4",
     "points": 1,
     "suites": [
      {
       "cases": [],
       "scored": true,
       "setup": "",
       "teardown": "",
       "type": "doctest"
      }
     ]
    },
    "c3.5": {
     "name": "c3.5",
     "points": 1,
     "suites": [
      {
       "cases": [],
       "scored": true,
       "setup": "",
       "teardown": "",
       "type": "doctest"
      }
     ]
    },
    "c3.6": {
     "name": "c3.6",
     "points": 1,
     "suites": [
      {
       "cases": [],
       "scored": true,
       "setup": "",
       "teardown": "",
       "type": "doctest"
      }
     ]
    },
    "c3.7": {
     "name": "c3.7",
     "points": 1,
     "suites": [
      {
       "cases": [],
       "scored": true,
       "setup": "",
       "teardown": "",
       "type": "doctest"
      }
     ]
    },
    "c3.8": {
     "name": "c3.8",
     "points": 1,
     "suites": [
      {
       "cases": [],
       "scored": true,
       "setup": "",
       "teardown": "",
       "type": "doctest"
      }
     ]
    }
   }
  }
 },
 "nbformat": 4,
 "nbformat_minor": 5
}
