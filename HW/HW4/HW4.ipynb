{
 "cells": [
  {
   "cell_type": "code",
   "execution_count": null,
   "id": "af868df5",
   "metadata": {
    "deletable": false,
    "editable": false
   },
   "outputs": [],
   "source": [
    "# Initialize Otter\n",
    "import otter\n",
    "grader = otter.Notebook(\"HW4.ipynb\")"
   ]
  },
  {
   "cell_type": "markdown",
   "id": "89bedbf7-cb85-491c-a637-e6b30f1f41ab",
   "metadata": {
    "jp-MarkdownHeadingCollapsed": true
   },
   "source": [
    "## <u>Name:</u> [Your name] and (your onyen)\n",
    "\n",
    "Names and Onyens of fellow students you discussed Homework4 problems and ideas:\n",
    "\n",
    "- Students: \n",
    "\n",
    "We encourage discussing ideas and brainstorming with your peers, but the final text, code, and comments in this homework assignment MUST be 100% written by you as mentioned in syllabus.\n",
    "\n"
   ]
  },
  {
   "cell_type": "markdown",
   "id": "22d1e54e-16d4-4a59-8d04-889400a18948",
   "metadata": {},
   "source": [
    "# Homework 4: Probability, Sampling, Correlation and Causation  (50 points)"
   ]
  },
  {
   "cell_type": "markdown",
   "id": "349acd1f-5e4c-4d9b-ace9-bafcc26c4d2b",
   "metadata": {},
   "source": [
    "## Problem 1. Probability (10 points)\n",
    "\n",
    "In this problem, you'll be analyzing the fairness of a 6-sided die.\n",
    "\n",
    "A street vendor asks you if you'd like to play a game.  The game is:\n",
    "* pay \\$10 to roll a 6-sided die 3 times\n",
    "* if any of those rolls is a 6 he pays you $11.  "
   ]
  },
  {
   "cell_type": "markdown",
   "id": "42c4f87a-2aa5-4e02-a8f5-e88627ade5a4",
   "metadata": {},
   "source": [
    "**Problem 1.1 (1 points).** What are your chances of rolling at least one 6 in a game? (show how you calculate this)"
   ]
  },
  {
   "cell_type": "markdown",
   "id": "4b9d84be-5139-4460-bd69-6140031b502f",
   "metadata": {},
   "source": [
    "*Write your answers here*"
   ]
  },
  {
   "cell_type": "markdown",
   "id": "67ddf9dd-f5cb-4363-aa09-fa6b651e3fe7",
   "metadata": {},
   "source": [
    "**Problem 1.2 (1 points).** What are your chances of rolling only one 6 in a game? (show how you calculate this)"
   ]
  },
  {
   "cell_type": "markdown",
   "id": "6726fb65-9301-4588-81a0-4c8c1ab245d9",
   "metadata": {},
   "source": [
    "*Write your answers here*"
   ]
  },
  {
   "cell_type": "markdown",
   "id": "77a6995f-aeee-451b-9d6f-b1c1f63f06ad",
   "metadata": {},
   "source": [
    "**Problem 1.3 (1 points).** What are your chances of winning the game given that the first two rolls are not a 6? (show how you calculate this)"
   ]
  },
  {
   "cell_type": "markdown",
   "id": "c5625dd1-ce53-4b95-8b06-5ae543c41310",
   "metadata": {},
   "source": [
    "*Write your answers here*"
   ]
  },
  {
   "cell_type": "markdown",
   "id": "e91e6852-7d41-44f4-b1fa-9fba35d69568",
   "metadata": {},
   "source": [
    "**Problem 1.4 (1 points).** What are your chances of winning the game given that the first roll is not a 6? (show how you calculate this)"
   ]
  },
  {
   "cell_type": "markdown",
   "id": "9f0f4454-8047-4be7-ac43-6db1b9891777",
   "metadata": {},
   "source": [
    "*Write your answers here*"
   ]
  },
  {
   "cell_type": "markdown",
   "id": "4897f131-471e-4683-97f2-ec59f860a9a3",
   "metadata": {},
   "source": [
    "**Problem 1.5 (1 points).** What are your chances of losing the game given that the first two rolls are not a 6? (show how you calculate this)"
   ]
  },
  {
   "cell_type": "markdown",
   "id": "c8941ee7-3809-4a5d-8a5b-c8daa6556b47",
   "metadata": {},
   "source": [
    "*Write your answers here*"
   ]
  },
  {
   "cell_type": "markdown",
   "id": "bdd0818e-2980-4b69-9faf-2167b35ef13d",
   "metadata": {},
   "source": [
    "**Problem 1.6 (1 points).** What are your chances of losing the game given that the first roll is not a 6? (show how you calculate this)"
   ]
  },
  {
   "cell_type": "markdown",
   "id": "7b940915-51b2-48c8-8fd6-2d30a793bc2d",
   "metadata": {},
   "source": [
    "*Write your answers here*"
   ]
  },
  {
   "cell_type": "markdown",
   "id": "bed3a3cc-8668-48e4-b754-b065d3db01c0",
   "metadata": {},
   "source": [
    "**Problem 1.7 (1 points).** If you play this game four times, what is the probability that you lose all four games?"
   ]
  },
  {
   "cell_type": "markdown",
   "id": "42ca4495-1723-4134-97bd-0f19b79f672d",
   "metadata": {},
   "source": [
    "*Write your answers here*"
   ]
  },
  {
   "cell_type": "markdown",
   "id": "528bee9e-ce65-4743-ab07-95b9d25d27b6",
   "metadata": {},
   "source": [
    "**Problem 1.8 (1 points).** What is the **expected value** of your profit or loss if you play the game once?"
   ]
  },
  {
   "cell_type": "markdown",
   "id": "0cb25109-72cc-4ce2-972d-2c49f41af274",
   "metadata": {},
   "source": [
    "*Write your answers here*"
   ]
  },
  {
   "cell_type": "markdown",
   "id": "82518b60-9f0d-461c-9543-6f062ce5fbb7",
   "metadata": {},
   "source": [
    "**Problem 1.9 (1 points).** What is the **expected value** of your profit or loss if you play the game 10 times?"
   ]
  },
  {
   "cell_type": "markdown",
   "id": "1103d9e4-47e5-4d52-9538-045e23981866",
   "metadata": {},
   "source": [
    "*Write your answers here*"
   ]
  },
  {
   "cell_type": "markdown",
   "id": "7d05c480-ec1a-44d4-89e1-5c3d1bbe8dd9",
   "metadata": {},
   "source": [
    "**Problem 1.10 (1 points).** If you play the game 100 times, are you guaranteed to win at least one of the games? If not, what is the probability?"
   ]
  },
  {
   "cell_type": "markdown",
   "id": "eeceb755-bf09-4508-808f-114fa6ab2100",
   "metadata": {},
   "source": [
    "*Write your answers here*"
   ]
  },
  {
   "cell_type": "markdown",
   "id": "8693704e-28df-41df-b437-0d1d068f0468",
   "metadata": {},
   "source": [
    "## Problem 2. Just how old are you? (15 points) \n",
    "Suppose you are asked to provide information about the **age of permanent residents of North Carolina**, so you decide to obtain age data for **100 people**."
   ]
  },
  {
   "cell_type": "markdown",
   "id": "6eb75eaf-0c4b-4eed-9d8e-d1d4ddb1622f",
   "metadata": {},
   "source": [
    "**Problem 2.1 (3 points).**\n",
    "Initially, you ask the age of the **first 100 people you meet on campus**.  \n",
    "1. What is this type of sampling called? Pick **one** closest and most specific answer.\n",
    "3. What are potential biases that could result from this sampling approach?  Name **at least two**.  \n",
    "4. Would you expect this to be a representative sample of North Carolina residents?"
   ]
  },
  {
   "cell_type": "markdown",
   "id": "ce572374-b11e-4407-8d0c-fadda8a3552b",
   "metadata": {},
   "source": [
    "*Write your answers here*"
   ]
  },
  {
   "cell_type": "markdown",
   "id": "c1b8eeac-ad1d-4f36-b71f-8cbce210f568",
   "metadata": {},
   "source": [
    "**Problem 2.2 (3 points).** \n",
    "You decide to look up the **proportions of race/ethnicity** for North Carolina permanent residents. You calculate the corresponding **proportions of 100**, then collect data again by wandering campus and asking the age of exactly that many people of each race/ethnicity.  \n",
    "\n",
    "For example, the [2020 US Census](https://www.census.gov/library/stories/state-by-state/north-carolina-population-change-between-census-decade.html) says the four largest NC race and ethnicity groups are White alone 62%, Black alone 12%, Hispanic 19%, and Asian alone 6%. So you would ask the age of the first 62 White people you meet, the first 12 Black people you meet, and so on.\n",
    "\n",
    "1. What type of sampling is this? Pick **one** closest and most specific answer.\n",
    "2. Would you expect it to be more or less representative than your previous data from Problem 1.1?  \n",
    "3. What are the most significant biases that would remain?  Name **at least two**."
   ]
  },
  {
   "cell_type": "markdown",
   "id": "0d11ec38-4bef-46ac-887a-a513919b8095",
   "metadata": {},
   "source": [
    "*Write your answers here*"
   ]
  },
  {
   "cell_type": "markdown",
   "id": "f8f2723a-ed1f-4e56-8e68-87272287122e",
   "metadata": {},
   "source": [
    "**Problem 2.3 (3 points).** \n",
    "Alternatively, suppose you get access to full census data for all residents of the state of North Carolina that includes age as an attribute.  You take the age of the **first 100 rows of the table** and drop the rest.  What potential concerns do you have with this approach?"
   ]
  },
  {
   "cell_type": "markdown",
   "id": "2292f231-ff6d-49fb-a506-95e0b348c96a",
   "metadata": {},
   "source": [
    "*Write your answers here*"
   ]
  },
  {
   "cell_type": "markdown",
   "id": "965980a4-8124-4676-bc94-81593a015ab5",
   "metadata": {},
   "source": [
    "**Problem 2.4 (2 points).** \n",
    "Finally, you decide to take **100 random samples from the census data** table.\n",
    "1. What type of sampling is this? Pick **one** closest and most specific answer.\n",
    "2. Would you expect this to be a representative sample of North Carolina residents?\n",
    "3. Do you think it matters if you allow replacement for this sampling?  Why or why not?\n",
    "4. If the census data is in a table named `nc_people` that has a row for every person, write code that uses pandas to randomly sample 100 people from `nc_people` and put them in a new table named `nc_people_100`."
   ]
  },
  {
   "cell_type": "markdown",
   "id": "d067b0ba-9c64-4a1c-b4ec-b3ecf0f41029",
   "metadata": {},
   "source": [
    "*Write your answers here*"
   ]
  },
  {
   "cell_type": "markdown",
   "id": "1af1b100-0172-48a3-9255-c9e347d0e239",
   "metadata": {},
   "source": [
    "**Problem 2.5 (1 point).** \n",
    "Which of the following is an example of sampling?\n",
    "1. Enumerating all the possible outcomes of drawing 1 card from a deck\n",
    "2. Counting the number of planets in our solar system\n",
    "3. Surveying a piece of property to mark its boundaries\n",
    "4. Asking people in your class who sit next to you their favorite Pokemon "
   ]
  },
  {
   "cell_type": "markdown",
   "id": "b72abf33-ae73-44e8-8117-864865f2a2c9",
   "metadata": {},
   "source": [
    "**Problem 2.6 (3 points)** Let's now try out this idea on Penguins data. "
   ]
  },
  {
   "cell_type": "code",
   "execution_count": null,
   "id": "2b320e0b-d518-4f6b-b00a-cb952f5af811",
   "metadata": {},
   "outputs": [],
   "source": [
    "# Run this cell to load penguins table\n",
    "import pandas as pd\n",
    "penguins = pd.read_csv('~/110-F25/demos/palmer_penguins.csv')\n",
    "penguins.shape"
   ]
  },
  {
   "cell_type": "markdown",
   "id": "429151b6-5f51-422f-ac4e-84175debd31b",
   "metadata": {},
   "source": [
    "Say we sample 10% of the penguins to estimate characteristics of the population (344 penguins)."
   ]
  },
  {
   "cell_type": "markdown",
   "id": "fb5ef9b1-b59a-49d6-b4fe-109d2c449057",
   "metadata": {},
   "source": [
    "(1 point) Write code that calculates the **average Body Mass** and **Sex distribution** of the three groups:\n",
    "\n",
    "    1. First 10% of the penguins listed in the table.\n",
    "    2. Randomly sampled 10% of the penguins.\n",
    "    3. All the penguins."
   ]
  },
  {
   "cell_type": "code",
   "execution_count": null,
   "id": "566ec4e8-0de9-4b3c-ae19-5102542ad2b1",
   "metadata": {
    "tags": [
     "otter_answer_cell"
    ]
   },
   "outputs": [],
   "source": [
    "# Your code here. Add new cells as needed\n",
    "\n",
    "..."
   ]
  },
  {
   "cell_type": "code",
   "execution_count": null,
   "id": "97cde065-b78c-4e96-ba99-8ddeb5d91a52",
   "metadata": {
    "tags": [
     "otter_answer_cell"
    ]
   },
   "outputs": [],
   "source": [
    "# Your code here. Add new cells as needed\n",
    "..."
   ]
  },
  {
   "cell_type": "markdown",
   "id": "7921c42b-95de-4eb7-b4d0-f12e7030fcf5",
   "metadata": {},
   "source": [
    "(2 points) For **average Body Mass**, which sample gave a closer estimate to the population (344 penguins) mean? Why do you think that happened? Feel free to inspect the table further as needed.\n",
    "\n",
    "How about for **Sex distribution**? Was this answer different or same from earlier? Why do you think that happened?"
   ]
  },
  {
   "cell_type": "markdown",
   "id": "cb20bced-88d1-460a-9e54-c78d911e9db5",
   "metadata": {},
   "source": [
    "[Write your answer here]"
   ]
  },
  {
   "cell_type": "markdown",
   "id": "ce57f759-2752-48cb-ad69-544a4be54d15",
   "metadata": {},
   "source": [
    "## Problem 3. Modeling (13 points)\n",
    "This problem deals with determining whether a proposed model is reasonable for describing one attribute as a function of another for ROUSes.\n",
    "\n",
    "First, you will be evaluating which of 3 models would best describe how `Length` is a function of `Age`.\n",
    "\n",
    "Start by running the code below."
   ]
  },
  {
   "cell_type": "code",
   "execution_count": null,
   "id": "14c4f742-5319-4ebe-9514-b1c0216eec2c",
   "metadata": {},
   "outputs": [],
   "source": [
    "import pandas as pd\n",
    "import seaborn as sns\n",
    "rouses_model_df = pd.read_csv(\"ROUSes.csv\")"
   ]
  },
  {
   "cell_type": "markdown",
   "id": "ab2c07f6-50d9-4c6c-bd05-53c35b697d8a",
   "metadata": {},
   "source": [
    "**Problem 3.1 (3 points).** Add a new feature (column) to `rouses_model_df` for each of the 3 models below, and fill in the feature with data generated by the model.  Name the features `'Length Model 1'`, `'Length Model 2'`, and `'Length Model 3'`.  Note that the first model has a square root; for this you can use `**0.5`.  \n",
    "\n",
    "**Hint**: if you are unsure of mathematical operation ordering, parentheses are highly recommended!\n",
    "\n",
    "  Length Model 1 = 1.08 * $\\sqrt{Age}$\n",
    "\n",
    "  Length Model 2 = 1.0 + 0.128 * $Age$\n",
    "\n",
    "  Length Model 3 = 1.0 + 0.00229 * $Age^2$\n",
    "\n"
   ]
  },
  {
   "cell_type": "code",
   "execution_count": null,
   "id": "3b534da8-748f-45a7-89a4-4a9aa06bd5e4",
   "metadata": {
    "tags": [
     "otter_answer_cell"
    ]
   },
   "outputs": [],
   "source": [
    "# write your code here, replacing ...\n",
    "..."
   ]
  },
  {
   "cell_type": "code",
   "execution_count": null,
   "id": "fb0ac425",
   "metadata": {
    "deletable": false,
    "editable": false
   },
   "outputs": [],
   "source": [
    "grader.check(\"Q3.1\")"
   ]
  },
  {
   "cell_type": "markdown",
   "id": "6b5786d6-30f6-442c-96e2-b7fd724da06a",
   "metadata": {},
   "source": [
    "**Problem 3.2 (3 points).** There are many ways to compare data generated from a model to the actual data.  One of the easiest is to overlay plots of the actual and generated data.  One very simple way to do this is to put multiple scatterplots in the same cell, one after the other; seaborn is smart enough to automatically change the color for each of the plots.  Do this in the below; your plot should look like this: \\\n",
    " ![](LengthModel.png)\n",
    "\n",
    "**Hint**: https://seaborn.pydata.org/tutorial/properties.html#marker\n"
   ]
  },
  {
   "cell_type": "code",
   "execution_count": null,
   "id": "6342889f-f9b6-4c3e-b406-db0f098dba00",
   "metadata": {
    "scrolled": true,
    "tags": [
     "otter_answer_cell"
    ]
   },
   "outputs": [],
   "source": [
    "# write your code here, replacing ...\n",
    "..."
   ]
  },
  {
   "cell_type": "markdown",
   "id": "8fe55738-ef8e-412d-b0dc-3590220d6005",
   "metadata": {},
   "source": [
    "**Problem 3.3 (2 points).**  Just by looking at the plots, which of the models would you say is the best fit to the actual data? Why (1~3 sentences)? "
   ]
  },
  {
   "cell_type": "markdown",
   "id": "4a272a96-3f3b-49d4-8b7d-6e0c0d11920f",
   "metadata": {},
   "source": [
    "[Type your answer here, replacing this text.]"
   ]
  },
  {
   "cell_type": "markdown",
   "id": "155b4733-a083-41c5-9c6b-18d117008b18",
   "metadata": {},
   "source": [
    "**Problem 3.4 (5 points).** Using any technique you wish, decide which of the models below is the best model for `Weight`.  Show some kind of work or visualization in the Python cell, and write what model matches best (and Why!!) in the cell below that.\n",
    "\n",
    "  Weight Model 1 = 51 * $\\sqrt{Age}$\n",
    "\n",
    "  Weight Model 2 = 6.9 * $Age$\n",
    "\n",
    "  Weight Model 3 = 0.125 * $Age^2$\n",
    "\n",
    "Autograder portion is 2/5 points."
   ]
  },
  {
   "cell_type": "code",
   "execution_count": null,
   "id": "1bdcadf7-d35a-4a3a-b3ed-237458d49880",
   "metadata": {
    "tags": [
     "otter_answer_cell"
    ]
   },
   "outputs": [],
   "source": [
    "# show your work here\n",
    "..."
   ]
  },
  {
   "cell_type": "code",
   "execution_count": null,
   "id": "966665f1",
   "metadata": {
    "deletable": false,
    "editable": false
   },
   "outputs": [],
   "source": [
    "grader.check(\"Q3.4\")"
   ]
  },
  {
   "cell_type": "markdown",
   "id": "3ff7bde8-14e3-44e4-9a63-18df5d1169ad",
   "metadata": {},
   "source": [
    "_Type your answer here, replacing this text._"
   ]
  },
  {
   "cell_type": "markdown",
   "id": "62e6ee28-a55f-4bec-a00c-ccf9b85360dd",
   "metadata": {},
   "source": [
    "## Problem 4. Causality vs. Correlation (12 points)\n",
    "An important part of data science is understanding the relationships between data.  **Correlation** is the degree to which data change with one another.  **Causality** implies a direct relationship where changes in one thing directly results in changes to another thing.  Data can be correlated without any causality relationship; in fact, this occurs often when the data both depend on a third variable.  For example, number of shark attacks and ice cream sales are often correlated, but one does not cause the other; they both depend on weather conditions.  "
   ]
  },
  {
   "cell_type": "markdown",
   "id": "a918ada4-fb71-452f-9fee-b6f5a9493f67",
   "metadata": {},
   "source": [
    "**Problem 4.1 (2 points).** Run the code below and observe the plot.  Does the ***y*** value appear to be correlated with the ***x*** value? Why or why not? Calculate its correlation coefficient.\n"
   ]
  },
  {
   "cell_type": "code",
   "execution_count": null,
   "id": "44d81f86-3316-420e-af93-99ccbc24c5af",
   "metadata": {},
   "outputs": [],
   "source": [
    "import seaborn as sns\n",
    "x_data = [0,1,2,3,4,5,6,7,8,9,10]\n",
    "y_data = [1,4,7,10,2,5,8,9,6,3,0]\n",
    "sns.scatterplot(x=x_data, y=y_data)"
   ]
  },
  {
   "cell_type": "code",
   "execution_count": null,
   "id": "1e9d4c53-40d2-4124-9685-ebc13f5d76a7",
   "metadata": {},
   "outputs": [],
   "source": [
    "# Your code here"
   ]
  },
  {
   "cell_type": "markdown",
   "id": "ad1f03e2-f08c-4889-a2f1-328f62c26cc2",
   "metadata": {},
   "source": [
    "_Type your answer here, replacing this text._"
   ]
  },
  {
   "cell_type": "markdown",
   "id": "4b726bab-9c57-4026-8d1f-a376f4b06da2",
   "metadata": {},
   "source": [
    "**Problem 4.2 (2 points).** Run the code below and observe the plot.  Does the ***y*** value appear to be correlated with the ***x*** value? Why or why not? Calculate its correlation coefficient.\n"
   ]
  },
  {
   "cell_type": "code",
   "execution_count": null,
   "id": "67a64462-322e-4357-b929-34703c70561c",
   "metadata": {},
   "outputs": [],
   "source": [
    "x_data = [0,1,2,3,4,5,6,7,8,9,10]\n",
    "y_data = [10,13,14,16,18,20,21,24,26,27,30]\n",
    "sns.scatterplot(x=x_data, y=y_data)"
   ]
  },
  {
   "cell_type": "code",
   "execution_count": null,
   "id": "63895a06-bcb0-4954-9ae8-5e945ab89ae1",
   "metadata": {},
   "outputs": [],
   "source": [
    "# Your code here"
   ]
  },
  {
   "cell_type": "markdown",
   "id": "34954b39-0869-44da-8ccd-25b99f227933",
   "metadata": {},
   "source": [
    "_Type your answer here, replacing this text._"
   ]
  },
  {
   "cell_type": "markdown",
   "id": "3a7a20ac-766c-4586-af24-ef8cba5afc57",
   "metadata": {},
   "source": [
    "**Problem 4.3 (8 points).** For each of the following cases, decide whether it is an example of **causality**, **correlation**, or **neither**.  For each answer, explain why in a single sentence."
   ]
  },
  {
   "cell_type": "markdown",
   "id": "fa891829-40a4-48c7-8c98-1fe2f3553b43",
   "metadata": {},
   "source": [
    "* Case A. Roulette wheel spins and crap table dice rolls."
   ]
  },
  {
   "cell_type": "markdown",
   "id": "a9016b89-d932-4126-826a-cf7b41e6ddfa",
   "metadata": {},
   "source": [
    "_Type your answer here, replacing this text._"
   ]
  },
  {
   "cell_type": "markdown",
   "id": "26d9238e-3406-4cd9-a204-2dfae73ed554",
   "metadata": {},
   "source": [
    "* Case B.\n",
    "  \n",
    " ![](this_is_fine.jpg)"
   ]
  },
  {
   "cell_type": "markdown",
   "id": "ceb9c555-0fa0-4491-9001-cb84f146206b",
   "metadata": {},
   "source": [
    "_Type your answer here, replacing this text._"
   ]
  },
  {
   "cell_type": "markdown",
   "id": "1662aa74-de48-440d-af32-cb1198fac891",
   "metadata": {},
   "source": [
    "* Case C. Golf club swing speed and golf ball initial flight speed."
   ]
  },
  {
   "cell_type": "markdown",
   "id": "171f5007-a8c8-4639-999a-8d795f51e220",
   "metadata": {},
   "source": [
    "_Type your answer here, replacing this text._"
   ]
  },
  {
   "cell_type": "markdown",
   "id": "2fabeda6-213c-414a-8af5-fedca46c1db0",
   "metadata": {},
   "source": [
    "* Case D. Shoe size and reading ability."
   ]
  },
  {
   "cell_type": "markdown",
   "id": "f94a1063-65ca-4dbb-964c-102e8c4cfeb3",
   "metadata": {},
   "source": [
    "_Type your answer here, replacing this text._"
   ]
  },
  {
   "cell_type": "markdown",
   "id": "15bd8974-10e6-4520-b52c-74c4a9d3f3a8",
   "metadata": {},
   "source": [
    "## Submission to Gradescope\n",
    "\n",
    "### Step 1 – Run All Cells and Save\n",
    "- My favorite thing to do in Jupyter Notebook is to click the ⏩️ button on the toolbar. This refreshes the memory, then runs all cells in order.\n",
    "- Then, click **File → Save Notebook** to make sure your notebook file (`.ipynb`) is up to date. Or run `command (or control) + s`.\n",
    "\n",
    "### Step 2 – Export to PDF\n",
    "  1. Choose **File → Print**.\n",
    "  2. In your browser’s print dialog, change the **Destination** to “Save as PDF.”\n",
    "  3. Click **Save** and name the file clearly (e.g., `lab1.pdf`).\n",
    "\n",
    "### Step 3 - Run the Last Cell\n",
    "1. Run the last cell (below)\n",
    "2. Download the zip file to your computer.\n",
    "\n",
    "### Step 4 – Submit to Gradescope\n",
    "- Log into **Gradescope** and open the assignment. You can get there from Canvas assignment as well.\n",
    "- Upload **both files** by highlighting both items and draggin and dropping them to the submission box:\n",
    "  1. Your **`.zip` file** (generated by otter).\n",
    "  2. Your **`.pdf` file** (exported from the notebook).\n",
    "- Make sure your submission is **complete and readable** before clicking submit.\n",
    "\n",
    "### Step 5 – Confirm Your Submission\n",
    "- After submitting, check Gradescope’s preview to ensure your files display properly.\n",
    "- If anything is missing or unreadable, re-export and resubmit before the deadline.\n"
   ]
  },
  {
   "cell_type": "markdown",
   "id": "0e353842",
   "metadata": {
    "deletable": false,
    "editable": false
   },
   "source": [
    "## Submission\n",
    "\n",
    "Make sure you have run all cells in your notebook in order before running the cell below, so that all images/graphs appear in the output. The cell below will generate a zip file for you to submit. **Please save before exporting!**\n",
    "\n",
    "Submit zip file and PDF to Gradescope HW2"
   ]
  },
  {
   "cell_type": "code",
   "execution_count": null,
   "id": "187d7193",
   "metadata": {
    "deletable": false,
    "editable": false
   },
   "outputs": [],
   "source": [
    "# Save your notebook first, then run this cell to export your submission.\n",
    "grader.export(pdf=False)"
   ]
  },
  {
   "cell_type": "markdown",
   "id": "2e95ea7d",
   "metadata": {},
   "source": [
    " "
   ]
  }
 ],
 "metadata": {
  "kernelspec": {
   "display_name": "Python 3 (ipykernel)",
   "language": "python",
   "name": "python3"
  },
  "language_info": {
   "codemirror_mode": {
    "name": "ipython",
    "version": 3
   },
   "file_extension": ".py",
   "mimetype": "text/x-python",
   "name": "python",
   "nbconvert_exporter": "python",
   "pygments_lexer": "ipython3",
   "version": "3.12.6"
  },
  "otter": {
   "OK_FORMAT": true,
   "tests": {
    "Q3.1": {
     "name": "Q3.1",
     "points": 3,
     "suites": [
      {
       "cases": [
        {
         "code": ">>> assert rouses_model_df['Length Model 1'].equals(1.08 * rouses_model_df['Age'] ** 0.5)\n>>> assert rouses_model_df['Length Model 2'].equals(1 + 0.128 * rouses_model_df['Age'])\n>>> assert rouses_model_df['Length Model 3'].equals(1.0 + 0.00229 * rouses_model_df['Age'] ** 2)\n",
         "hidden": false,
         "locked": false
        }
       ],
       "scored": true,
       "setup": "",
       "teardown": "",
       "type": "doctest"
      }
     ]
    },
    "Q3.4": {
     "name": "Q3.4",
     "points": 2,
     "suites": [
      {
       "cases": [
        {
         "code": ">>> assert rouses_model_df['Weight Model 1'].equals(51 * rouses_model_df['Age'] ** 0.5)\n>>> assert rouses_model_df['Weight Model 2'].equals(6.9 * rouses_model_df['Age'])\n>>> assert rouses_model_df['Weight Model 3'].equals(0.125 * rouses_model_df['Age'] ** 2)\n",
         "hidden": false,
         "locked": false
        }
       ],
       "scored": true,
       "setup": "",
       "teardown": "",
       "type": "doctest"
      }
     ]
    }
   }
  }
 },
 "nbformat": 4,
 "nbformat_minor": 5
}
