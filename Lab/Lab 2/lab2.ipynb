{
 "cells": [
  {
   "cell_type": "code",
   "execution_count": null,
   "id": "b26fe34b",
   "metadata": {
    "deletable": false,
    "editable": false
   },
   "outputs": [],
   "source": [
    "# Initialize Otter\n",
    "import otter\n",
    "grader = otter.Notebook(\"lab2.ipynb\")"
   ]
  },
  {
   "cell_type": "markdown",
   "id": "52217372-717a-438d-ae62-3dd54ee8a5af",
   "metadata": {},
   "source": [
    "# Welcome to Lab 2\n",
    "\n",
    "- Your name: [Your name here]\n",
    "- Your onyen: [Your onyen here] \n",
    "\n",
    "Collaborators\n",
    "\n",
    "-\n",
    "-\n",
    "-\n"
   ]
  },
  {
   "cell_type": "markdown",
   "id": "53e30871-6f19-4106-8c87-de2d85d13147",
   "metadata": {},
   "source": [
    "# 1. Data collection (10 minutes)\n",
    "\n",
    "**Q.** We'll start today by collecting survey data from 4 classmates + yourself. We'll represent our collected data as a table, which you can write in Markdown as below. Here's a quick guide to Markdown tables (https://www.codecademy.com/resources/docs/markdown/tables), and you can also double click on the cell below to see how I wrote it."
   ]
  },
  {
   "cell_type": "markdown",
   "id": "2924d6b6-9fea-46ca-90ea-346e6a5c3d6b",
   "metadata": {},
   "source": [
    "| # | First name | What vegetable would you be? | Shoe size | Birthday month | (Question of your choice) |\n",
    "|---| -----------| -----------| -----------| -----------| -----------| \n",
    "|1 | | | | | \n",
    "|2 | | | | | \n",
    "|3 | | | | | \n",
    "|4 | | | | | \n",
    "|5 | | | | | \n"
   ]
  },
  {
   "cell_type": "markdown",
   "id": "d1480ad7-eacc-4364-9d07-ecb53f90ca8b",
   "metadata": {},
   "source": [
    "Please mingle (try to talk to someone you haven't talked to yet!) and fill out the table. For example, here's one row of data that I have gathered at home:\n",
    "\n",
    "| # | First name | What vegetable would you be? | Shoe size | Birthday month | Are you a cat? |\n",
    "|---| -----------| -----------| -----------| -----------| -----------| \n",
    "|1 | Puppycat | Corn | 0 | July | True |\n",
    "\n",
    "If you are working on this outside of lab time (e.g. excused absence, late add from waitlist), just ask people in your dorm or text some friends."
   ]
  },
  {
   "cell_type": "markdown",
   "id": "c62c8064-2545-41cc-bcc8-2e43b75f9af9",
   "metadata": {},
   "source": [
    "**Q.** Fill in the blank with either `row` or `column`:\n",
    "\n",
    "- Each *classmate* corresponds to one _____.\n",
    "- Each *question* corresponds to one _____."
   ]
  },
  {
   "cell_type": "markdown",
   "id": "4e4356c8-3740-41e2-87fb-8c52f1db96d6",
   "metadata": {},
   "source": [
    "# 2. Data types (5 minutes)\n",
    "\n",
    "In last lecture, we learned four different data types in Python: `int`, `float`, `str`, and `bool`. If you wanted to work with these data using Python, which types would be the best fit and why? Would you use the same type for all of them? Discuss with your group."
   ]
  },
  {
   "cell_type": "markdown",
   "id": "2dcb6665-9e5c-4938-921b-860c0dca0d37",
   "metadata": {},
   "source": [
    "**Q.** Fill in your guess for the best data type for each piece of information. \n",
    "\n",
    "- First name:\n",
    "- Vegetable:\n",
    "- Shoe size:\n",
    "- Birthday month:\n",
    "- Cat (replace with your question):\n",
    "\n",
    "\n",
    "Discuss your answers with your group. There can be multiple valid answers. For example, `'July'` or `7` are both valid ways to talks about birthday months. "
   ]
  },
  {
   "cell_type": "markdown",
   "id": "5843478f-b66e-42c8-bea2-562433a53d19",
   "metadata": {},
   "source": [
    "# 3. TA-led discussion on data types and units (10 minutes)\n",
    "\n",
    "**Q.** Add a new Markdown cell below and write quick 2-3 sentences about what the class discussed (Imagine you're summarizing for a friend who missed recitation today)."
   ]
  },
  {
   "cell_type": "markdown",
   "id": "11c8e81a-5712-4629-be9e-3b155205e2fa",
   "metadata": {},
   "source": [
    "# 4. Name (variable) assignment (10 minutes)\n",
    "\n",
    "**Q.** Now that you have made a decision on data types, let's practice using it. You can go back to your small group to work on this together.\n",
    "\n",
    "1. Pick one row from your table.\n",
    "2. In the cell below, assign the first name of the individual to the variable `name`. For example, `name = 'Puppycat'`.\n",
    "3. In the next cell below, check the type of the variable `name`. Do you remember what function to call?\n",
    "4. Repeat steps 2-3 with the remaining four columns. Add new cells as needed. Try to pay attention to the data type as well as what a descriptive variable name would be."
   ]
  },
  {
   "cell_type": "code",
   "execution_count": null,
   "id": "0885142e-d38b-4604-a3f5-57dbe14c029f",
   "metadata": {
    "tags": [
     "otter_answer_cell"
    ]
   },
   "outputs": [],
   "source": [
    "# Write your code here\n",
    "name = ..."
   ]
  },
  {
   "cell_type": "code",
   "execution_count": null,
   "id": "af6ee38a-6696-4cd7-8d2e-3e48de7a197b",
   "metadata": {
    "tags": [
     "otter_answer_cell"
    ]
   },
   "outputs": [],
   "source": [
    "# Write your code for other variables here\n"
   ]
  },
  {
   "cell_type": "code",
   "execution_count": null,
   "id": "59fba1ff",
   "metadata": {
    "deletable": false,
    "editable": false
   },
   "outputs": [],
   "source": [
    "grader.check(\"name\")"
   ]
  },
  {
   "cell_type": "markdown",
   "id": "a6f386e8-23e9-4a00-9fa2-5267ba890fb6",
   "metadata": {},
   "source": [
    "# 5. Exercises (15 minutes)\n",
    "Here are some exercises that are similar to questions in HW1. Especially when you're brand new to programming, this is great practice when you have groupmates and TA to help."
   ]
  },
  {
   "cell_type": "markdown",
   "id": "303ce2df-8ad4-406a-a3fb-07ecf64b9efb",
   "metadata": {},
   "source": [
    "**Q.** Variables and printing\n",
    "- Assign `pet = \"dog\"` and print it.\n",
    "- Then reassign `pet = \"cat\" + \"dog\"` and print again."
   ]
  },
  {
   "cell_type": "code",
   "execution_count": null,
   "id": "0f29f8c5",
   "metadata": {},
   "outputs": [],
   "source": [
    "# Your code here"
   ]
  },
  {
   "cell_type": "markdown",
   "id": "238f6fae-8a90-4b0f-96aa-2cfc1b286455",
   "metadata": {},
   "source": [
    "Make sure you understand what those lines did. No need to provide written answer here."
   ]
  },
  {
   "cell_type": "markdown",
   "id": "6bce9bef-863e-4185-94ea-93d3c78482c2",
   "metadata": {},
   "source": [
    "**Q.** Predict boolean logic results\n",
    "\n",
    "Without running, predict `True`/`False` for each line. Then run to check yourself.\n",
    "Replace \"predict then check\" with the answer for each line."
   ]
  },
  {
   "cell_type": "code",
   "execution_count": null,
   "id": "8b72d1c4",
   "metadata": {},
   "outputs": [],
   "source": [
    "x = 7\n",
    "print(x > 5)      # predict then check\n",
    "print(x == 10)   # predict then check\n",
    "print(x != 3)    # predict then check\n",
    "print(x < 3 or x > 6)    # predict then check\n",
    "print(x > 3 and x < 6)    # predict then check\n",
    "print(not x > 6)    # predict then check"
   ]
  },
  {
   "cell_type": "markdown",
   "id": "863e06de-9da3-43d8-8315-5db9f1fabc27",
   "metadata": {},
   "source": [
    "**Q.** Simple `if`\n",
    "\n",
    "Run the code. Then edit the value of `temp` to 60, -10, 40 and observe which message prints."
   ]
  },
  {
   "cell_type": "code",
   "execution_count": null,
   "id": "9ffd8e16",
   "metadata": {},
   "outputs": [],
   "source": [
    "temp = 32  # try changing this value\n",
    "if temp < 40:\n",
    "    print(\"It's cold!\")\n",
    "else:\n",
    "    print(\"Not so cold\")"
   ]
  },
  {
   "cell_type": "markdown",
   "id": "a2992562-48a0-4c18-acab-2f28ad2f4b52",
   "metadata": {},
   "source": [
    "What is the printed message? \n",
    "- temp is 32: [Your answer here]\n",
    "- 60: [Your answer here] \n",
    "- -10:[Your answer here]\n",
    "- 40: [Your answer here]"
   ]
  },
  {
   "cell_type": "markdown",
   "id": "43f23c95-4d35-4bba-8a95-db0eb91692ae",
   "metadata": {},
   "source": [
    "**Q.** Built-in functions and string methods\n",
    "\n",
    "Run the next few cells and talk with your group to understand what the functions and string methods do to the variable `word='banana'`."
   ]
  },
  {
   "cell_type": "code",
   "execution_count": null,
   "id": "33722648-fa57-423d-b4f8-e7a6dc95e31e",
   "metadata": {},
   "outputs": [],
   "source": [
    "word = 'banana'\n",
    "\n",
    "len(word)"
   ]
  },
  {
   "cell_type": "code",
   "execution_count": null,
   "id": "8ca51d61-eef5-467a-8945-9cb6f6c7d00a",
   "metadata": {},
   "outputs": [],
   "source": [
    "word = 'banana'\n",
    "\n",
    "print('1. word is:', word)\n",
    "\n",
    "w = word.upper()\n",
    "print('2. w is:', w)\n",
    "print('3. word is:', word)"
   ]
  },
  {
   "cell_type": "code",
   "execution_count": null,
   "id": "7035e2a6-18ae-406b-b93b-a0985529bc24",
   "metadata": {},
   "outputs": [],
   "source": [
    "word = 'banana'\n",
    "\n",
    "print('1. word is:', word)\n",
    "\n",
    "word = word.upper()\n",
    "print('2. w is:', w)\n",
    "print('3. word is:', word)"
   ]
  },
  {
   "cell_type": "markdown",
   "id": "9d0020d0-2dc7-4379-849a-a58b83e4c21f",
   "metadata": {},
   "source": [
    "What is the difference between the two cells above? Why do different behaviors occur?\n",
    "\n",
    "[Your answer here]"
   ]
  },
  {
   "cell_type": "code",
   "execution_count": null,
   "id": "81c2d337-fce4-4db4-96be-8f374c7ac325",
   "metadata": {},
   "outputs": [],
   "source": [
    "word.lower()"
   ]
  },
  {
   "cell_type": "code",
   "execution_count": null,
   "id": "bc7444e0-1916-43b7-adb3-0d025512aba7",
   "metadata": {},
   "outputs": [],
   "source": [
    "word = 'bAnana'\n",
    "\n",
    "word.replace(\"a\", \"o\")"
   ]
  },
  {
   "cell_type": "markdown",
   "id": "b60124bd-ac46-41b5-8787-6dee8b98a1bf",
   "metadata": {},
   "source": [
    "**Q.** There are more string methods listed in https://www.w3schools.com/python/python_ref_string.asp. Now, if you have a filename such as `\"report.csv\"`, which of the string methods would you use to check whether the filename ends with `'.csv'`? Click on that method from the table, take a look at their example, then try to write code that:\n",
    "\n",
    "1. Assigns variable `ends_ok` to whether the filename ends with `'.csv'` or not.\n",
    "2. If `ends_ok`, then print \"valid\".\n",
    "3. If not, then print \"invalid\".\n"
   ]
  },
  {
   "cell_type": "code",
   "execution_count": null,
   "id": "6beec6ee",
   "metadata": {},
   "outputs": [],
   "source": [
    "filename = \"report.csv\" # try different values\n",
    "\n",
    "# Your code here"
   ]
  },
  {
   "cell_type": "markdown",
   "id": "f020a8ef-fc36-4a58-87e8-8db48d40992c",
   "metadata": {},
   "source": [
    "**Q.** Add `elif`\n",
    "\n",
    "Classify a number into three buckets. Try different values for n and talk through the logic with your group. No text answer needed."
   ]
  },
  {
   "cell_type": "code",
   "execution_count": null,
   "id": "30f1ed3b",
   "metadata": {},
   "outputs": [],
   "source": [
    "n = 15  # try different values\n",
    "\n",
    "if n >= 20:\n",
    "    print(\"large\")\n",
    "elif n >= 5:\n",
    "    print(\"medium\")\n",
    "else:\n",
    "    print(\"small\")\n",
    "\n",
    "if n == 13: # How is this different from elif? Try changing n to 13 in the first line.\n",
    "    print(\"thirteen\")"
   ]
  },
  {
   "cell_type": "markdown",
   "id": "1dcdfbb5-13c8-4269-8346-33fe7d2673dd",
   "metadata": {},
   "source": [
    "**Q.** Translating question to more complex logic and control\n",
    "\n",
    "Print `Special` if `temp < 32` or `wind > 20`; otherwise print `Normal`. Then print `Not California` if `state` is not California, else `California spotted!`."
   ]
  },
  {
   "cell_type": "code",
   "execution_count": null,
   "id": "c530fd55",
   "metadata": {},
   "outputs": [],
   "source": [
    "temp = 28\n",
    "wind = 10\n",
    "state = \"Oregon\"\n",
    "\n",
    "# Your code here"
   ]
  },
  {
   "cell_type": "markdown",
   "id": "76b9d270-05e2-4de8-ad8d-55ba94648387",
   "metadata": {},
   "source": [
    "**Q.** You can assigning boolean values to variables, then using it in if/else statements."
   ]
  },
  {
   "cell_type": "code",
   "execution_count": null,
   "id": "d80d9b09-86fb-4eed-addc-fafbe7fa435a",
   "metadata": {},
   "outputs": [],
   "source": [
    "x = 12 # Try different values\n",
    "y = 20 \n",
    "\n",
    "# Assign boolean values\n",
    "is_x_less = (x < y) # What is the type of this variable? [Your answer here]\n",
    "is_y_big = (y > 15) \n",
    "\n",
    "print(is_x_less)  # What do you expect to see? [Your answer here]\n",
    "print(is_y_big)  # What do you expect to see? [Your answer here]"
   ]
  },
  {
   "cell_type": "code",
   "execution_count": null,
   "id": "d375834a-f285-49f9-96e6-c7749374b9ba",
   "metadata": {},
   "outputs": [],
   "source": [
    "if is_x_less and is_y_big:\n",
    "    print(\"x is smaller than y, and y is big!\")\n",
    "else:\n",
    "    print(\"Condition not met.\")"
   ]
  },
  {
   "cell_type": "markdown",
   "id": "8ae77c08-8ad8-4fc7-bbf7-c267ad138bbf",
   "metadata": {},
   "source": [
    "How would you combine `is_x_less` and `is_y_big` to create this condition?\n",
    "\n",
    "    x is at least as big as y, and y is <= 15."
   ]
  },
  {
   "cell_type": "code",
   "execution_count": null,
   "id": "c093c49f-a655-494a-a8a0-e61c49f549d1",
   "metadata": {},
   "outputs": [],
   "source": [
    "# your code here"
   ]
  },
  {
   "cell_type": "markdown",
   "id": "d707d89b-95a8-4ad5-9fbd-2a68e97d08f9",
   "metadata": {},
   "source": [
    "## Submission to Gradescope\n",
    "\n",
    "### Step 1 – Run All Cells and Save\n",
    "- My favorite thing to do in Jupyter Notebook is to click the ⏩️ button on the toolbar. This refreshes the memory, then runs all cells in order.\n",
    "- Then, click **File → Save Notebook** to make sure your notebook file (`.ipynb`) is up to date. Or run `command (or control) + s`.\n",
    "\n",
    "### Step 2 – Export to PDF\n",
    "  1. Choose **File → Print**.\n",
    "  2. In your browser’s print dialog, change the **Destination** to “Save as PDF.”\n",
    "  3. Click **Save** and name the file clearly (e.g., `lab1.pdf`).\n",
    "\n",
    "### Step 3 - Run the Last Cell\n",
    "1. Run the last cell (below)\n",
    "2. Download the zip file to your computer.\n",
    "\n",
    "### Step 4 – Submit to Gradescope\n",
    "- Log into **Gradescope** and open the assignment. You can get there from Canvas assignment as well.\n",
    "- Upload **both files** by highlighting both items and draggin and dropping them to the submission box:\n",
    "  1. Your **`.zip` file** (generated by otter).\n",
    "  2. Your **`.pdf` file** (exported from the notebook).\n",
    "- Make sure your submission is **complete and readable** before clicking submit.\n",
    "\n",
    "### Step 5 – Confirm Your Submission\n",
    "- After submitting, check Gradescope’s preview to ensure your files display properly.\n",
    "- If anything is missing or unreadable, re-export and resubmit before the deadline.\n"
   ]
  },
  {
   "cell_type": "markdown",
   "id": "98571ab7",
   "metadata": {
    "deletable": false,
    "editable": false
   },
   "source": [
    "## Submission\n",
    "\n",
    "Make sure you have run all cells in your notebook in order before running the cell below, so that all images/graphs appear in the output. The cell below will generate a zip file for you to submit. **Please save before exporting!**\n",
    "\n",
    "Submit zip file and PDF to Gradescope Lab2"
   ]
  },
  {
   "cell_type": "code",
   "execution_count": null,
   "id": "46dfaab8",
   "metadata": {
    "deletable": false,
    "editable": false
   },
   "outputs": [],
   "source": [
    "# Save your notebook first, then run this cell to export your submission.\n",
    "grader.export(pdf=False, run_tests=True)"
   ]
  },
  {
   "cell_type": "markdown",
   "id": "2d23b511",
   "metadata": {},
   "source": [
    " "
   ]
  }
 ],
 "metadata": {
  "kernelspec": {
   "display_name": "Python 3 (ipykernel)",
   "language": "python",
   "name": "python3"
  },
  "language_info": {
   "codemirror_mode": {
    "name": "ipython",
    "version": 3
   },
   "file_extension": ".py",
   "mimetype": "text/x-python",
   "name": "python",
   "nbconvert_exporter": "python",
   "pygments_lexer": "ipython3",
   "version": "3.12.6"
  },
  "otter": {
   "OK_FORMAT": true,
   "tests": {
    "name": {
     "name": "name",
     "points": 0,
     "suites": [
      {
       "cases": [
        {
         "code": ">>> assert type(name) == str\n",
         "hidden": false,
         "locked": false
        }
       ],
       "scored": true,
       "setup": "",
       "teardown": "",
       "type": "doctest"
      }
     ]
    }
   }
  }
 },
 "nbformat": 4,
 "nbformat_minor": 5
}
