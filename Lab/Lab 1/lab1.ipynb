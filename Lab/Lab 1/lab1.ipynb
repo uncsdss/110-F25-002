{
 "cells": [
  {
   "cell_type": "code",
   "execution_count": null,
   "id": "32979817",
   "metadata": {
    "deletable": false,
    "editable": false
   },
   "outputs": [],
   "source": [
    "# Initialize Otter\n",
    "import otter\n",
    "grader = otter.Notebook(\"lab1.ipynb\")"
   ]
  },
  {
   "cell_type": "markdown",
   "id": "ce3afdbd",
   "metadata": {},
   "source": [
    "# Welcome to Lab 1\n",
    "\n",
    "Welcome to your first data science lab!\n",
    "In this lab, we will learn how to use **Jupyter Notebooks** and write our very first lines of Python code.  \n",
    "No programming experience? No problem! We’ll go step by step. We'll spend the next few weeks explaining Python programming. For now, this is just to whet your appetite and get you familiar with the tools we are using in this class.\n",
    "\n",
    "**Goals for Today:**\n",
    "1. Meet your classmates.\n",
    "2. Learn how to run code in Jupyter.\n",
    "3. Practice writing and running simple Python commands and Markdown text."
   ]
  },
  {
   "cell_type": "markdown",
   "id": "febe1494",
   "metadata": {},
   "source": [
    "## 1. Hello Team\n",
    "\n",
    "If you haven't already, take a few minutes to introduce yourselves:\n",
    "\n",
    "1. Your name  \n",
    "2. Your area or planned area of study at UNC  \n",
    "3. Why you are interested in data science  \n",
    "4. What kind of group project topics you are interested in  \n",
    "\n",
    "**Bonus question:** If you were a vegetable, which vegetable would you be **and why**?  \n",
    "(Remember: This is not the same as \"What is your favorite vegetable?\")\n"
   ]
  },
  {
   "cell_type": "markdown",
   "id": "398a6c69",
   "metadata": {},
   "source": [
    "## 2. Hello Jupyter\n",
    "\n",
    "This is a Jupyter Notebook, which is an interactive “notebook” where we will be writing a mixture of Python code and text explanations of our results. Each of these boxes is a cell, which can contain a piece of code or text. You’ll become very familiar with it over the semester.\n",
    "\n",
    "- **Markdown cells** (like this one) contain text, which can be prettily formatted.   \n",
    "- **Code cells** contain Python code you can run.\n",
    "\n",
    "Let's start by running code that’s already written for you.\n",
    "\n",
    "Below is a code cell. To run it:  \n",
    "- Click the cell.\n",
    "- Press **Shift + Enter** (Windows/Mac) or use the **Run ▶** button in the toolbar.\n",
    "\n",
    "You should see some text appear *below* the cell."
   ]
  },
  {
   "cell_type": "code",
   "execution_count": null,
   "id": "721e6bdd",
   "metadata": {},
   "outputs": [],
   "source": [
    "print(\"Hello, Data Science!\")"
   ]
  },
  {
   "cell_type": "markdown",
   "id": "0cd9c4f8",
   "metadata": {},
   "source": [
    "### Now You Try\n",
    "\n",
    "In the code cell below, change the text inside the quotation marks (`\" \"`), and then run it again.\n",
    "\n",
    "Example:  \n",
    "```python\n",
    "print(\"I love cats and pizza!\")\n",
    "```\n"
   ]
  },
  {
   "cell_type": "code",
   "execution_count": null,
   "id": "0d69928b",
   "metadata": {},
   "outputs": [],
   "source": [
    "print(\"Replace this with your own message\")"
   ]
  },
  {
   "cell_type": "markdown",
   "id": "a4890404",
   "metadata": {},
   "source": [
    "## 3. Variables in Python\n",
    "\n",
    "A **variable** stores information we can use later.  \n",
    "In the example below, we store the name of a vegetable in a variable called `vegetable`.\n",
    "\n",
    "Run the code cell below to see it in action.\n"
   ]
  },
  {
   "cell_type": "code",
   "execution_count": null,
   "id": "257e8243",
   "metadata": {},
   "outputs": [],
   "source": [
    "vegetable = \"broccoli\"\n",
    "print(\"You chose:\", vegetable)"
   ]
  },
  {
   "cell_type": "markdown",
   "id": "0c4a7d22",
   "metadata": {},
   "source": [
    "### Now change the variable\n",
    "\n",
    "Change `\"broccoli\"` to your chosen vegetable from the icebreaker question, then run the cell again.\n"
   ]
  },
  {
   "cell_type": "code",
   "execution_count": null,
   "id": "67554d99",
   "metadata": {
    "tags": [
     "otter_answer_cell"
    ]
   },
   "outputs": [],
   "source": [
    "vegetable = \"broccoli\"  # Change this to your vegetable inside the quotation marks like you did before!\n",
    "print(\"You chose:\", vegetable)"
   ]
  },
  {
   "cell_type": "markdown",
   "id": "929c3c2a-3205-4630-8e39-52affc29faf9",
   "metadata": {
    "deletable": false,
    "editable": false
   },
   "source": [
    "## What is a Comment in Code?\n",
    "\n",
    "A **comment** is text in your code that Python ignores when running the program.  \n",
    "Comments are for **humans to read**, not for the computer.  \n",
    "You can use them to explain what your code does, leave notes for yourself, or make the code easier to understand for others.\n",
    "\n",
    "- In Python, a comment starts with a **`#`** symbol.\n",
    "- Anything after `#` on the same line will not be executed.\n",
    "\n",
    "**Example:**\n",
    "```python\n",
    "# This line is a comment. It will not run.\n",
    "print(\"Hello, world!\")  # This prints a greeting\n"
   ]
  },
  {
   "cell_type": "markdown",
   "id": "3c7b2bc3",
   "metadata": {
    "deletable": false,
    "editable": false
   },
   "source": [
    "## 4. Adding New Cells in Jupyter\n",
    "\n",
    "Sometimes you’ll want to add your own cell, either to write more code or add text notes.\n",
    "\n",
    "**To add a new cell:**\n",
    "1. Click on an existing cell.\n",
    "2. Press **`+`** to insert a cell below.  \n",
    "3. Change the cell type to **Code** (in the toolbar) if it isn’t already.\n",
    "4. Type your Python code and run it.\n",
    "\n",
    "**To add a new markdown cell:**\n",
    "1. Click on an existing cell.\n",
    "2. Press **`+`** to add a new cell.\n",
    "3. Change the cell type to **Markdown** (from the dropdown in the toolbar).\n",
    "4. Type your text. You can use `#` for headings, `**bold**` for bold, and `*italics*` for italics. This cheatsheet (https://commonmark.org/help/) contains a useful and concise set of instructions for Markdown editing.\n",
    "5. Run the cell to see your formatted text.\n"
   ]
  },
  {
   "cell_type": "markdown",
   "id": "1a394706",
   "metadata": {
    "deletable": false,
    "editable": false
   },
   "source": [
    "### Exercise: Add Your Own Code Cell\n",
    "\n",
    "1. Add a **new code cell** below this one.\n",
    "2. In your new cell, write a Python command that prints one of your groupmate's name and their vegatable.  \n",
    "   Example:  \n",
    "   ```python\n",
    "   print(\"Alex is in my group and he would be a corn.\")\n",
    "   ```\n",
    "3. Run your cell to see the output.\n"
   ]
  },
  {
   "cell_type": "markdown",
   "id": "6d4ff4b3",
   "metadata": {
    "deletable": false,
    "editable": false
   },
   "source": [
    "### Exercise: Add Your Own Markdown Cell\n",
    "\n",
    "1. Add a **new markdown cell** below this one.\n",
    "2. In your markdown cell, type:\n",
    "   - A level-2 heading with your name (`## My Name`)\n",
    "   - A numbered list of the names of your groupmates.\n",
    "   - A sentence on why you are excited to learn about data science.\n",
    "3. Run the cell to see your formatted text.\n"
   ]
  },
  {
   "cell_type": "markdown",
   "id": "66881bb5-c004-4441-95fb-981b71e29f44",
   "metadata": {
    "deletable": false,
    "editable": false
   },
   "source": [
    "## 5. Submission to Gradescope\n",
    "\n",
    "### Step 1 – Run All Cells and Save\n",
    "- My favorite thing to do in Jupyter Notebook is to click the ⏩️ button on the toolbar. This refreshes the memory, then runs all cells in order.\n",
    "- Then, click **File → Save Notebook** to make sure your notebook file (`.ipynb`) is up to date. Or run `command (or control) + s`.\n",
    "\n",
    "### Step 2 – Export to PDF\n",
    "  1. Choose **File → Print**.\n",
    "  2. In your browser’s print dialog, change the **Destination** to “Save as PDF.”\n",
    "  3. Click **Save** and name the file clearly (e.g., `lab1.pdf`).\n",
    "\n",
    "### Step 3 - Run the Last Cell\n",
    "1. Run the last cell (below)\n",
    "2. Download the zip file to your computer.\n",
    "\n",
    "### Step 4 – Submit to Gradescope\n",
    "- Log into **Gradescope** and open the Lab 1 assignment. You can get there from Canvas assignment as well.\n",
    "- Upload **both files** by highlighting both items and draggin and dropping them to the submission box:\n",
    "  1. Your **`.zip` file** (generated by otter).\n",
    "  2. Your **`.pdf` file** (exported from the notebook).\n",
    "- Make sure your submission is **complete and readable** before clicking submit.\n",
    "\n",
    "### Step 5 – Confirm Your Submission\n",
    "- After submitting, check Gradescope’s preview to ensure your files display properly.\n",
    "- If anything is missing or unreadable, re-export and resubmit before the deadline.\n"
   ]
  },
  {
   "cell_type": "markdown",
   "id": "748b5979",
   "metadata": {
    "deletable": false,
    "editable": false
   },
   "source": [
    "## Submission\n",
    "\n",
    "Make sure you have run all cells in your notebook in order before running the cell below, so that all images/graphs appear in the output. The cell below will generate a zip file for you to submit. **Please save before exporting!**\n",
    "\n",
    "Submit zip file and PDF to Gradescope Lab1"
   ]
  },
  {
   "cell_type": "code",
   "execution_count": null,
   "id": "5e2fc996",
   "metadata": {
    "deletable": false,
    "editable": false
   },
   "outputs": [],
   "source": [
    "# Save your notebook first, then run this cell to export your submission.\n",
    "grader.export(pdf=False, run_tests=True)"
   ]
  },
  {
   "cell_type": "markdown",
   "id": "0ebb0d18",
   "metadata": {},
   "source": [
    " "
   ]
  }
 ],
 "metadata": {
  "kernelspec": {
   "display_name": "Python 3 (ipykernel)",
   "language": "python",
   "name": "python3"
  },
  "language_info": {
   "codemirror_mode": {
    "name": "ipython",
    "version": 3
   },
   "file_extension": ".py",
   "mimetype": "text/x-python",
   "name": "python",
   "nbconvert_exporter": "python",
   "pygments_lexer": "ipython3",
   "version": "3.12.6"
  },
  "otter": {
   "OK_FORMAT": true,
   "tests": {
    "otter-demo": {
     "name": "otter-demo",
     "points": 0,
     "suites": [
      {
       "cases": [
        {
         "code": ">>> assert isinstance(vegetable, str)\n",
         "hidden": false,
         "locked": false
        }
       ],
       "scored": true,
       "setup": "",
       "teardown": "",
       "type": "doctest"
      }
     ]
    }
   }
  }
 },
 "nbformat": 4,
 "nbformat_minor": 5
}
