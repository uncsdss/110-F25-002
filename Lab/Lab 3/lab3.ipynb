{
 "cells": [
  {
   "cell_type": "code",
   "execution_count": null,
   "metadata": {
    "deletable": false,
    "editable": false
   },
   "outputs": [],
   "source": [
    "# Initialize Otter\n",
    "import otter\n",
    "grader = otter.Notebook(\"lab3.ipynb\")"
   ]
  },
  {
   "cell_type": "markdown",
   "metadata": {},
   "source": [
    "## Name: [Your name] (your onyen)\n",
    "\n",
    "This activity will be on writing Python code that can test whether a password is valid or not. We'll use this time to practice writing variable assignments, control flow (if, for) and thinking through logic.\n",
    "\n",
    "Names and onyens of people you worked with today:\n",
    "\n",
    "- Teammate 1:\n",
    "- Teammate 2:\n",
    "- Teammate 3:\n",
    "\n"
   ]
  },
  {
   "cell_type": "markdown",
   "metadata": {},
   "source": [
    "# 1. Getting user inputs (5 minutes)\n",
    "\n",
    "We haven't shown you this in class yet, but there's a nice function called `input` in Python that can ask for and save user input. Copy paste and run the code below to see an example.\n",
    "\n",
    "```Python\n",
    "name = input(\"What is your name?: \")\n",
    "name\n",
    "```"
   ]
  },
  {
   "cell_type": "code",
   "execution_count": null,
   "metadata": {
    "otter": {
     "tests": [
      "q1"
     ]
    },
    "tags": [
     "otter_answer_cell"
    ]
   },
   "outputs": [],
   "source": [
    "# paste and run the code here!\n",
    "..."
   ]
  },
  {
   "cell_type": "markdown",
   "metadata": {},
   "source": [
    "What happened here? In the first line, we asked the user for their input with the prompt \"What is your name?: \", and saved their response to a variable `name`. In the second line, we checked to see what's saved in `name`. Make sure you understand these two lines.\n",
    "\n",
    "**Q**: What is the data type of the variable `name`? [Your answer here]"
   ]
  },
  {
   "cell_type": "markdown",
   "metadata": {},
   "source": [
    "Let's try this one more time.\n",
    "\n",
    "```Python\n",
    "age = input(\"What is your age?: \")\n",
    "print(f'{name} is {age} years old.')\n",
    "```"
   ]
  },
  {
   "cell_type": "code",
   "execution_count": null,
   "metadata": {},
   "outputs": [],
   "source": [
    "# paste and run the code here!\n"
   ]
  },
  {
   "cell_type": "markdown",
   "metadata": {},
   "source": [
    "What did you notice? The first line looks very similar to the earlier code, but this time we ask the user for their age and save it in a new variable called `age`. \n",
    "The second line `print`s out a full sentence using both the variable `name` and `age`. \n",
    "\n",
    "**Q**: What is the data type of vaiable `age`? Is that what you expected? [Your answer here]"
   ]
  },
  {
   "cell_type": "markdown",
   "metadata": {},
   "source": [
    "**Remark**: The `f` in the beginning of the string tells Python that this is a `f`ormatted string, and that whenever there are curly brackets `{ }`, they should replace that variable with its value. In other words, the curly brackets are placeholders. If this is confusing, copy paste the code below to a new code cell, and try running it to see the difference with the earlier print statement. If you're curious, take a look at [this tutorial](https://www.w3schools.com/python/python_string_formatting.asp) or google 'f-string python'. You are not expected to memorize this syntax or will ever be tested on this, so don't stress out too much.\n",
    "\n",
    "```python\n",
    "print('name is age years old.')\n",
    "```\n",
    "\n"
   ]
  },
  {
   "cell_type": "markdown",
   "metadata": {},
   "source": [
    "**Q**: Now we have the tools to ask the user for their password. Write one line of code below that asks the user for `input` on their password with the prompt \"Enter your password: \", and assigns the response to a new variable named `password`. Don't use your actual passwords!!"
   ]
  },
  {
   "cell_type": "code",
   "execution_count": null,
   "metadata": {},
   "outputs": [],
   "source": [
    "# Write your code here!\n",
    "\n"
   ]
  },
  {
   "cell_type": "markdown",
   "metadata": {},
   "source": [
    "# 2. Testing for length (5 minutes)\n",
    "**Q**: We'll start by testing whether the password is at least 8 letters long. If it is, we will assign variable `has_valid_length` to `True`. If the password is too short, we will assign variable `has_valid_length` to `False`. \n",
    "\n",
    "**Q**: What is the data type of variable `has_valid_length`? [Your answer here]\n",
    "\n",
    "**Hint**: What built-in Python function can we use to easily count the number of letters in a string in one go?"
   ]
  },
  {
   "cell_type": "code",
   "execution_count": null,
   "metadata": {},
   "outputs": [],
   "source": [
    "# Write your code here!\n",
    "\n"
   ]
  },
  {
   "cell_type": "markdown",
   "metadata": {},
   "source": [
    "# 3. Testing for digits (15 minutes)\n",
    "\n",
    "Often websites require passwords to have at least one number or digit. There are multiple ways to achieve this through Python, and I'll walk you through one such method. I'm going to count the total number of digits in the password, and if that value is greater than 0, I'll declare that password to have passed this test. \n",
    "\n",
    "**If you're confused**: Definitely talk through the logic with your group before trying to write Python code. If it's still confusing - don't stay stuck! TAs are ready to help you. \n",
    "\n",
    "Here's a step by step process.\n",
    "\n",
    "1. We are going to start by assigning a new variable `num_digits` to integer 0, which we hope (by the end of our code) will be equal to the total number of digits in the password. For example, if my password is 'puppycat999', num_digits should be 3 at the end our code.\n",
    "   \n",
    "2. Then, we will **iterate** through every `letter` in the `password`.\n",
    "\n",
    "3. While looking at every `letter`, let's check if it is a digit. You can do this in two ways. You can check whether `letter` is `in` '0123456789', or use the string method `isdigit()`, as in `letter.isdigit()`. See slides to remember how to use string methods.\n",
    "\n",
    " **Hint**: Try running this code (and play around with the letters) to understand this step.\n",
    "\n",
    "```python\n",
    "letter = 'l'\n",
    "print(letter.isdigit())\n",
    "print(letter in '0123456789')\n",
    "\n",
    "letter = '5'\n",
    "print(letter.isdigit())\n",
    "print(letter in '0123456789')\n",
    "```\n",
    "\n",
    "4. If the `letter` is a digit, increase the value of `num_digits` by 1.\n",
    "\n",
    "5. Once we've investigated every `letter` in the `password`, assign `has_digits` to be `True` if `num_digits` is greater than 0, otherwise `False`.\n",
    "\n",
    "\n",
    "**Q**: Once you talked through the logic and have an idea of what to do, try writing the code below. My solution has 8 lines."
   ]
  },
  {
   "cell_type": "code",
   "execution_count": null,
   "metadata": {},
   "outputs": [],
   "source": [
    "# Write your code here!\n",
    "\n"
   ]
  },
  {
   "cell_type": "markdown",
   "metadata": {},
   "source": [
    "# 4. Combining two criteria (5 minutes)\n",
    "\n",
    "Now that we have checked two criteria and saved those results in two `bool` variables `has_valid_length` and `has_digits`, we can combine those information to tell the user whether their password is valid or not. We will do this with an `if`-`else` statement.\n",
    "\n",
    "**Q.** Write code that does the following:\n",
    "\n",
    "1. If `has_valid_length` **and** `has_digits`, print 'Password is valid!'. \n",
    "2. Otherwise, print 'Password is not valid. Please try something else.'."
   ]
  },
  {
   "cell_type": "code",
   "execution_count": null,
   "metadata": {},
   "outputs": [],
   "source": [
    "# Your code here"
   ]
  },
  {
   "cell_type": "markdown",
   "metadata": {},
   "source": [
    "# 5. Putting everything together (10 minutes)\n",
    "\n",
    "You won't have to write anything new for this part. \n",
    "\n",
    "**Q**: Copy paste the bits and pieces you've already written to create a full program. For example, these are the 4 steps of my program, which is exactly problem 1-4 we did in this lab.\n",
    "\n",
    "1. Ask user for their password\n",
    "2. Check if password contains at least 8 letters\n",
    "3. Check if password contains at least one number\n",
    "4. Combine length and digit criteria\n",
    "\n",
    "**Q**: Is 'password' a valid password? [Your answer here]"
   ]
  },
  {
   "cell_type": "code",
   "execution_count": null,
   "metadata": {},
   "outputs": [],
   "source": [
    "# Write and run code here! \n",
    "\n",
    "# 1. ask user for their password\n",
    "\n",
    "# 2. check if password contains at least 8 letters\n",
    "\n",
    "# 3. check if password contains at least one number\n",
    "\n",
    "# 4. combine length and digit criteria"
   ]
  },
  {
   "cell_type": "markdown",
   "metadata": {},
   "source": [
    "# 6. Testing your program (10 minutes)\n"
   ]
  },
  {
   "cell_type": "markdown",
   "metadata": {},
   "source": [
    "**Q**: It is important to test your code thoroughly by trying different passwords. In this case, you only need to test exactly 4 password. Why?"
   ]
  },
  {
   "cell_type": "markdown",
   "metadata": {},
   "source": [
    "[Write your answer here]"
   ]
  },
  {
   "cell_type": "markdown",
   "metadata": {},
   "source": [
    "**Q**: Which 4 passwords did you test, what were your expectations (pass/no pass), and your actual results (pass/no pass)? Don't use your real password!"
   ]
  },
  {
   "cell_type": "markdown",
   "metadata": {},
   "source": [
    "[Write your answer here]"
   ]
  },
  {
   "cell_type": "markdown",
   "metadata": {},
   "source": [
    "**Q**: In addition to length and number, if you were also testing for at least 1 upper case and at least 1 special character, how many passwords would you need to test? Why? Discuss with your group."
   ]
  },
  {
   "cell_type": "markdown",
   "metadata": {},
   "source": [
    "[Write your answer here]"
   ]
  },
  {
   "cell_type": "markdown",
   "metadata": {},
   "source": [
    "# Bonus challenges (if you're done early)\n",
    "\n",
    "(not necessary to complete for full credit, but necessary to leave lab early)\n",
    "\n",
    "In reality, password checkers have more stringent requirements. If you feel up to the challenge and want more practice, try adding: \n",
    "\n",
    "- Password should contain at least one upper case letter.\n",
    "- Password should contain at least one lower case letter.\n",
    "- Password should contain at least one special character ~`!@#$%^&*()-_+={}[]|\\;:\"<>,./?\n",
    "\n",
    "**Hint**: If you focus on the big picture logic, all of them should feel very similar to one of the two we have already done. Which one?\n",
    "\n",
    "**Challenge**: Can you write it with just one for loop?"
   ]
  },
  {
   "cell_type": "code",
   "execution_count": null,
   "metadata": {},
   "outputs": [],
   "source": [
    "# Write your code here\n",
    "\n"
   ]
  },
  {
   "cell_type": "markdown",
   "metadata": {},
   "source": [
    "## Submission to Gradescope\n",
    "\n",
    "### Step 1 – Run All Cells and Save\n",
    "- My favorite thing to do in Jupyter Notebook is to click the ⏩️ button on the toolbar. This refreshes the memory, then runs all cells in order.\n",
    "- Then, click **File → Save Notebook** to make sure your notebook file (`.ipynb`) is up to date. Or run `command (or control) + s`.\n",
    "\n",
    "### Step 2 – Export to PDF\n",
    "  1. Choose **File → Print**.\n",
    "  2. In your browser’s print dialog, change the **Destination** to “Save as PDF.”\n",
    "  3. Click **Save** and name the file clearly (e.g., `lab1.pdf`).\n",
    "\n",
    "### Step 3 - Run the Last Cell\n",
    "1. Run the last cell (below)\n",
    "2. Download the zip file to your computer.\n",
    "\n",
    "### Step 4 – Submit to Gradescope\n",
    "- Log into **Gradescope** and open the assignment. You can get there from Canvas assignment as well.\n",
    "- Upload **both files** by highlighting both items and draggin and dropping them to the submission box:\n",
    "  1. Your **`.zip` file** (generated by otter).\n",
    "  2. Your **`.pdf` file** (exported from the notebook).\n",
    "- Make sure your submission is **complete and readable** before clicking submit.\n",
    "\n",
    "### Step 5 – Confirm Your Submission\n",
    "- After submitting, check Gradescope’s preview to ensure your files display properly.\n",
    "- If anything is missing or unreadable, re-export and resubmit before the deadline.\n"
   ]
  },
  {
   "cell_type": "markdown",
   "metadata": {
    "deletable": false,
    "editable": false
   },
   "source": [
    "## Submission\n",
    "\n",
    "Make sure you have run all cells in your notebook in order before running the cell below, so that all images/graphs appear in the output. The cell below will generate a zip file for you to submit. **Please save before exporting!**\n",
    "\n",
    "Submit zip file and PDF to Gradescope Lab3"
   ]
  },
  {
   "cell_type": "code",
   "execution_count": null,
   "metadata": {
    "deletable": false,
    "editable": false
   },
   "outputs": [],
   "source": [
    "# Save your notebook first, then run this cell to export your submission.\n",
    "grader.export(pdf=False)"
   ]
  },
  {
   "cell_type": "markdown",
   "metadata": {},
   "source": [
    " "
   ]
  }
 ],
 "metadata": {
  "kernelspec": {
   "display_name": "Python 3 (ipykernel)",
   "language": "python",
   "name": "python3"
  },
  "language_info": {
   "codemirror_mode": {
    "name": "ipython",
    "version": 3
   },
   "file_extension": ".py",
   "mimetype": "text/x-python",
   "name": "python",
   "nbconvert_exporter": "python",
   "pygments_lexer": "ipython3",
   "version": "3.12.6"
  },
  "otter": {
   "OK_FORMAT": true,
   "tests": {
    "q1": {
     "name": "q1",
     "points": 0,
     "suites": [
      {
       "cases": [],
       "scored": true,
       "setup": "",
       "teardown": "",
       "type": "doctest"
      }
     ]
    }
   }
  }
 },
 "nbformat": 4,
 "nbformat_minor": 4
}
