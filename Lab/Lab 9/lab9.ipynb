{
 "cells": [
  {
   "cell_type": "markdown",
   "id": "48c989ca",
   "metadata": {},
   "source": [
    "#  Lab 9: Getting there on the final project proposal\n",
    "\n",
    "In HW5, you decided on a dataset and did some exploration. During this lab, your will work on other parts of the project proposal. Once you're through, you would just need to compile this information + data exploration into a proposal, and you're done!\n",
    "\n",
    "By the end of the lab, you must print a `pdf` and submit this lab **as a group** using Gradescope group submission: https://guides.gradescope.com/hc/en-us/articles/21863861823373-Adding-Group-Members-to-a-Submission. This is to make sure you get practice for group submissions!\n",
    "\n",
    "**Names** and **Onyens** of everyone present today:\n",
    "1. name and onyen\n",
    "2. name and onyen\n",
    "3. name and onyen"
   ]
  },
  {
   "cell_type": "code",
   "execution_count": null,
   "id": "6e3f782a-4f77-4819-a8e1-f7eb6fb4a27b",
   "metadata": {},
   "outputs": [],
   "source": [
    "# If needed\n",
    "# To load dataset from a different folder, change the variable fn appropriately.\n",
    "import pandas as pd\n",
    "fn = 'palmer_penguins'\n",
    "data = pd.read_csv(f'~/110-F25/project/{fn}.csv')"
   ]
  },
  {
   "cell_type": "markdown",
   "id": "06afc07e-6b49-4ee8-aac8-122ddc1a89ba",
   "metadata": {},
   "source": [
    "## Part 1: Share individual data exploration results (10 mins)\n",
    "\n",
    "Your data exploration was done individually as a part of HW5. Use this time to share those results and discuss what you've found. No text response needed."
   ]
  },
  {
   "cell_type": "markdown",
   "id": "9088e1fe",
   "metadata": {},
   "source": [
    "## Part 2: Define the problem you want to solve (20 mins)"
   ]
  },
  {
   "cell_type": "markdown",
   "id": "7276d481",
   "metadata": {},
   "source": [
    "Based on 1) the data exploration results and 2) what you learned in the intro to machine learning lecture on Wednesday, what are the **prediction problems** you are interested in for this project?\n",
    "\n",
    "You don't need to know which predictive model you'll use (We haven't covered it yet! Also not needed for the proposal).\n",
    "\n",
    "Here are the points you should address:\n",
    "\n",
    "- The general topic/question and why you are interested in it. [Write your answer here]\n",
    "- Will this be a regression problem or a classification problem? [Write your answer here]\n",
    "- What are the target variables (labels)? [Write your answer here]\n",
    "- What are the predictor variables (features)? [Write your answer here]"
   ]
  },
  {
   "cell_type": "markdown",
   "id": "5de960e0-39af-4389-ae49-a524d8619b78",
   "metadata": {},
   "source": [
    "## Part 3: Data collection and preparation (15 mins)\n",
    "\n",
    "Based on your discussion in the previous parts, what data collection  or data preparation do you need? "
   ]
  },
  {
   "cell_type": "markdown",
   "id": "5a852821-6ebf-4986-bd58-af1e0bc7079d",
   "metadata": {},
   "source": [
    "### Data collection notes:\n",
    "Even if you are working with a dataset we have provided, try to describe the origin of this dataset in your words. \n",
    "\n",
    "- Do we need to collect more data, or augment the data? Do we need to merge multiple data sources together to create a unified dataset? [Write your answer here]\n",
    "- Describe the dataset. Who or what are the samples? Patients? Customers? Companies? Countries? [Write your answer here]\n",
    "- How many samples and features? What are the features (group them if more than 5 features)? [Write your answer here]\n",
    "- Who collected the data? What is the source? [Write your answer here]\n",
    "- Potential limitations e.g. from sampling biases, number of samples, etc. [Write your answer here]"
   ]
  },
  {
   "cell_type": "markdown",
   "id": "9a9ec13b-30e0-4a15-af52-6c6d42e0e39c",
   "metadata": {},
   "source": [
    "### Data preparation notes:\n",
    "Based on your data exploration results...\n",
    "- Is the data complete? Are there missing values or outliers that need to be addressed? Are there any inconsistencies or errors in the data that need to be corrected?\n",
    "    - Pandas isna(), notna(), dropna() \n",
    "- What preprocessing and cleaning steps are needed?\n",
    "- What format would be ideal?  Do the variables need to be transformed or scaled?\n",
    "- Do any categorical variables need to be converted into numerical values?\n",
    "- Are there any additional features that need to be created from the existing data?\n",
    "- Are there any duplicate or redundant observations that need to be removed?"
   ]
  },
  {
   "cell_type": "markdown",
   "id": "bbf328c9",
   "metadata": {},
   "source": [
    "## Part 4: Administrative details (5 mins)\n",
    "\n",
    "- Pick a (cool) team name: [Write your answer here]\n",
    "- Discuss roles for each team member!\n",
    "    - Scheduler: [Write your answer here]\n",
    "    - Recorder: [Write your answer here]\n",
    "    - Checker: [Write your answer here]\n",
    "    - Communicator: [Write your answer here]"
   ]
  },
  {
   "cell_type": "markdown",
   "id": "bdc8c405-c866-44cf-8d17-0fc160d87b1a",
   "metadata": {},
   "source": [
    "## Bonus: Risks and Timeline\n",
    "\n",
    "- What are potential risks or failures you foresee in this project? How would you proceed if that happens? [Write your answer here]\n",
    " \n",
    "\n",
    "- What is the planned (weekly or bi-weekly) timeline for this project? Remember that all assignments related to this course have to be submitted by the final exam date. [Write your answer here]"
   ]
  }
 ],
 "metadata": {
  "kernelspec": {
   "display_name": "Python 3 (ipykernel)",
   "language": "python",
   "name": "python3"
  },
  "language_info": {
   "codemirror_mode": {
    "name": "ipython",
    "version": 3
   },
   "file_extension": ".py",
   "mimetype": "text/x-python",
   "name": "python",
   "nbconvert_exporter": "python",
   "pygments_lexer": "ipython3",
   "version": "3.12.6"
  }
 },
 "nbformat": 4,
 "nbformat_minor": 5
}
